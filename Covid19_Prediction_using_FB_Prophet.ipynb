{
  "nbformat": 4,
  "nbformat_minor": 0,
  "metadata": {
    "colab": {
      "provenance": [],
      "authorship_tag": "ABX9TyOkyab93nGihx8EQMqFNPYS",
      "include_colab_link": true
    },
    "kernelspec": {
      "name": "python3",
      "display_name": "Python 3"
    },
    "language_info": {
      "name": "python"
    }
  },
  "cells": [
    {
      "cell_type": "markdown",
      "metadata": {
        "id": "view-in-github",
        "colab_type": "text"
      },
      "source": [
        "<a href=\"https://colab.research.google.com/github/ylmgrbzz/FbProphet-Projects/blob/main/Covid19_Prediction_using_FB_Prophet.ipynb\" target=\"_parent\"><img src=\"https://colab.research.google.com/assets/colab-badge.svg\" alt=\"Open In Colab\"/></a>"
      ]
    },
    {
      "cell_type": "code",
      "execution_count": 1,
      "metadata": {
        "id": "9WHfx1rbEf21"
      },
      "outputs": [],
      "source": [
        "import pandas as pd\n",
        "import matplotlib.pyplot as plt\n",
        "%matplotlib inline\n",
        "import seaborn as sns\n",
        "import plotly.express as px\n",
        "import plotly.graph_objects as go\n",
        "import plotly.offline as pyo\n",
        "from plotly.offline import init_notebook_mode,iplot\n",
        "import cufflinks as cf\n",
        "\n",
        "plt.rcParams['figure.figsize']=25,18\n",
        "import warnings\n",
        "warnings.filterwarnings('ignore')"
      ]
    },
    {
      "cell_type": "code",
      "source": [
        "pyo.init_notebook_mode(connected=True)\n",
        "cf.go_offline()"
      ],
      "metadata": {
        "colab": {
          "base_uri": "https://localhost:8080/",
          "height": 17
        },
        "id": "_L3GLbWlGcqe",
        "outputId": "b35a9582-1033-4f00-b218-e00ca5065607"
      },
      "execution_count": 2,
      "outputs": [
        {
          "output_type": "display_data",
          "data": {
            "text/html": [
              "        <script type=\"text/javascript\">\n",
              "        window.PlotlyConfig = {MathJaxConfig: 'local'};\n",
              "        if (window.MathJax) {MathJax.Hub.Config({SVG: {font: \"STIX-Web\"}});}\n",
              "        if (typeof require !== 'undefined') {\n",
              "        require.undef(\"plotly\");\n",
              "        requirejs.config({\n",
              "            paths: {\n",
              "                'plotly': ['https://cdn.plot.ly/plotly-2.8.3.min']\n",
              "            }\n",
              "        });\n",
              "        require(['plotly'], function(Plotly) {\n",
              "            window._Plotly = Plotly;\n",
              "        });\n",
              "        }\n",
              "        </script>\n",
              "        "
            ]
          },
          "metadata": {}
        },
        {
          "output_type": "display_data",
          "data": {
            "text/html": [
              "        <script type=\"text/javascript\">\n",
              "        window.PlotlyConfig = {MathJaxConfig: 'local'};\n",
              "        if (window.MathJax) {MathJax.Hub.Config({SVG: {font: \"STIX-Web\"}});}\n",
              "        if (typeof require !== 'undefined') {\n",
              "        require.undef(\"plotly\");\n",
              "        requirejs.config({\n",
              "            paths: {\n",
              "                'plotly': ['https://cdn.plot.ly/plotly-2.8.3.min']\n",
              "            }\n",
              "        });\n",
              "        require(['plotly'], function(Plotly) {\n",
              "            window._Plotly = Plotly;\n",
              "        });\n",
              "        }\n",
              "        </script>\n",
              "        "
            ]
          },
          "metadata": {}
        }
      ]
    },
    {
      "cell_type": "code",
      "source": [
        "df = pd.read_csv(\"covid_19_data.csv\")\n"
      ],
      "metadata": {
        "id": "bu7b2uOOGc_U"
      },
      "execution_count": 3,
      "outputs": []
    },
    {
      "cell_type": "code",
      "source": [
        "df.head()\n"
      ],
      "metadata": {
        "colab": {
          "base_uri": "https://localhost:8080/",
          "height": 206
        },
        "id": "4WOrIGgLGf9c",
        "outputId": "701fd22e-d25c-4879-d6c7-7911d886a973"
      },
      "execution_count": 4,
      "outputs": [
        {
          "output_type": "execute_result",
          "data": {
            "text/plain": [
              "   SNo ObservationDate Province/State  Country/Region      Last Update  \\\n",
              "0    1      01/22/2020          Anhui  Mainland China  1/22/2020 17:00   \n",
              "1    2      01/22/2020        Beijing  Mainland China  1/22/2020 17:00   \n",
              "2    3      01/22/2020      Chongqing  Mainland China  1/22/2020 17:00   \n",
              "3    4      01/22/2020         Fujian  Mainland China  1/22/2020 17:00   \n",
              "4    5      01/22/2020          Gansu  Mainland China  1/22/2020 17:00   \n",
              "\n",
              "   Confirmed  Deaths  Recovered  \n",
              "0        1.0     0.0        0.0  \n",
              "1       14.0     0.0        0.0  \n",
              "2        6.0     0.0        0.0  \n",
              "3        1.0     0.0        0.0  \n",
              "4        0.0     0.0        0.0  "
            ],
            "text/html": [
              "\n",
              "  <div id=\"df-2fb9628c-b36e-449b-b469-4bde6e6eaf2c\">\n",
              "    <div class=\"colab-df-container\">\n",
              "      <div>\n",
              "<style scoped>\n",
              "    .dataframe tbody tr th:only-of-type {\n",
              "        vertical-align: middle;\n",
              "    }\n",
              "\n",
              "    .dataframe tbody tr th {\n",
              "        vertical-align: top;\n",
              "    }\n",
              "\n",
              "    .dataframe thead th {\n",
              "        text-align: right;\n",
              "    }\n",
              "</style>\n",
              "<table border=\"1\" class=\"dataframe\">\n",
              "  <thead>\n",
              "    <tr style=\"text-align: right;\">\n",
              "      <th></th>\n",
              "      <th>SNo</th>\n",
              "      <th>ObservationDate</th>\n",
              "      <th>Province/State</th>\n",
              "      <th>Country/Region</th>\n",
              "      <th>Last Update</th>\n",
              "      <th>Confirmed</th>\n",
              "      <th>Deaths</th>\n",
              "      <th>Recovered</th>\n",
              "    </tr>\n",
              "  </thead>\n",
              "  <tbody>\n",
              "    <tr>\n",
              "      <th>0</th>\n",
              "      <td>1</td>\n",
              "      <td>01/22/2020</td>\n",
              "      <td>Anhui</td>\n",
              "      <td>Mainland China</td>\n",
              "      <td>1/22/2020 17:00</td>\n",
              "      <td>1.0</td>\n",
              "      <td>0.0</td>\n",
              "      <td>0.0</td>\n",
              "    </tr>\n",
              "    <tr>\n",
              "      <th>1</th>\n",
              "      <td>2</td>\n",
              "      <td>01/22/2020</td>\n",
              "      <td>Beijing</td>\n",
              "      <td>Mainland China</td>\n",
              "      <td>1/22/2020 17:00</td>\n",
              "      <td>14.0</td>\n",
              "      <td>0.0</td>\n",
              "      <td>0.0</td>\n",
              "    </tr>\n",
              "    <tr>\n",
              "      <th>2</th>\n",
              "      <td>3</td>\n",
              "      <td>01/22/2020</td>\n",
              "      <td>Chongqing</td>\n",
              "      <td>Mainland China</td>\n",
              "      <td>1/22/2020 17:00</td>\n",
              "      <td>6.0</td>\n",
              "      <td>0.0</td>\n",
              "      <td>0.0</td>\n",
              "    </tr>\n",
              "    <tr>\n",
              "      <th>3</th>\n",
              "      <td>4</td>\n",
              "      <td>01/22/2020</td>\n",
              "      <td>Fujian</td>\n",
              "      <td>Mainland China</td>\n",
              "      <td>1/22/2020 17:00</td>\n",
              "      <td>1.0</td>\n",
              "      <td>0.0</td>\n",
              "      <td>0.0</td>\n",
              "    </tr>\n",
              "    <tr>\n",
              "      <th>4</th>\n",
              "      <td>5</td>\n",
              "      <td>01/22/2020</td>\n",
              "      <td>Gansu</td>\n",
              "      <td>Mainland China</td>\n",
              "      <td>1/22/2020 17:00</td>\n",
              "      <td>0.0</td>\n",
              "      <td>0.0</td>\n",
              "      <td>0.0</td>\n",
              "    </tr>\n",
              "  </tbody>\n",
              "</table>\n",
              "</div>\n",
              "      <button class=\"colab-df-convert\" onclick=\"convertToInteractive('df-2fb9628c-b36e-449b-b469-4bde6e6eaf2c')\"\n",
              "              title=\"Convert this dataframe to an interactive table.\"\n",
              "              style=\"display:none;\">\n",
              "        \n",
              "  <svg xmlns=\"http://www.w3.org/2000/svg\" height=\"24px\"viewBox=\"0 0 24 24\"\n",
              "       width=\"24px\">\n",
              "    <path d=\"M0 0h24v24H0V0z\" fill=\"none\"/>\n",
              "    <path d=\"M18.56 5.44l.94 2.06.94-2.06 2.06-.94-2.06-.94-.94-2.06-.94 2.06-2.06.94zm-11 1L8.5 8.5l.94-2.06 2.06-.94-2.06-.94L8.5 2.5l-.94 2.06-2.06.94zm10 10l.94 2.06.94-2.06 2.06-.94-2.06-.94-.94-2.06-.94 2.06-2.06.94z\"/><path d=\"M17.41 7.96l-1.37-1.37c-.4-.4-.92-.59-1.43-.59-.52 0-1.04.2-1.43.59L10.3 9.45l-7.72 7.72c-.78.78-.78 2.05 0 2.83L4 21.41c.39.39.9.59 1.41.59.51 0 1.02-.2 1.41-.59l7.78-7.78 2.81-2.81c.8-.78.8-2.07 0-2.86zM5.41 20L4 18.59l7.72-7.72 1.47 1.35L5.41 20z\"/>\n",
              "  </svg>\n",
              "      </button>\n",
              "      \n",
              "  <style>\n",
              "    .colab-df-container {\n",
              "      display:flex;\n",
              "      flex-wrap:wrap;\n",
              "      gap: 12px;\n",
              "    }\n",
              "\n",
              "    .colab-df-convert {\n",
              "      background-color: #E8F0FE;\n",
              "      border: none;\n",
              "      border-radius: 50%;\n",
              "      cursor: pointer;\n",
              "      display: none;\n",
              "      fill: #1967D2;\n",
              "      height: 32px;\n",
              "      padding: 0 0 0 0;\n",
              "      width: 32px;\n",
              "    }\n",
              "\n",
              "    .colab-df-convert:hover {\n",
              "      background-color: #E2EBFA;\n",
              "      box-shadow: 0px 1px 2px rgba(60, 64, 67, 0.3), 0px 1px 3px 1px rgba(60, 64, 67, 0.15);\n",
              "      fill: #174EA6;\n",
              "    }\n",
              "\n",
              "    [theme=dark] .colab-df-convert {\n",
              "      background-color: #3B4455;\n",
              "      fill: #D2E3FC;\n",
              "    }\n",
              "\n",
              "    [theme=dark] .colab-df-convert:hover {\n",
              "      background-color: #434B5C;\n",
              "      box-shadow: 0px 1px 3px 1px rgba(0, 0, 0, 0.15);\n",
              "      filter: drop-shadow(0px 1px 2px rgba(0, 0, 0, 0.3));\n",
              "      fill: #FFFFFF;\n",
              "    }\n",
              "  </style>\n",
              "\n",
              "      <script>\n",
              "        const buttonEl =\n",
              "          document.querySelector('#df-2fb9628c-b36e-449b-b469-4bde6e6eaf2c button.colab-df-convert');\n",
              "        buttonEl.style.display =\n",
              "          google.colab.kernel.accessAllowed ? 'block' : 'none';\n",
              "\n",
              "        async function convertToInteractive(key) {\n",
              "          const element = document.querySelector('#df-2fb9628c-b36e-449b-b469-4bde6e6eaf2c');\n",
              "          const dataTable =\n",
              "            await google.colab.kernel.invokeFunction('convertToInteractive',\n",
              "                                                     [key], {});\n",
              "          if (!dataTable) return;\n",
              "\n",
              "          const docLinkHtml = 'Like what you see? Visit the ' +\n",
              "            '<a target=\"_blank\" href=https://colab.research.google.com/notebooks/data_table.ipynb>data table notebook</a>'\n",
              "            + ' to learn more about interactive tables.';\n",
              "          element.innerHTML = '';\n",
              "          dataTable['output_type'] = 'display_data';\n",
              "          await google.colab.output.renderOutput(dataTable, element);\n",
              "          const docLink = document.createElement('div');\n",
              "          docLink.innerHTML = docLinkHtml;\n",
              "          element.appendChild(docLink);\n",
              "        }\n",
              "      </script>\n",
              "    </div>\n",
              "  </div>\n",
              "  "
            ]
          },
          "metadata": {},
          "execution_count": 4
        }
      ]
    },
    {
      "cell_type": "code",
      "source": [
        "df.rename(columns={'Country/Region':'Country'}, inplace=True)\n"
      ],
      "metadata": {
        "id": "VRDluQLuGkuM"
      },
      "execution_count": 5,
      "outputs": []
    },
    {
      "cell_type": "code",
      "source": [
        "\n",
        "df.rename(columns={'Province/State':'State'}, inplace=True)\n"
      ],
      "metadata": {
        "id": "u3p5Ddg_GqRt"
      },
      "execution_count": 6,
      "outputs": []
    },
    {
      "cell_type": "code",
      "source": [
        "df.tail()\n"
      ],
      "metadata": {
        "colab": {
          "base_uri": "https://localhost:8080/",
          "height": 206
        },
        "id": "_ocqVc3LGrhd",
        "outputId": "cc3c841d-e4b7-4354-ef43-e30cfc346f22"
      },
      "execution_count": 7,
      "outputs": [
        {
          "output_type": "execute_result",
          "data": {
            "text/plain": [
              "           SNo ObservationDate              State         Country  \\\n",
              "172475  172476      12/06/2020  Zaporizhia Oblast         Ukraine   \n",
              "172476  172477      12/06/2020            Zeeland     Netherlands   \n",
              "172477  172478      12/06/2020           Zhejiang  Mainland China   \n",
              "172478  172479      12/06/2020    Zhytomyr Oblast         Ukraine   \n",
              "172479  172480      12/06/2020       Zuid-Holland     Netherlands   \n",
              "\n",
              "                Last Update  Confirmed  Deaths  Recovered  \n",
              "172475  2020-12-07 05:26:14    36539.0   337.0     6556.0  \n",
              "172476  2020-12-07 05:26:14     6710.0   104.0        0.0  \n",
              "172477  2020-12-07 05:26:14     1295.0     1.0     1288.0  \n",
              "172478  2020-12-07 05:26:14    31967.0   531.0    22263.0  \n",
              "172479  2020-12-07 05:26:14   154813.0  2414.0        0.0  "
            ],
            "text/html": [
              "\n",
              "  <div id=\"df-7435d0d0-3009-47ea-b997-26f5e7008719\">\n",
              "    <div class=\"colab-df-container\">\n",
              "      <div>\n",
              "<style scoped>\n",
              "    .dataframe tbody tr th:only-of-type {\n",
              "        vertical-align: middle;\n",
              "    }\n",
              "\n",
              "    .dataframe tbody tr th {\n",
              "        vertical-align: top;\n",
              "    }\n",
              "\n",
              "    .dataframe thead th {\n",
              "        text-align: right;\n",
              "    }\n",
              "</style>\n",
              "<table border=\"1\" class=\"dataframe\">\n",
              "  <thead>\n",
              "    <tr style=\"text-align: right;\">\n",
              "      <th></th>\n",
              "      <th>SNo</th>\n",
              "      <th>ObservationDate</th>\n",
              "      <th>State</th>\n",
              "      <th>Country</th>\n",
              "      <th>Last Update</th>\n",
              "      <th>Confirmed</th>\n",
              "      <th>Deaths</th>\n",
              "      <th>Recovered</th>\n",
              "    </tr>\n",
              "  </thead>\n",
              "  <tbody>\n",
              "    <tr>\n",
              "      <th>172475</th>\n",
              "      <td>172476</td>\n",
              "      <td>12/06/2020</td>\n",
              "      <td>Zaporizhia Oblast</td>\n",
              "      <td>Ukraine</td>\n",
              "      <td>2020-12-07 05:26:14</td>\n",
              "      <td>36539.0</td>\n",
              "      <td>337.0</td>\n",
              "      <td>6556.0</td>\n",
              "    </tr>\n",
              "    <tr>\n",
              "      <th>172476</th>\n",
              "      <td>172477</td>\n",
              "      <td>12/06/2020</td>\n",
              "      <td>Zeeland</td>\n",
              "      <td>Netherlands</td>\n",
              "      <td>2020-12-07 05:26:14</td>\n",
              "      <td>6710.0</td>\n",
              "      <td>104.0</td>\n",
              "      <td>0.0</td>\n",
              "    </tr>\n",
              "    <tr>\n",
              "      <th>172477</th>\n",
              "      <td>172478</td>\n",
              "      <td>12/06/2020</td>\n",
              "      <td>Zhejiang</td>\n",
              "      <td>Mainland China</td>\n",
              "      <td>2020-12-07 05:26:14</td>\n",
              "      <td>1295.0</td>\n",
              "      <td>1.0</td>\n",
              "      <td>1288.0</td>\n",
              "    </tr>\n",
              "    <tr>\n",
              "      <th>172478</th>\n",
              "      <td>172479</td>\n",
              "      <td>12/06/2020</td>\n",
              "      <td>Zhytomyr Oblast</td>\n",
              "      <td>Ukraine</td>\n",
              "      <td>2020-12-07 05:26:14</td>\n",
              "      <td>31967.0</td>\n",
              "      <td>531.0</td>\n",
              "      <td>22263.0</td>\n",
              "    </tr>\n",
              "    <tr>\n",
              "      <th>172479</th>\n",
              "      <td>172480</td>\n",
              "      <td>12/06/2020</td>\n",
              "      <td>Zuid-Holland</td>\n",
              "      <td>Netherlands</td>\n",
              "      <td>2020-12-07 05:26:14</td>\n",
              "      <td>154813.0</td>\n",
              "      <td>2414.0</td>\n",
              "      <td>0.0</td>\n",
              "    </tr>\n",
              "  </tbody>\n",
              "</table>\n",
              "</div>\n",
              "      <button class=\"colab-df-convert\" onclick=\"convertToInteractive('df-7435d0d0-3009-47ea-b997-26f5e7008719')\"\n",
              "              title=\"Convert this dataframe to an interactive table.\"\n",
              "              style=\"display:none;\">\n",
              "        \n",
              "  <svg xmlns=\"http://www.w3.org/2000/svg\" height=\"24px\"viewBox=\"0 0 24 24\"\n",
              "       width=\"24px\">\n",
              "    <path d=\"M0 0h24v24H0V0z\" fill=\"none\"/>\n",
              "    <path d=\"M18.56 5.44l.94 2.06.94-2.06 2.06-.94-2.06-.94-.94-2.06-.94 2.06-2.06.94zm-11 1L8.5 8.5l.94-2.06 2.06-.94-2.06-.94L8.5 2.5l-.94 2.06-2.06.94zm10 10l.94 2.06.94-2.06 2.06-.94-2.06-.94-.94-2.06-.94 2.06-2.06.94z\"/><path d=\"M17.41 7.96l-1.37-1.37c-.4-.4-.92-.59-1.43-.59-.52 0-1.04.2-1.43.59L10.3 9.45l-7.72 7.72c-.78.78-.78 2.05 0 2.83L4 21.41c.39.39.9.59 1.41.59.51 0 1.02-.2 1.41-.59l7.78-7.78 2.81-2.81c.8-.78.8-2.07 0-2.86zM5.41 20L4 18.59l7.72-7.72 1.47 1.35L5.41 20z\"/>\n",
              "  </svg>\n",
              "      </button>\n",
              "      \n",
              "  <style>\n",
              "    .colab-df-container {\n",
              "      display:flex;\n",
              "      flex-wrap:wrap;\n",
              "      gap: 12px;\n",
              "    }\n",
              "\n",
              "    .colab-df-convert {\n",
              "      background-color: #E8F0FE;\n",
              "      border: none;\n",
              "      border-radius: 50%;\n",
              "      cursor: pointer;\n",
              "      display: none;\n",
              "      fill: #1967D2;\n",
              "      height: 32px;\n",
              "      padding: 0 0 0 0;\n",
              "      width: 32px;\n",
              "    }\n",
              "\n",
              "    .colab-df-convert:hover {\n",
              "      background-color: #E2EBFA;\n",
              "      box-shadow: 0px 1px 2px rgba(60, 64, 67, 0.3), 0px 1px 3px 1px rgba(60, 64, 67, 0.15);\n",
              "      fill: #174EA6;\n",
              "    }\n",
              "\n",
              "    [theme=dark] .colab-df-convert {\n",
              "      background-color: #3B4455;\n",
              "      fill: #D2E3FC;\n",
              "    }\n",
              "\n",
              "    [theme=dark] .colab-df-convert:hover {\n",
              "      background-color: #434B5C;\n",
              "      box-shadow: 0px 1px 3px 1px rgba(0, 0, 0, 0.15);\n",
              "      filter: drop-shadow(0px 1px 2px rgba(0, 0, 0, 0.3));\n",
              "      fill: #FFFFFF;\n",
              "    }\n",
              "  </style>\n",
              "\n",
              "      <script>\n",
              "        const buttonEl =\n",
              "          document.querySelector('#df-7435d0d0-3009-47ea-b997-26f5e7008719 button.colab-df-convert');\n",
              "        buttonEl.style.display =\n",
              "          google.colab.kernel.accessAllowed ? 'block' : 'none';\n",
              "\n",
              "        async function convertToInteractive(key) {\n",
              "          const element = document.querySelector('#df-7435d0d0-3009-47ea-b997-26f5e7008719');\n",
              "          const dataTable =\n",
              "            await google.colab.kernel.invokeFunction('convertToInteractive',\n",
              "                                                     [key], {});\n",
              "          if (!dataTable) return;\n",
              "\n",
              "          const docLinkHtml = 'Like what you see? Visit the ' +\n",
              "            '<a target=\"_blank\" href=https://colab.research.google.com/notebooks/data_table.ipynb>data table notebook</a>'\n",
              "            + ' to learn more about interactive tables.';\n",
              "          element.innerHTML = '';\n",
              "          dataTable['output_type'] = 'display_data';\n",
              "          await google.colab.output.renderOutput(dataTable, element);\n",
              "          const docLink = document.createElement('div');\n",
              "          docLink.innerHTML = docLinkHtml;\n",
              "          element.appendChild(docLink);\n",
              "        }\n",
              "      </script>\n",
              "    </div>\n",
              "  </div>\n",
              "  "
            ]
          },
          "metadata": {},
          "execution_count": 7
        }
      ]
    },
    {
      "cell_type": "code",
      "source": [
        "df.info()\n"
      ],
      "metadata": {
        "colab": {
          "base_uri": "https://localhost:8080/"
        },
        "id": "RhVCi-ZPGscX",
        "outputId": "8194c03d-d4c9-49a4-deb7-98a1bfb8d5e7"
      },
      "execution_count": 8,
      "outputs": [
        {
          "output_type": "stream",
          "name": "stdout",
          "text": [
            "<class 'pandas.core.frame.DataFrame'>\n",
            "RangeIndex: 172480 entries, 0 to 172479\n",
            "Data columns (total 8 columns):\n",
            " #   Column           Non-Null Count   Dtype  \n",
            "---  ------           --------------   -----  \n",
            " 0   SNo              172480 non-null  int64  \n",
            " 1   ObservationDate  172480 non-null  object \n",
            " 2   State            124597 non-null  object \n",
            " 3   Country          172480 non-null  object \n",
            " 4   Last Update      172480 non-null  object \n",
            " 5   Confirmed        172480 non-null  float64\n",
            " 6   Deaths           172480 non-null  float64\n",
            " 7   Recovered        172480 non-null  float64\n",
            "dtypes: float64(3), int64(1), object(4)\n",
            "memory usage: 10.5+ MB\n"
          ]
        }
      ]
    },
    {
      "cell_type": "code",
      "source": [
        "df.isnull().sum()\n"
      ],
      "metadata": {
        "colab": {
          "base_uri": "https://localhost:8080/"
        },
        "id": "ZPOuV_ruGtvD",
        "outputId": "4161fa00-b1b9-4d93-9cb6-ff3c2a1b247a"
      },
      "execution_count": 9,
      "outputs": [
        {
          "output_type": "execute_result",
          "data": {
            "text/plain": [
              "SNo                    0\n",
              "ObservationDate        0\n",
              "State              47883\n",
              "Country                0\n",
              "Last Update            0\n",
              "Confirmed              0\n",
              "Deaths                 0\n",
              "Recovered              0\n",
              "dtype: int64"
            ]
          },
          "metadata": {},
          "execution_count": 9
        }
      ]
    },
    {
      "cell_type": "code",
      "source": [
        "df.describe()\n"
      ],
      "metadata": {
        "colab": {
          "base_uri": "https://localhost:8080/",
          "height": 300
        },
        "id": "JbP48iNHGvSN",
        "outputId": "d01b949a-570f-414d-d270-0860630e3763"
      },
      "execution_count": 10,
      "outputs": [
        {
          "output_type": "execute_result",
          "data": {
            "text/plain": [
              "                 SNo     Confirmed         Deaths     Recovered\n",
              "count  172480.000000  1.724800e+05  172480.000000  1.724800e+05\n",
              "mean    86240.500000  3.323156e+04    1050.030966  2.102825e+04\n",
              "std     49790.831552  1.031349e+05    3499.436401  1.156598e+05\n",
              "min         1.000000 -3.028440e+05    -178.000000 -8.544050e+05\n",
              "25%     43120.750000  4.570000e+02       6.000000  1.000000e+01\n",
              "50%     86240.500000  4.016500e+03      76.000000  8.580000e+02\n",
              "75%    129360.250000  1.884300e+04     554.000000  7.229000e+03\n",
              "max    172480.000000  2.290891e+06   54804.000000  5.624444e+06"
            ],
            "text/html": [
              "\n",
              "  <div id=\"df-20d1ba8d-d7d1-4ce7-9a35-c3c5fe8dbd73\">\n",
              "    <div class=\"colab-df-container\">\n",
              "      <div>\n",
              "<style scoped>\n",
              "    .dataframe tbody tr th:only-of-type {\n",
              "        vertical-align: middle;\n",
              "    }\n",
              "\n",
              "    .dataframe tbody tr th {\n",
              "        vertical-align: top;\n",
              "    }\n",
              "\n",
              "    .dataframe thead th {\n",
              "        text-align: right;\n",
              "    }\n",
              "</style>\n",
              "<table border=\"1\" class=\"dataframe\">\n",
              "  <thead>\n",
              "    <tr style=\"text-align: right;\">\n",
              "      <th></th>\n",
              "      <th>SNo</th>\n",
              "      <th>Confirmed</th>\n",
              "      <th>Deaths</th>\n",
              "      <th>Recovered</th>\n",
              "    </tr>\n",
              "  </thead>\n",
              "  <tbody>\n",
              "    <tr>\n",
              "      <th>count</th>\n",
              "      <td>172480.000000</td>\n",
              "      <td>1.724800e+05</td>\n",
              "      <td>172480.000000</td>\n",
              "      <td>1.724800e+05</td>\n",
              "    </tr>\n",
              "    <tr>\n",
              "      <th>mean</th>\n",
              "      <td>86240.500000</td>\n",
              "      <td>3.323156e+04</td>\n",
              "      <td>1050.030966</td>\n",
              "      <td>2.102825e+04</td>\n",
              "    </tr>\n",
              "    <tr>\n",
              "      <th>std</th>\n",
              "      <td>49790.831552</td>\n",
              "      <td>1.031349e+05</td>\n",
              "      <td>3499.436401</td>\n",
              "      <td>1.156598e+05</td>\n",
              "    </tr>\n",
              "    <tr>\n",
              "      <th>min</th>\n",
              "      <td>1.000000</td>\n",
              "      <td>-3.028440e+05</td>\n",
              "      <td>-178.000000</td>\n",
              "      <td>-8.544050e+05</td>\n",
              "    </tr>\n",
              "    <tr>\n",
              "      <th>25%</th>\n",
              "      <td>43120.750000</td>\n",
              "      <td>4.570000e+02</td>\n",
              "      <td>6.000000</td>\n",
              "      <td>1.000000e+01</td>\n",
              "    </tr>\n",
              "    <tr>\n",
              "      <th>50%</th>\n",
              "      <td>86240.500000</td>\n",
              "      <td>4.016500e+03</td>\n",
              "      <td>76.000000</td>\n",
              "      <td>8.580000e+02</td>\n",
              "    </tr>\n",
              "    <tr>\n",
              "      <th>75%</th>\n",
              "      <td>129360.250000</td>\n",
              "      <td>1.884300e+04</td>\n",
              "      <td>554.000000</td>\n",
              "      <td>7.229000e+03</td>\n",
              "    </tr>\n",
              "    <tr>\n",
              "      <th>max</th>\n",
              "      <td>172480.000000</td>\n",
              "      <td>2.290891e+06</td>\n",
              "      <td>54804.000000</td>\n",
              "      <td>5.624444e+06</td>\n",
              "    </tr>\n",
              "  </tbody>\n",
              "</table>\n",
              "</div>\n",
              "      <button class=\"colab-df-convert\" onclick=\"convertToInteractive('df-20d1ba8d-d7d1-4ce7-9a35-c3c5fe8dbd73')\"\n",
              "              title=\"Convert this dataframe to an interactive table.\"\n",
              "              style=\"display:none;\">\n",
              "        \n",
              "  <svg xmlns=\"http://www.w3.org/2000/svg\" height=\"24px\"viewBox=\"0 0 24 24\"\n",
              "       width=\"24px\">\n",
              "    <path d=\"M0 0h24v24H0V0z\" fill=\"none\"/>\n",
              "    <path d=\"M18.56 5.44l.94 2.06.94-2.06 2.06-.94-2.06-.94-.94-2.06-.94 2.06-2.06.94zm-11 1L8.5 8.5l.94-2.06 2.06-.94-2.06-.94L8.5 2.5l-.94 2.06-2.06.94zm10 10l.94 2.06.94-2.06 2.06-.94-2.06-.94-.94-2.06-.94 2.06-2.06.94z\"/><path d=\"M17.41 7.96l-1.37-1.37c-.4-.4-.92-.59-1.43-.59-.52 0-1.04.2-1.43.59L10.3 9.45l-7.72 7.72c-.78.78-.78 2.05 0 2.83L4 21.41c.39.39.9.59 1.41.59.51 0 1.02-.2 1.41-.59l7.78-7.78 2.81-2.81c.8-.78.8-2.07 0-2.86zM5.41 20L4 18.59l7.72-7.72 1.47 1.35L5.41 20z\"/>\n",
              "  </svg>\n",
              "      </button>\n",
              "      \n",
              "  <style>\n",
              "    .colab-df-container {\n",
              "      display:flex;\n",
              "      flex-wrap:wrap;\n",
              "      gap: 12px;\n",
              "    }\n",
              "\n",
              "    .colab-df-convert {\n",
              "      background-color: #E8F0FE;\n",
              "      border: none;\n",
              "      border-radius: 50%;\n",
              "      cursor: pointer;\n",
              "      display: none;\n",
              "      fill: #1967D2;\n",
              "      height: 32px;\n",
              "      padding: 0 0 0 0;\n",
              "      width: 32px;\n",
              "    }\n",
              "\n",
              "    .colab-df-convert:hover {\n",
              "      background-color: #E2EBFA;\n",
              "      box-shadow: 0px 1px 2px rgba(60, 64, 67, 0.3), 0px 1px 3px 1px rgba(60, 64, 67, 0.15);\n",
              "      fill: #174EA6;\n",
              "    }\n",
              "\n",
              "    [theme=dark] .colab-df-convert {\n",
              "      background-color: #3B4455;\n",
              "      fill: #D2E3FC;\n",
              "    }\n",
              "\n",
              "    [theme=dark] .colab-df-convert:hover {\n",
              "      background-color: #434B5C;\n",
              "      box-shadow: 0px 1px 3px 1px rgba(0, 0, 0, 0.15);\n",
              "      filter: drop-shadow(0px 1px 2px rgba(0, 0, 0, 0.3));\n",
              "      fill: #FFFFFF;\n",
              "    }\n",
              "  </style>\n",
              "\n",
              "      <script>\n",
              "        const buttonEl =\n",
              "          document.querySelector('#df-20d1ba8d-d7d1-4ce7-9a35-c3c5fe8dbd73 button.colab-df-convert');\n",
              "        buttonEl.style.display =\n",
              "          google.colab.kernel.accessAllowed ? 'block' : 'none';\n",
              "\n",
              "        async function convertToInteractive(key) {\n",
              "          const element = document.querySelector('#df-20d1ba8d-d7d1-4ce7-9a35-c3c5fe8dbd73');\n",
              "          const dataTable =\n",
              "            await google.colab.kernel.invokeFunction('convertToInteractive',\n",
              "                                                     [key], {});\n",
              "          if (!dataTable) return;\n",
              "\n",
              "          const docLinkHtml = 'Like what you see? Visit the ' +\n",
              "            '<a target=\"_blank\" href=https://colab.research.google.com/notebooks/data_table.ipynb>data table notebook</a>'\n",
              "            + ' to learn more about interactive tables.';\n",
              "          element.innerHTML = '';\n",
              "          dataTable['output_type'] = 'display_data';\n",
              "          await google.colab.output.renderOutput(dataTable, element);\n",
              "          const docLink = document.createElement('div');\n",
              "          docLink.innerHTML = docLinkHtml;\n",
              "          element.appendChild(docLink);\n",
              "        }\n",
              "      </script>\n",
              "    </div>\n",
              "  </div>\n",
              "  "
            ]
          },
          "metadata": {},
          "execution_count": 10
        }
      ]
    },
    {
      "cell_type": "code",
      "source": [
        "confirmed = df.groupby('ObservationDate').sum()['Confirmed'].reset_index()\n",
        "confirmed"
      ],
      "metadata": {
        "colab": {
          "base_uri": "https://localhost:8080/",
          "height": 424
        },
        "id": "i5YTY7Y-GwtD",
        "outputId": "554dab76-df9d-462c-c197-274ea51b8a93"
      },
      "execution_count": 11,
      "outputs": [
        {
          "output_type": "execute_result",
          "data": {
            "text/plain": [
              "    ObservationDate   Confirmed\n",
              "0        01/22/2020       555.0\n",
              "1        01/23/2020       653.0\n",
              "2        01/24/2020       941.0\n",
              "3        01/25/2020      1438.0\n",
              "4        01/26/2020      2118.0\n",
              "..              ...         ...\n",
              "315      12/02/2020  64530517.0\n",
              "316      12/03/2020  65221040.0\n",
              "317      12/04/2020  65899441.0\n",
              "318      12/05/2020  66540034.0\n",
              "319      12/06/2020  67073728.0\n",
              "\n",
              "[320 rows x 2 columns]"
            ],
            "text/html": [
              "\n",
              "  <div id=\"df-f0516311-db6b-48e9-9da7-35ea26dd15ee\">\n",
              "    <div class=\"colab-df-container\">\n",
              "      <div>\n",
              "<style scoped>\n",
              "    .dataframe tbody tr th:only-of-type {\n",
              "        vertical-align: middle;\n",
              "    }\n",
              "\n",
              "    .dataframe tbody tr th {\n",
              "        vertical-align: top;\n",
              "    }\n",
              "\n",
              "    .dataframe thead th {\n",
              "        text-align: right;\n",
              "    }\n",
              "</style>\n",
              "<table border=\"1\" class=\"dataframe\">\n",
              "  <thead>\n",
              "    <tr style=\"text-align: right;\">\n",
              "      <th></th>\n",
              "      <th>ObservationDate</th>\n",
              "      <th>Confirmed</th>\n",
              "    </tr>\n",
              "  </thead>\n",
              "  <tbody>\n",
              "    <tr>\n",
              "      <th>0</th>\n",
              "      <td>01/22/2020</td>\n",
              "      <td>555.0</td>\n",
              "    </tr>\n",
              "    <tr>\n",
              "      <th>1</th>\n",
              "      <td>01/23/2020</td>\n",
              "      <td>653.0</td>\n",
              "    </tr>\n",
              "    <tr>\n",
              "      <th>2</th>\n",
              "      <td>01/24/2020</td>\n",
              "      <td>941.0</td>\n",
              "    </tr>\n",
              "    <tr>\n",
              "      <th>3</th>\n",
              "      <td>01/25/2020</td>\n",
              "      <td>1438.0</td>\n",
              "    </tr>\n",
              "    <tr>\n",
              "      <th>4</th>\n",
              "      <td>01/26/2020</td>\n",
              "      <td>2118.0</td>\n",
              "    </tr>\n",
              "    <tr>\n",
              "      <th>...</th>\n",
              "      <td>...</td>\n",
              "      <td>...</td>\n",
              "    </tr>\n",
              "    <tr>\n",
              "      <th>315</th>\n",
              "      <td>12/02/2020</td>\n",
              "      <td>64530517.0</td>\n",
              "    </tr>\n",
              "    <tr>\n",
              "      <th>316</th>\n",
              "      <td>12/03/2020</td>\n",
              "      <td>65221040.0</td>\n",
              "    </tr>\n",
              "    <tr>\n",
              "      <th>317</th>\n",
              "      <td>12/04/2020</td>\n",
              "      <td>65899441.0</td>\n",
              "    </tr>\n",
              "    <tr>\n",
              "      <th>318</th>\n",
              "      <td>12/05/2020</td>\n",
              "      <td>66540034.0</td>\n",
              "    </tr>\n",
              "    <tr>\n",
              "      <th>319</th>\n",
              "      <td>12/06/2020</td>\n",
              "      <td>67073728.0</td>\n",
              "    </tr>\n",
              "  </tbody>\n",
              "</table>\n",
              "<p>320 rows × 2 columns</p>\n",
              "</div>\n",
              "      <button class=\"colab-df-convert\" onclick=\"convertToInteractive('df-f0516311-db6b-48e9-9da7-35ea26dd15ee')\"\n",
              "              title=\"Convert this dataframe to an interactive table.\"\n",
              "              style=\"display:none;\">\n",
              "        \n",
              "  <svg xmlns=\"http://www.w3.org/2000/svg\" height=\"24px\"viewBox=\"0 0 24 24\"\n",
              "       width=\"24px\">\n",
              "    <path d=\"M0 0h24v24H0V0z\" fill=\"none\"/>\n",
              "    <path d=\"M18.56 5.44l.94 2.06.94-2.06 2.06-.94-2.06-.94-.94-2.06-.94 2.06-2.06.94zm-11 1L8.5 8.5l.94-2.06 2.06-.94-2.06-.94L8.5 2.5l-.94 2.06-2.06.94zm10 10l.94 2.06.94-2.06 2.06-.94-2.06-.94-.94-2.06-.94 2.06-2.06.94z\"/><path d=\"M17.41 7.96l-1.37-1.37c-.4-.4-.92-.59-1.43-.59-.52 0-1.04.2-1.43.59L10.3 9.45l-7.72 7.72c-.78.78-.78 2.05 0 2.83L4 21.41c.39.39.9.59 1.41.59.51 0 1.02-.2 1.41-.59l7.78-7.78 2.81-2.81c.8-.78.8-2.07 0-2.86zM5.41 20L4 18.59l7.72-7.72 1.47 1.35L5.41 20z\"/>\n",
              "  </svg>\n",
              "      </button>\n",
              "      \n",
              "  <style>\n",
              "    .colab-df-container {\n",
              "      display:flex;\n",
              "      flex-wrap:wrap;\n",
              "      gap: 12px;\n",
              "    }\n",
              "\n",
              "    .colab-df-convert {\n",
              "      background-color: #E8F0FE;\n",
              "      border: none;\n",
              "      border-radius: 50%;\n",
              "      cursor: pointer;\n",
              "      display: none;\n",
              "      fill: #1967D2;\n",
              "      height: 32px;\n",
              "      padding: 0 0 0 0;\n",
              "      width: 32px;\n",
              "    }\n",
              "\n",
              "    .colab-df-convert:hover {\n",
              "      background-color: #E2EBFA;\n",
              "      box-shadow: 0px 1px 2px rgba(60, 64, 67, 0.3), 0px 1px 3px 1px rgba(60, 64, 67, 0.15);\n",
              "      fill: #174EA6;\n",
              "    }\n",
              "\n",
              "    [theme=dark] .colab-df-convert {\n",
              "      background-color: #3B4455;\n",
              "      fill: #D2E3FC;\n",
              "    }\n",
              "\n",
              "    [theme=dark] .colab-df-convert:hover {\n",
              "      background-color: #434B5C;\n",
              "      box-shadow: 0px 1px 3px 1px rgba(0, 0, 0, 0.15);\n",
              "      filter: drop-shadow(0px 1px 2px rgba(0, 0, 0, 0.3));\n",
              "      fill: #FFFFFF;\n",
              "    }\n",
              "  </style>\n",
              "\n",
              "      <script>\n",
              "        const buttonEl =\n",
              "          document.querySelector('#df-f0516311-db6b-48e9-9da7-35ea26dd15ee button.colab-df-convert');\n",
              "        buttonEl.style.display =\n",
              "          google.colab.kernel.accessAllowed ? 'block' : 'none';\n",
              "\n",
              "        async function convertToInteractive(key) {\n",
              "          const element = document.querySelector('#df-f0516311-db6b-48e9-9da7-35ea26dd15ee');\n",
              "          const dataTable =\n",
              "            await google.colab.kernel.invokeFunction('convertToInteractive',\n",
              "                                                     [key], {});\n",
              "          if (!dataTable) return;\n",
              "\n",
              "          const docLinkHtml = 'Like what you see? Visit the ' +\n",
              "            '<a target=\"_blank\" href=https://colab.research.google.com/notebooks/data_table.ipynb>data table notebook</a>'\n",
              "            + ' to learn more about interactive tables.';\n",
              "          element.innerHTML = '';\n",
              "          dataTable['output_type'] = 'display_data';\n",
              "          await google.colab.output.renderOutput(dataTable, element);\n",
              "          const docLink = document.createElement('div');\n",
              "          docLink.innerHTML = docLinkHtml;\n",
              "          element.appendChild(docLink);\n",
              "        }\n",
              "      </script>\n",
              "    </div>\n",
              "  </div>\n",
              "  "
            ]
          },
          "metadata": {},
          "execution_count": 11
        }
      ]
    },
    {
      "cell_type": "code",
      "source": [
        "confirmed.plot(kind='bar',x='ObservationDate',y='Confirmed')\n",
        "plt.show()"
      ],
      "metadata": {
        "colab": {
          "base_uri": "https://localhost:8080/",
          "height": 858
        },
        "id": "yq34MB8QGx5r",
        "outputId": "00546aa9-719c-487e-a96d-e43d32534205"
      },
      "execution_count": 12,
      "outputs": [
        {
          "output_type": "display_data",
          "data": {
            "text/plain": [
              "<Figure size 1800x1296 with 1 Axes>"
            ],
            "image/png": "[encoded data removed]"
          },
          "metadata": {
            "needs_background": "light"
          }
        }
      ]
    },
    {
      "cell_type": "code",
      "source": [
        "confirmed.iplot(kind='bar',x='ObservationDate',y='Confirmed',xTitle='ObservationDate',yTitle=\"Confirmed\")\n"
      ],
      "metadata": {
        "colab": {
          "base_uri": "https://localhost:8080/",
          "height": 542
        },
        "id": "9QurHprwGzKx",
        "outputId": "c5e508a0-27f4-4b1b-c015-e2249d32755f"
      },
      "execution_count": 13,
      "outputs": [
        {
          "output_type": "display_data",
          "data": {
            "application/vnd.plotly.v1+json": {
              "data": [
                {
                  "marker": {
                    "color": "rgba(255, 153, 51, 0.6)",
                    "line": {
                      "color": "rgba(255, 153, 51, 1.0)",
                      "width": 1
                    }
                  },
                  "name": "Confirmed",
                  "orientation": "v",
                  "text": "",
                  "x": [
                    "01/22/2020",
                    "01/23/2020",
                    "01/24/2020",
                    "01/25/2020",
                    "01/26/2020",
                    "01/27/2020",
                    "01/28/2020",
                    "01/29/2020",
                    "01/30/2020",
                    "01/31/2020",
                    "02/01/2020",
                    "02/02/2020",
                    "02/03/2020",
                    "02/04/2020",
                    "02/05/2020",
                    "02/06/2020",
                    "02/07/2020",
                    "02/08/2020",
                    "02/09/2020",
                    "02/10/2020",
                    "02/11/2020",
                    "02/12/2020",
                    "02/13/2020",
                    "02/14/2020",
                    "02/15/2020",
                    "02/16/2020",
                    "02/17/2020",
                    "02/18/2020",
                    "02/19/2020",
                    "02/20/2020",
                    "02/21/2020",
                    "02/22/2020",
                    "02/23/2020",
                    "02/24/2020",
                    "02/25/2020",
                    "02/26/2020",
                    "02/27/2020",
                    "02/28/2020",
                    "02/29/2020",
                    "03/01/2020",
                    "03/02/2020",
                    "03/03/2020",
                    "03/04/2020",
                    "03/05/2020",
                    "03/06/2020",
                    "03/07/2020",
                    "03/08/2020",
                    "03/09/2020",
                    "03/10/2020",
                    "03/11/2020",
                    "03/12/2020",
                    "03/13/2020",
                    "03/14/2020",
                    "03/15/2020",
                    "03/16/2020",
                    "03/17/2020",
                    "03/18/2020",
                    "03/19/2020",
                    "03/20/2020",
                    "03/21/2020",
                    "03/22/2020",
                    "03/23/2020",
                    "03/24/2020",
                    "03/25/2020",
                    "03/26/2020",
                    "03/27/2020",
                    "03/28/2020",
                    "03/29/2020",
                    "03/30/2020",
                    "03/31/2020",
                    "04/01/2020",
                    "04/02/2020",
                    "04/03/2020",
                    "04/04/2020",
                    "04/05/2020",
                    "04/06/2020",
                    "04/07/2020",
                    "04/08/2020",
                    "04/09/2020",
                    "04/10/2020",
                    "04/11/2020",
                    "04/12/2020",
                    "04/13/2020",
                    "04/14/2020",
                    "04/15/2020",
                    "04/16/2020",
                    "04/17/2020",
                    "04/18/2020",
                    "04/19/2020",
                    "04/20/2020",
                    "04/21/2020",
                    "04/22/2020",
                    "04/23/2020",
                    "04/24/2020",
                    "04/25/2020",
                    "04/26/2020",
                    "04/27/2020",
                    "04/28/2020",
                    "04/29/2020",
                    "04/30/2020",
                    "05/01/2020",
                    "05/02/2020",
                    "05/03/2020",
                    "05/04/2020",
                    "05/05/2020",
                    "05/06/2020",
                    "05/07/2020",
                    "05/08/2020",
                    "05/09/2020",
                    "05/10/2020",
                    "05/11/2020",
                    "05/12/2020",
                    "05/13/2020",
                    "05/14/2020",
                    "05/15/2020",
                    "05/16/2020",
                    "05/17/2020",
                    "05/18/2020",
                    "05/19/2020",
                    "05/20/2020",
                    "05/21/2020",
                    "05/22/2020",
                    "05/23/2020",
                    "05/24/2020",
                    "05/25/2020",
                    "05/26/2020",
                    "05/27/2020",
                    "05/28/2020",
                    "05/29/2020",
                    "05/30/2020",
                    "05/31/2020",
                    "06/01/2020",
                    "06/02/2020",
                    "06/03/2020",
                    "06/04/2020",
                    "06/05/2020",
                    "06/06/2020",
                    "06/07/2020",
                    "06/08/2020",
                    "06/09/2020",
                    "06/10/2020",
                    "06/11/2020",
                    "06/12/2020",
                    "06/13/2020",
                    "06/14/2020",
                    "06/15/2020",
                    "06/16/2020",
                    "06/17/2020",
                    "06/18/2020",
                    "06/19/2020",
                    "06/20/2020",
                    "06/21/2020",
                    "06/22/2020",
                    "06/23/2020",
                    "06/24/2020",
                    "06/25/2020",
                    "06/26/2020",
                    "06/27/2020",
                    "06/28/2020",
                    "06/29/2020",
                    "06/30/2020",
                    "07/01/2020",
                    "07/02/2020",
                    "07/03/2020",
                    "07/04/2020",
                    "07/05/2020",
                    "07/06/2020",
                    "07/07/2020",
                    "07/08/2020",
                    "07/09/2020",
                    "07/10/2020",
                    "07/11/2020",
                    "07/12/2020",
                    "07/13/2020",
                    "07/14/2020",
                    "07/15/2020",
                    "07/16/2020",
                    "07/17/2020",
                    "07/18/2020",
                    "07/19/2020",
                    "07/20/2020",
                    "07/21/2020",
                    "07/22/2020",
                    "07/23/2020",
                    "07/24/2020",
                    "07/25/2020",
                    "07/26/2020",
                    "07/27/2020",
                    "07/28/2020",
                    "07/29/2020",
                    "07/30/2020",
                    "07/31/2020",
                    "08/01/2020",
                    "08/02/2020",
                    "08/03/2020",
                    "08/04/2020",
                    "08/05/2020",
                    "08/06/2020",
                    "08/07/2020",
                    "08/08/2020",
                    "08/09/2020",
                    "08/10/2020",
                    "08/11/2020",
                    "08/12/2020",
                    "08/13/2020",
                    "08/14/2020",
                    "08/15/2020",
                    "08/16/2020",
                    "08/17/2020",
                    "08/18/2020",
                    "08/19/2020",
                    "08/20/2020",
                    "08/21/2020",
                    "08/22/2020",
                    "08/23/2020",
                    "08/24/2020",
                    "08/25/2020",
                    "08/26/2020",
                    "08/27/2020",
                    "08/28/2020",
                    "08/29/2020",
                    "08/30/2020",
                    "08/31/2020",
                    "09/01/2020",
                    "09/02/2020",
                    "09/03/2020",
                    "09/04/2020",
                    "09/05/2020",
                    "09/06/2020",
                    "09/07/2020",
                    "09/08/2020",
                    "09/09/2020",
                    "09/10/2020",
                    "09/11/2020",
                    "09/12/2020",
                    "09/13/2020",
                    "09/14/2020",
                    "09/15/2020",
                    "09/16/2020",
                    "09/17/2020",
                    "09/18/2020",
                    "09/19/2020",
                    "09/20/2020",
                    "09/21/2020",
                    "09/22/2020",
                    "09/23/2020",
                    "09/24/2020",
                    "09/25/2020",
                    "09/26/2020",
                    "09/27/2020",
                    "09/28/2020",
                    "09/29/2020",
                    "09/30/2020",
                    "10/01/2020",
                    "10/02/2020",
                    "10/03/2020",
                    "10/04/2020",
                    "10/05/2020",
                    "10/06/2020",
                    "10/07/2020",
                    "10/08/2020",
                    "10/09/2020",
                    "10/10/2020",
                    "10/11/2020",
                    "10/12/2020",
                    "10/13/2020",
                    "10/14/2020",
                    "10/15/2020",
                    "10/16/2020",
                    "10/17/2020",
                    "10/18/2020",
                    "10/19/2020",
                    "10/20/2020",
                    "10/21/2020",
                    "10/22/2020",
                    "10/23/2020",
                    "10/24/2020",
                    "10/25/2020",
                    "10/26/2020",
                    "10/27/2020",
                    "10/28/2020",
                    "10/29/2020",
                    "10/30/2020",
                    "10/31/2020",
                    "11/01/2020",
                    "11/02/2020",
                    "11/03/2020",
                    "11/04/2020",
                    "11/05/2020",
                    "11/06/2020",
                    "11/07/2020",
                    "11/08/2020",
                    "11/09/2020",
                    "11/10/2020",
                    "11/11/2020",
                    "11/12/2020",
                    "11/13/2020",
                    "11/14/2020",
                    "11/15/2020",
                    "11/16/2020",
                    "11/17/2020",
                    "11/18/2020",
                    "11/19/2020",
                    "11/20/2020",
                    "11/21/2020",
                    "11/22/2020",
                    "11/23/2020",
                    "11/24/2020",
                    "11/25/2020",
                    "11/26/2020",
                    "11/27/2020",
                    "11/28/2020",
                    "11/29/2020",
                    "11/30/2020",
                    "12/01/2020",
                    "12/02/2020",
                    "12/03/2020",
                    "12/04/2020",
                    "12/05/2020",
                    "12/06/2020"
                  ],
                  "y": [
                    555,
                    653,
                    941,
                    1438,
                    2118,
                    2927,
                    5578,
                    6165,
                    8235,
                    9925,
                    12038,
                    16787,
                    19881,
                    23892,
                    27636,
                    30818,
                    34392,
                    37121,
                    40151,
                    42763,
                    44803,
                    45222,
                    60370,
                    66887,
                    69032,
                    71226,
                    73260,
                    75138,
                    75641,
                    76199,
                    76843,
                    78599,
                    78985,
                    79570,
                    80415,
                    81397,
                    82756,
                    84126,
                    86012,
                    88368,
                    90311,
                    92848,
                    95127,
                    97890,
                    101803,
                    105843,
                    109831,
                    113584,
                    118598,
                    125850,
                    128329,
                    145185,
                    156086,
                    167411,
                    181576,
                    197211,
                    214984,
                    242675,
                    272271,
                    304686,
                    337337,
                    378496,
                    418113,
                    467795,
                    529929,
                    593755,
                    661079,
                    720379,
                    782777,
                    857923,
                    933022,
                    1013683,
                    1096323,
                    1197842,
                    1272554,
                    1345516,
                    1426556,
                    1511925,
                    1595883,
                    1692129,
                    1771874,
                    1847158,
                    1917813,
                    1976597,
                    2056473,
                    2152982,
                    2240463,
                    2318115,
                    2401793,
                    2472748,
                    2549777,
                    2624210,
                    2709001,
                    2810846,
                    2897022,
                    2971484,
                    3041801,
                    3116433,
                    3194001,
                    3256872,
                    3343811,
                    3427330,
                    3506711,
                    3583054,
                    3662703,
                    3755383,
                    3845751,
                    3938053,
                    4023996,
                    4101718,
                    4177554,
                    4262250,
                    4347117,
                    4442187,
                    4542434,
                    4634160,
                    4713938,
                    4802250,
                    4897911,
                    4996699,
                    5102706,
                    5211095,
                    5310590,
                    5407770,
                    5495312,
                    5589892,
                    5692058,
                    5809201,
                    5924579,
                    6059580,
                    6167240,
                    6265803,
                    6386396,
                    6508780,
                    6633259,
                    6770788,
                    6897255,
                    7010890,
                    7119336,
                    7242787,
                    7361033,
                    7515109,
                    7633563,
                    7767825,
                    7901602,
                    8034802,
                    8174235,
                    8350863,
                    8489712,
                    8669002,
                    8792045,
                    8955724,
                    9099077,
                    9264445,
                    9431600,
                    9610853,
                    9802731,
                    9979597,
                    10147630,
                    10302906,
                    10476542,
                    10693414,
                    10871458,
                    11075858,
                    11267874,
                    11450012,
                    11620700,
                    11830769,
                    12043204,
                    12269842,
                    12501223,
                    12719487,
                    12912292,
                    13105674,
                    13325536,
                    13557184,
                    13806859,
                    14057111,
                    14294115,
                    14508480,
                    14708759,
                    14948414,
                    15229528,
                    15512296,
                    15794238,
                    16047954,
                    16253917,
                    16488306,
                    16692185,
                    17030374,
                    17311142,
                    17602717,
                    17853438,
                    18085432,
                    18288839,
                    18547794,
                    18821778,
                    19108417,
                    19391413,
                    19650776,
                    19877146,
                    20104115,
                    20358584,
                    20647536,
                    20923582,
                    21227966,
                    21478639,
                    21692830,
                    21903322,
                    22159334,
                    22434291,
                    22702197,
                    22973890,
                    23228234,
                    23446173,
                    23672249,
                    23915497,
                    24202913,
                    24478374,
                    24762431,
                    25024984,
                    25251910,
                    25514343,
                    25779789,
                    26062335,
                    26336042,
                    26641939,
                    26903989,
                    27136466,
                    27365237,
                    27603692,
                    27897954,
                    28196288,
                    28517136,
                    28793840,
                    29030157,
                    29226390,
                    29595702,
                    29898874,
                    30213892,
                    30539380,
                    30819231,
                    31061876,
                    31361168,
                    31645908,
                    31908027,
                    32272107,
                    32607567,
                    32882196,
                    33126207,
                    33399097,
                    33685733,
                    34012807,
                    34325135,
                    34630305,
                    34932269,
                    35195839,
                    35521068,
                    35851182,
                    36199598,
                    36561518,
                    36921914,
                    37251629,
                    37522839,
                    37847918,
                    38176649,
                    38557707,
                    38965262,
                    39376147,
                    39717066,
                    40004032,
                    40452420,
                    40841219,
                    41284867,
                    41757568,
                    42262804,
                    42672832,
                    43065402,
                    43557752,
                    44028246,
                    44544388,
                    45083311,
                    45648888,
                    46134747,
                    46576038,
                    47026322,
                    47505781,
                    48190669,
                    48784637,
                    49427232,
                    49938517,
                    50504208,
                    50972113,
                    51532980,
                    52178388,
                    52825724,
                    53474847,
                    54068784,
                    54542437,
                    55070751,
                    55679719,
                    56303790,
                    56954557,
                    57620415,
                    58206750,
                    58691023,
                    59212722,
                    59801025,
                    60434070,
                    61015384,
                    61687701,
                    62286402,
                    62773116,
                    63279026,
                    63883985,
                    64530517,
                    65221040,
                    65899441,
                    66540034,
                    67073728
                  ],
                  "type": "bar"
                }
              ],
              "layout": {
                "legend": {
                  "bgcolor": "#F5F6F9",
                  "font": {
                    "color": "#4D5663"
                  }
                },
                "paper_bgcolor": "#F5F6F9",
                "plot_bgcolor": "#F5F6F9",
                "template": {
                  "data": {
                    "barpolar": [
                      {
                        "marker": {
                          "line": {
                            "color": "#E5ECF6",
                            "width": 0.5
                          },
                          "pattern": {
                            "fillmode": "overlay",
                            "size": 10,
                            "solidity": 0.2
                          }
                        },
                        "type": "barpolar"
                      }
                    ],
                    "bar": [
                      {
                        "error_x": {
                          "color": "#2a3f5f"
                        },
                        "error_y": {
                          "color": "#2a3f5f"
                        },
                        "marker": {
                          "line": {
                            "color": "#E5ECF6",
                            "width": 0.5
                          },
                          "pattern": {
                            "fillmode": "overlay",
                            "size": 10,
                            "solidity": 0.2
                          }
                        },
                        "type": "bar"
                      }
                    ],
                    "carpet": [
                      {
                        "aaxis": {
                          "endlinecolor": "#2a3f5f",
                          "gridcolor": "white",
                          "linecolor": "white",
                          "minorgridcolor": "white",
                          "startlinecolor": "#2a3f5f"
                        },
                        "baxis": {
                          "endlinecolor": "#2a3f5f",
                          "gridcolor": "white",
                          "linecolor": "white",
                          "minorgridcolor": "white",
                          "startlinecolor": "#2a3f5f"
                        },
                        "type": "carpet"
                      }
                    ],
                    "choropleth": [
                      {
                        "colorbar": {
                          "outlinewidth": 0,
                          "ticks": ""
                        },
                        "type": "choropleth"
                      }
                    ],
                    "contourcarpet": [
                      {
                        "colorbar": {
                          "outlinewidth": 0,
                          "ticks": ""
                        },
                        "type": "contourcarpet"
                      }
                    ],
                    "contour": [
                      {
                        "colorbar": {
                          "outlinewidth": 0,
                          "ticks": ""
                        },
                        "colorscale": [
                          [
                            0,
                            "#0d0887"
                          ],
                          [
                            0.1111111111111111,
                            "#46039f"
                          ],
                          [
                            0.2222222222222222,
                            "#7201a8"
                          ],
                          [
                            0.3333333333333333,
                            "#9c179e"
                          ],
                          [
                            0.4444444444444444,
                            "#bd3786"
                          ],
                          [
                            0.5555555555555556,
                            "#d8576b"
                          ],
                          [
                            0.6666666666666666,
                            "#ed7953"
                          ],
                          [
                            0.7777777777777778,
                            "#fb9f3a"
                          ],
                          [
                            0.8888888888888888,
                            "#fdca26"
                          ],
                          [
                            1,
                            "#f0f921"
                          ]
                        ],
                        "type": "contour"
                      }
                    ],
                    "heatmapgl": [
                      {
                        "colorbar": {
                          "outlinewidth": 0,
                          "ticks": ""
                        },
                        "colorscale": [
                          [
                            0,
                            "#0d0887"
                          ],
                          [
                            0.1111111111111111,
                            "#46039f"
                          ],
                          [
                            0.2222222222222222,
                            "#7201a8"
                          ],
                          [
                            0.3333333333333333,
                            "#9c179e"
                          ],
                          [
                            0.4444444444444444,
                            "#bd3786"
                          ],
                          [
                            0.5555555555555556,
                            "#d8576b"
                          ],
                          [
                            0.6666666666666666,
                            "#ed7953"
                          ],
                          [
                            0.7777777777777778,
                            "#fb9f3a"
                          ],
                          [
                            0.8888888888888888,
                            "#fdca26"
                          ],
                          [
                            1,
                            "#f0f921"
                          ]
                        ],
                        "type": "heatmapgl"
                      }
                    ],
                    "heatmap": [
                      {
                        "colorbar": {
                          "outlinewidth": 0,
                          "ticks": ""
                        },
                        "colorscale": [
                          [
                            0,
                            "#0d0887"
                          ],
                          [
                            0.1111111111111111,
                            "#46039f"
                          ],
                          [
                            0.2222222222222222,
                            "#7201a8"
                          ],
                          [
                            0.3333333333333333,
                            "#9c179e"
                          ],
                          [
                            0.4444444444444444,
                            "#bd3786"
                          ],
                          [
                            0.5555555555555556,
                            "#d8576b"
                          ],
                          [
                            0.6666666666666666,
                            "#ed7953"
                          ],
                          [
                            0.7777777777777778,
                            "#fb9f3a"
                          ],
                          [
                            0.8888888888888888,
                            "#fdca26"
                          ],
                          [
                            1,
                            "#f0f921"
                          ]
                        ],
                        "type": "heatmap"
                      }
                    ],
                    "histogram2dcontour": [
                      {
                        "colorbar": {
                          "outlinewidth": 0,
                          "ticks": ""
                        },
                        "colorscale": [
                          [
                            0,
                            "#0d0887"
                          ],
                          [
                            0.1111111111111111,
                            "#46039f"
                          ],
                          [
                            0.2222222222222222,
                            "#7201a8"
                          ],
                          [
                            0.3333333333333333,
                            "#9c179e"
                          ],
                          [
                            0.4444444444444444,
                            "#bd3786"
                          ],
                          [
                            0.5555555555555556,
                            "#d8576b"
                          ],
                          [
                            0.6666666666666666,
                            "#ed7953"
                          ],
                          [
                            0.7777777777777778,
                            "#fb9f3a"
                          ],
                          [
                            0.8888888888888888,
                            "#fdca26"
                          ],
                          [
                            1,
                            "#f0f921"
                          ]
                        ],
                        "type": "histogram2dcontour"
                      }
                    ],
                    "histogram2d": [
                      {
                        "colorbar": {
                          "outlinewidth": 0,
                          "ticks": ""
                        },
                        "colorscale": [
                          [
                            0,
                            "#0d0887"
                          ],
                          [
                            0.1111111111111111,
                            "#46039f"
                          ],
                          [
                            0.2222222222222222,
                            "#7201a8"
                          ],
                          [
                            0.3333333333333333,
                            "#9c179e"
                          ],
                          [
                            0.4444444444444444,
                            "#bd3786"
                          ],
                          [
                            0.5555555555555556,
                            "#d8576b"
                          ],
                          [
                            0.6666666666666666,
                            "#ed7953"
                          ],
                          [
                            0.7777777777777778,
                            "#fb9f3a"
                          ],
                          [
                            0.8888888888888888,
                            "#fdca26"
                          ],
                          [
                            1,
                            "#f0f921"
                          ]
                        ],
                        "type": "histogram2d"
                      }
                    ],
                    "histogram": [
                      {
                        "marker": {
                          "pattern": {
                            "fillmode": "overlay",
                            "size": 10,
                            "solidity": 0.2
                          }
                        },
                        "type": "histogram"
                      }
                    ],
                    "mesh3d": [
                      {
                        "colorbar": {
                          "outlinewidth": 0,
                          "ticks": ""
                        },
                        "type": "mesh3d"
                      }
                    ],
                    "parcoords": [
                      {
                        "line": {
                          "colorbar": {
                            "outlinewidth": 0,
                            "ticks": ""
                          }
                        },
                        "type": "parcoords"
                      }
                    ],
                    "pie": [
                      {
                        "automargin": true,
                        "type": "pie"
                      }
                    ],
                    "scatter3d": [
                      {
                        "line": {
                          "colorbar": {
                            "outlinewidth": 0,
                            "ticks": ""
                          }
                        },
                        "marker": {
                          "colorbar": {
                            "outlinewidth": 0,
                            "ticks": ""
                          }
                        },
                        "type": "scatter3d"
                      }
                    ],
                    "scattercarpet": [
                      {
                        "marker": {
                          "colorbar": {
                            "outlinewidth": 0,
                            "ticks": ""
                          }
                        },
                        "type": "scattercarpet"
                      }
                    ],
                    "scattergeo": [
                      {
                        "marker": {
                          "colorbar": {
                            "outlinewidth": 0,
                            "ticks": ""
                          }
                        },
                        "type": "scattergeo"
                      }
                    ],
                    "scattergl": [
                      {
                        "marker": {
                          "colorbar": {
                            "outlinewidth": 0,
                            "ticks": ""
                          }
                        },
                        "type": "scattergl"
                      }
                    ],
                    "scattermapbox": [
                      {
                        "marker": {
                          "colorbar": {
                            "outlinewidth": 0,
                            "ticks": ""
                          }
                        },
                        "type": "scattermapbox"
                      }
                    ],
                    "scatterpolargl": [
                      {
                        "marker": {
                          "colorbar": {
                            "outlinewidth": 0,
                            "ticks": ""
                          }
                        },
                        "type": "scatterpolargl"
                      }
                    ],
                    "scatterpolar": [
                      {
                        "marker": {
                          "colorbar": {
                            "outlinewidth": 0,
                            "ticks": ""
                          }
                        },
                        "type": "scatterpolar"
                      }
                    ],
                    "scatter": [
                      {
                        "marker": {
                          "colorbar": {
                            "outlinewidth": 0,
                            "ticks": ""
                          }
                        },
                        "type": "scatter"
                      }
                    ],
                    "scatterternary": [
                      {
                        "marker": {
                          "colorbar": {
                            "outlinewidth": 0,
                            "ticks": ""
                          }
                        },
                        "type": "scatterternary"
                      }
                    ],
                    "surface": [
                      {
                        "colorbar": {
                          "outlinewidth": 0,
                          "ticks": ""
                        },
                        "colorscale": [
                          [
                            0,
                            "#0d0887"
                          ],
                          [
                            0.1111111111111111,
                            "#46039f"
                          ],
                          [
                            0.2222222222222222,
                            "#7201a8"
                          ],
                          [
                            0.3333333333333333,
                            "#9c179e"
                          ],
                          [
                            0.4444444444444444,
                            "#bd3786"
                          ],
                          [
                            0.5555555555555556,
                            "#d8576b"
                          ],
                          [
                            0.6666666666666666,
                            "#ed7953"
                          ],
                          [
                            0.7777777777777778,
                            "#fb9f3a"
                          ],
                          [
                            0.8888888888888888,
                            "#fdca26"
                          ],
                          [
                            1,
                            "#f0f921"
                          ]
                        ],
                        "type": "surface"
                      }
                    ],
                    "table": [
                      {
                        "cells": {
                          "fill": {
                            "color": "#EBF0F8"
                          },
                          "line": {
                            "color": "white"
                          }
                        },
                        "header": {
                          "fill": {
                            "color": "#C8D4E3"
                          },
                          "line": {
                            "color": "white"
                          }
                        },
                        "type": "table"
                      }
                    ]
                  },
                  "layout": {
                    "annotationdefaults": {
                      "arrowcolor": "#2a3f5f",
                      "arrowhead": 0,
                      "arrowwidth": 1
                    },
                    "autotypenumbers": "strict",
                    "coloraxis": {
                      "colorbar": {
                        "outlinewidth": 0,
                        "ticks": ""
                      }
                    },
                    "colorscale": {
                      "diverging": [
                        [
                          0,
                          "#8e0152"
                        ],
                        [
                          0.1,
                          "#c51b7d"
                        ],
                        [
                          0.2,
                          "#de77ae"
                        ],
                        [
                          0.3,
                          "#f1b6da"
                        ],
                        [
                          0.4,
                          "#fde0ef"
                        ],
                        [
                          0.5,
                          "#f7f7f7"
                        ],
                        [
                          0.6,
                          "#e6f5d0"
                        ],
                        [
                          0.7,
                          "#b8e186"
                        ],
                        [
                          0.8,
                          "#7fbc41"
                        ],
                        [
                          0.9,
                          "#4d9221"
                        ],
                        [
                          1,
                          "#276419"
                        ]
                      ],
                      "sequential": [
                        [
                          0,
                          "#0d0887"
                        ],
                        [
                          0.1111111111111111,
                          "#46039f"
                        ],
                        [
                          0.2222222222222222,
                          "#7201a8"
                        ],
                        [
                          0.3333333333333333,
                          "#9c179e"
                        ],
                        [
                          0.4444444444444444,
                          "#bd3786"
                        ],
                        [
                          0.5555555555555556,
                          "#d8576b"
                        ],
                        [
                          0.6666666666666666,
                          "#ed7953"
                        ],
                        [
                          0.7777777777777778,
                          "#fb9f3a"
                        ],
                        [
                          0.8888888888888888,
                          "#fdca26"
                        ],
                        [
                          1,
                          "#f0f921"
                        ]
                      ],
                      "sequentialminus": [
                        [
                          0,
                          "#0d0887"
                        ],
                        [
                          0.1111111111111111,
                          "#46039f"
                        ],
                        [
                          0.2222222222222222,
                          "#7201a8"
                        ],
                        [
                          0.3333333333333333,
                          "#9c179e"
                        ],
                        [
                          0.4444444444444444,
                          "#bd3786"
                        ],
                        [
                          0.5555555555555556,
                          "#d8576b"
                        ],
                        [
                          0.6666666666666666,
                          "#ed7953"
                        ],
                        [
                          0.7777777777777778,
                          "#fb9f3a"
                        ],
                        [
                          0.8888888888888888,
                          "#fdca26"
                        ],
                        [
                          1,
                          "#f0f921"
                        ]
                      ]
                    },
                    "colorway": [
                      "#636efa",
                      "#EF553B",
                      "#00cc96",
                      "#ab63fa",
                      "#FFA15A",
                      "#19d3f3",
                      "#FF6692",
                      "#B6E880",
                      "#FF97FF",
                      "#FECB52"
                    ],
                    "font": {
                      "color": "#2a3f5f"
                    },
                    "geo": {
                      "bgcolor": "white",
                      "lakecolor": "white",
                      "landcolor": "#E5ECF6",
                      "showlakes": true,
                      "showland": true,
                      "subunitcolor": "white"
                    },
                    "hoverlabel": {
                      "align": "left"
                    },
                    "hovermode": "closest",
                    "mapbox": {
                      "style": "light"
                    },
                    "paper_bgcolor": "white",
                    "plot_bgcolor": "#E5ECF6",
                    "polar": {
                      "angularaxis": {
                        "gridcolor": "white",
                        "linecolor": "white",
                        "ticks": ""
                      },
                      "bgcolor": "#E5ECF6",
                      "radialaxis": {
                        "gridcolor": "white",
                        "linecolor": "white",
                        "ticks": ""
                      }
                    },
                    "scene": {
                      "xaxis": {
                        "backgroundcolor": "#E5ECF6",
                        "gridcolor": "white",
                        "gridwidth": 2,
                        "linecolor": "white",
                        "showbackground": true,
                        "ticks": "",
                        "zerolinecolor": "white"
                      },
                      "yaxis": {
                        "backgroundcolor": "#E5ECF6",
                        "gridcolor": "white",
                        "gridwidth": 2,
                        "linecolor": "white",
                        "showbackground": true,
                        "ticks": "",
                        "zerolinecolor": "white"
                      },
                      "zaxis": {
                        "backgroundcolor": "#E5ECF6",
                        "gridcolor": "white",
                        "gridwidth": 2,
                        "linecolor": "white",
                        "showbackground": true,
                        "ticks": "",
                        "zerolinecolor": "white"
                      }
                    },
                    "shapedefaults": {
                      "line": {
                        "color": "#2a3f5f"
                      }
                    },
                    "ternary": {
                      "aaxis": {
                        "gridcolor": "white",
                        "linecolor": "white",
                        "ticks": ""
                      },
                      "baxis": {
                        "gridcolor": "white",
                        "linecolor": "white",
                        "ticks": ""
                      },
                      "bgcolor": "#E5ECF6",
                      "caxis": {
                        "gridcolor": "white",
                        "linecolor": "white",
                        "ticks": ""
                      }
                    },
                    "title": {
                      "x": 0.05
                    },
                    "xaxis": {
                      "automargin": true,
                      "gridcolor": "white",
                      "linecolor": "white",
                      "ticks": "",
                      "title": {
                        "standoff": 15
                      },
                      "zerolinecolor": "white",
                      "zerolinewidth": 2
                    },
                    "yaxis": {
                      "automargin": true,
                      "gridcolor": "white",
                      "linecolor": "white",
                      "ticks": "",
                      "title": {
                        "standoff": 15
                      },
                      "zerolinecolor": "white",
                      "zerolinewidth": 2
                    }
                  }
                },
                "title": {
                  "font": {
                    "color": "#4D5663"
                  }
                },
                "xaxis": {
                  "gridcolor": "#E1E5ED",
                  "showgrid": true,
                  "tickfont": {
                    "color": "#4D5663"
                  },
                  "title": {
                    "font": {
                      "color": "#4D5663"
                    },
                    "text": "ObservationDate"
                  },
                  "zerolinecolor": "#E1E5ED"
                },
                "yaxis": {
                  "gridcolor": "#E1E5ED",
                  "showgrid": true,
                  "tickfont": {
                    "color": "#4D5663"
                  },
                  "title": {
                    "font": {
                      "color": "#4D5663"
                    },
                    "text": "Confirmed"
                  },
                  "zerolinecolor": "#E1E5ED"
                }
              },
              "config": {
                "showLink": true,
                "linkText": "Export to plot.ly",
                "plotlyServerURL": "https://plot.ly"
              }
            },
            "text/html": [
              "<div>                            <div id=\"fd9bd541-d5c4-4adf-8b12-08de56c29a73\" class=\"plotly-graph-div\" style=\"height:525px; width:100%;\"></div>            <script type=\"text/javascript\">                require([\"plotly\"], function(Plotly) {                    window.PLOTLYENV=window.PLOTLYENV || {};\n",
              "                    window.PLOTLYENV.BASE_URL='https://plot.ly';                                    if (document.getElementById(\"fd9bd541-d5c4-4adf-8b12-08de56c29a73\")) {                    Plotly.newPlot(                        \"fd9bd541-d5c4-4adf-8b12-08de56c29a73\",                        [{\"marker\":{\"color\":\"rgba(255, 153, 51, 0.6)\",\"line\":{\"color\":\"rgba(255, 153, 51, 1.0)\",\"width\":1}},\"name\":\"Confirmed\",\"orientation\":\"v\",\"text\":\"\",\"x\":[\"01/22/2020\",\"01/23/2020\",\"01/24/2020\",\"01/25/2020\",\"01/26/2020\",\"01/27/2020\",\"01/28/2020\",\"01/29/2020\",\"01/30/2020\",\"01/31/2020\",\"02/01/2020\",\"02/02/2020\",\"02/03/2020\",\"02/04/2020\",\"02/05/2020\",\"02/06/2020\",\"02/07/2020\",\"02/08/2020\",\"02/09/2020\",\"02/10/2020\",\"02/11/2020\",\"02/12/2020\",\"02/13/2020\",\"02/14/2020\",\"02/15/2020\",\"02/16/2020\",\"02/17/2020\",\"02/18/2020\",\"02/19/2020\",\"02/20/2020\",\"02/21/2020\",\"02/22/2020\",\"02/23/2020\",\"02/24/2020\",\"02/25/2020\",\"02/26/2020\",\"02/27/2020\",\"02/28/2020\",\"02/29/2020\",\"03/01/2020\",\"03/02/2020\",\"03/03/2020\",\"03/04/2020\",\"03/05/2020\",\"03/06/2020\",\"03/07/2020\",\"03/08/2020\",\"03/09/2020\",\"03/10/2020\",\"03/11/2020\",\"03/12/2020\",\"03/13/2020\",\"03/14/2020\",\"03/15/2020\",\"03/16/2020\",\"03/17/2020\",\"03/18/2020\",\"03/19/2020\",\"03/20/2020\",\"03/21/2020\",\"03/22/2020\",\"03/23/2020\",\"03/24/2020\",\"03/25/2020\",\"03/26/2020\",\"03/27/2020\",\"03/28/2020\",\"03/29/2020\",\"03/30/2020\",\"03/31/2020\",\"04/01/2020\",\"04/02/2020\",\"04/03/2020\",\"04/04/2020\",\"04/05/2020\",\"04/06/2020\",\"04/07/2020\",\"04/08/2020\",\"04/09/2020\",\"04/10/2020\",\"04/11/2020\",\"04/12/2020\",\"04/13/2020\",\"04/14/2020\",\"04/15/2020\",\"04/16/2020\",\"04/17/2020\",\"04/18/2020\",\"04/19/2020\",\"04/20/2020\",\"04/21/2020\",\"04/22/2020\",\"04/23/2020\",\"04/24/2020\",\"04/25/2020\",\"04/26/2020\",\"04/27/2020\",\"04/28/2020\",\"04/29/2020\",\"04/30/2020\",\"05/01/2020\",\"05/02/2020\",\"05/03/2020\",\"05/04/2020\",\"05/05/2020\",\"05/06/2020\",\"05/07/2020\",\"05/08/2020\",\"05/09/2020\",\"05/10/2020\",\"05/11/2020\",\"05/12/2020\",\"05/13/2020\",\"05/14/2020\",\"05/15/2020\",\"05/16/2020\",\"05/17/2020\",\"05/18/2020\",\"05/19/2020\",\"05/20/2020\",\"05/21/2020\",\"05/22/2020\",\"05/23/2020\",\"05/24/2020\",\"05/25/2020\",\"05/26/2020\",\"05/27/2020\",\"05/28/2020\",\"05/29/2020\",\"05/30/2020\",\"05/31/2020\",\"06/01/2020\",\"06/02/2020\",\"06/03/2020\",\"06/04/2020\",\"06/05/2020\",\"06/06/2020\",\"06/07/2020\",\"06/08/2020\",\"06/09/2020\",\"06/10/2020\",\"06/11/2020\",\"06/12/2020\",\"06/13/2020\",\"06/14/2020\",\"06/15/2020\",\"06/16/2020\",\"06/17/2020\",\"06/18/2020\",\"06/19/2020\",\"06/20/2020\",\"06/21/2020\",\"06/22/2020\",\"06/23/2020\",\"06/24/2020\",\"06/25/2020\",\"06/26/2020\",\"06/27/2020\",\"06/28/2020\",\"06/29/2020\",\"06/30/2020\",\"07/01/2020\",\"07/02/2020\",\"07/03/2020\",\"07/04/2020\",\"07/05/2020\",\"07/06/2020\",\"07/07/2020\",\"07/08/2020\",\"07/09/2020\",\"07/10/2020\",\"07/11/2020\",\"07/12/2020\",\"07/13/2020\",\"07/14/2020\",\"07/15/2020\",\"07/16/2020\",\"07/17/2020\",\"07/18/2020\",\"07/19/2020\",\"07/20/2020\",\"07/21/2020\",\"07/22/2020\",\"07/23/2020\",\"07/24/2020\",\"07/25/2020\",\"07/26/2020\",\"07/27/2020\",\"07/28/2020\",\"07/29/2020\",\"07/30/2020\",\"07/31/2020\",\"08/01/2020\",\"08/02/2020\",\"08/03/2020\",\"08/04/2020\",\"08/05/2020\",\"08/06/2020\",\"08/07/2020\",\"08/08/2020\",\"08/09/2020\",\"08/10/2020\",\"08/11/2020\",\"08/12/2020\",\"08/13/2020\",\"08/14/2020\",\"08/15/2020\",\"08/16/2020\",\"08/17/2020\",\"08/18/2020\",\"08/19/2020\",\"08/20/2020\",\"08/21/2020\",\"08/22/2020\",\"08/23/2020\",\"08/24/2020\",\"08/25/2020\",\"08/26/2020\",\"08/27/2020\",\"08/28/2020\",\"08/29/2020\",\"08/30/2020\",\"08/31/2020\",\"09/01/2020\",\"09/02/2020\",\"09/03/2020\",\"09/04/2020\",\"09/05/2020\",\"09/06/2020\",\"09/07/2020\",\"09/08/2020\",\"09/09/2020\",\"09/10/2020\",\"09/11/2020\",\"09/12/2020\",\"09/13/2020\",\"09/14/2020\",\"09/15/2020\",\"09/16/2020\",\"09/17/2020\",\"09/18/2020\",\"09/19/2020\",\"09/20/2020\",\"09/21/2020\",\"09/22/2020\",\"09/23/2020\",\"09/24/2020\",\"09/25/2020\",\"09/26/2020\",\"09/27/2020\",\"09/28/2020\",\"09/29/2020\",\"09/30/2020\",\"10/01/2020\",\"10/02/2020\",\"10/03/2020\",\"10/04/2020\",\"10/05/2020\",\"10/06/2020\",\"10/07/2020\",\"10/08/2020\",\"10/09/2020\",\"10/10/2020\",\"10/11/2020\",\"10/12/2020\",\"10/13/2020\",\"10/14/2020\",\"10/15/2020\",\"10/16/2020\",\"10/17/2020\",\"10/18/2020\",\"10/19/2020\",\"10/20/2020\",\"10/21/2020\",\"10/22/2020\",\"10/23/2020\",\"10/24/2020\",\"10/25/2020\",\"10/26/2020\",\"10/27/2020\",\"10/28/2020\",\"10/29/2020\",\"10/30/2020\",\"10/31/2020\",\"11/01/2020\",\"11/02/2020\",\"11/03/2020\",\"11/04/2020\",\"11/05/2020\",\"11/06/2020\",\"11/07/2020\",\"11/08/2020\",\"11/09/2020\",\"11/10/2020\",\"11/11/2020\",\"11/12/2020\",\"11/13/2020\",\"11/14/2020\",\"11/15/2020\",\"11/16/2020\",\"11/17/2020\",\"11/18/2020\",\"11/19/2020\",\"11/20/2020\",\"11/21/2020\",\"11/22/2020\",\"11/23/2020\",\"11/24/2020\",\"11/25/2020\",\"11/26/2020\",\"11/27/2020\",\"11/28/2020\",\"11/29/2020\",\"11/30/2020\",\"12/01/2020\",\"12/02/2020\",\"12/03/2020\",\"12/04/2020\",\"12/05/2020\",\"12/06/2020\"],\"y\":[555.0,653.0,941.0,1438.0,2118.0,2927.0,5578.0,6165.0,8235.0,9925.0,12038.0,16787.0,19881.0,23892.0,27636.0,30818.0,34392.0,37121.0,40151.0,42763.0,44803.0,45222.0,60370.0,66887.0,69032.0,71226.0,73260.0,75138.0,75641.0,76199.0,76843.0,78599.0,78985.0,79570.0,80415.0,81397.0,82756.0,84126.0,86012.0,88368.0,90311.0,92848.0,95127.0,97890.0,101803.0,105843.0,109831.0,113584.0,118598.0,125850.0,128329.0,145185.0,156086.0,167411.0,181576.0,197211.0,214984.0,242675.0,272271.0,304686.0,337337.0,378496.0,418113.0,467795.0,529929.0,593755.0,661079.0,720379.0,782777.0,857923.0,933022.0,1013683.0,1096323.0,1197842.0,1272554.0,1345516.0,1426556.0,1511925.0,1595883.0,1692129.0,1771874.0,1847158.0,1917813.0,1976597.0,2056473.0,2152982.0,2240463.0,2318115.0,2401793.0,2472748.0,2549777.0,2624210.0,2709001.0,2810846.0,2897022.0,2971484.0,3041801.0,3116433.0,3194001.0,3256872.0,3343811.0,3427330.0,3506711.0,3583054.0,3662703.0,3755383.0,3845751.0,3938053.0,4023996.0,4101718.0,4177554.0,4262250.0,4347117.0,4442187.0,4542434.0,4634160.0,4713938.0,4802250.0,4897911.0,4996699.0,5102706.0,5211095.0,5310590.0,5407770.0,5495312.0,5589892.0,5692058.0,5809201.0,5924579.0,6059580.0,6167240.0,6265803.0,6386396.0,6508780.0,6633259.0,6770788.0,6897255.0,7010890.0,7119336.0,7242787.0,7361033.0,7515109.0,7633563.0,7767825.0,7901602.0,8034802.0,8174235.0,8350863.0,8489712.0,8669002.0,8792045.0,8955724.0,9099077.0,9264445.0,9431600.0,9610853.0,9802731.0,9979597.0,10147630.0,10302906.0,10476542.0,10693414.0,10871458.0,11075858.0,11267874.0,11450012.0,11620700.0,11830769.0,12043204.0,12269842.0,12501223.0,12719487.0,12912292.0,13105674.0,13325536.0,13557184.0,13806859.0,14057111.0,14294115.0,14508480.0,14708759.0,14948414.0,15229528.0,15512296.0,15794238.0,16047954.0,16253917.0,16488306.0,16692185.0,17030374.0,17311142.0,17602717.0,17853438.0,18085432.0,18288839.0,18547794.0,18821778.0,19108417.0,19391413.0,19650776.0,19877146.0,20104115.0,20358584.0,20647536.0,20923582.0,21227966.0,21478639.0,21692830.0,21903322.0,22159334.0,22434291.0,22702197.0,22973890.0,23228234.0,23446173.0,23672249.0,23915497.0,24202913.0,24478374.0,24762431.0,25024984.0,25251910.0,25514343.0,25779789.0,26062335.0,26336042.0,26641939.0,26903989.0,27136466.0,27365237.0,27603692.0,27897954.0,28196288.0,28517136.0,28793840.0,29030157.0,29226390.0,29595702.0,29898874.0,30213892.0,30539380.0,30819231.0,31061876.0,31361168.0,31645908.0,31908027.0,32272107.0,32607567.0,32882196.0,33126207.0,33399097.0,33685733.0,34012807.0,34325135.0,34630305.0,34932269.0,35195839.0,35521068.0,35851182.0,36199598.0,36561518.0,36921914.0,37251629.0,37522839.0,37847918.0,38176649.0,38557707.0,38965262.0,39376147.0,39717066.0,40004032.0,40452420.0,40841219.0,41284867.0,41757568.0,42262804.0,42672832.0,43065402.0,43557752.0,44028246.0,44544388.0,45083311.0,45648888.0,46134747.0,46576038.0,47026322.0,47505781.0,48190669.0,48784637.0,49427232.0,49938517.0,50504208.0,50972113.0,51532980.0,52178388.0,52825724.0,53474847.0,54068784.0,54542437.0,55070751.0,55679719.0,56303790.0,56954557.0,57620415.0,58206750.0,58691023.0,59212722.0,59801025.0,60434070.0,61015384.0,61687701.0,62286402.0,62773116.0,63279026.0,63883985.0,64530517.0,65221040.0,65899441.0,66540034.0,67073728.0],\"type\":\"bar\"}],                        {\"legend\":{\"bgcolor\":\"#F5F6F9\",\"font\":{\"color\":\"#4D5663\"}},\"paper_bgcolor\":\"#F5F6F9\",\"plot_bgcolor\":\"#F5F6F9\",\"template\":{\"data\":{\"barpolar\":[{\"marker\":{\"line\":{\"color\":\"#E5ECF6\",\"width\":0.5},\"pattern\":{\"fillmode\":\"overlay\",\"size\":10,\"solidity\":0.2}},\"type\":\"barpolar\"}],\"bar\":[{\"error_x\":{\"color\":\"#2a3f5f\"},\"error_y\":{\"color\":\"#2a3f5f\"},\"marker\":{\"line\":{\"color\":\"#E5ECF6\",\"width\":0.5},\"pattern\":{\"fillmode\":\"overlay\",\"size\":10,\"solidity\":0.2}},\"type\":\"bar\"}],\"carpet\":[{\"aaxis\":{\"endlinecolor\":\"#2a3f5f\",\"gridcolor\":\"white\",\"linecolor\":\"white\",\"minorgridcolor\":\"white\",\"startlinecolor\":\"#2a3f5f\"},\"baxis\":{\"endlinecolor\":\"#2a3f5f\",\"gridcolor\":\"white\",\"linecolor\":\"white\",\"minorgridcolor\":\"white\",\"startlinecolor\":\"#2a3f5f\"},\"type\":\"carpet\"}],\"choropleth\":[{\"colorbar\":{\"outlinewidth\":0,\"ticks\":\"\"},\"type\":\"choropleth\"}],\"contourcarpet\":[{\"colorbar\":{\"outlinewidth\":0,\"ticks\":\"\"},\"type\":\"contourcarpet\"}],\"contour\":[{\"colorbar\":{\"outlinewidth\":0,\"ticks\":\"\"},\"colorscale\":[[0.0,\"#0d0887\"],[0.1111111111111111,\"#46039f\"],[0.2222222222222222,\"#7201a8\"],[0.3333333333333333,\"#9c179e\"],[0.4444444444444444,\"#bd3786\"],[0.5555555555555556,\"#d8576b\"],[0.6666666666666666,\"#ed7953\"],[0.7777777777777778,\"#fb9f3a\"],[0.8888888888888888,\"#fdca26\"],[1.0,\"#f0f921\"]],\"type\":\"contour\"}],\"heatmapgl\":[{\"colorbar\":{\"outlinewidth\":0,\"ticks\":\"\"},\"colorscale\":[[0.0,\"#0d0887\"],[0.1111111111111111,\"#46039f\"],[0.2222222222222222,\"#7201a8\"],[0.3333333333333333,\"#9c179e\"],[0.4444444444444444,\"#bd3786\"],[0.5555555555555556,\"#d8576b\"],[0.6666666666666666,\"#ed7953\"],[0.7777777777777778,\"#fb9f3a\"],[0.8888888888888888,\"#fdca26\"],[1.0,\"#f0f921\"]],\"type\":\"heatmapgl\"}],\"heatmap\":[{\"colorbar\":{\"outlinewidth\":0,\"ticks\":\"\"},\"colorscale\":[[0.0,\"#0d0887\"],[0.1111111111111111,\"#46039f\"],[0.2222222222222222,\"#7201a8\"],[0.3333333333333333,\"#9c179e\"],[0.4444444444444444,\"#bd3786\"],[0.5555555555555556,\"#d8576b\"],[0.6666666666666666,\"#ed7953\"],[0.7777777777777778,\"#fb9f3a\"],[0.8888888888888888,\"#fdca26\"],[1.0,\"#f0f921\"]],\"type\":\"heatmap\"}],\"histogram2dcontour\":[{\"colorbar\":{\"outlinewidth\":0,\"ticks\":\"\"},\"colorscale\":[[0.0,\"#0d0887\"],[0.1111111111111111,\"#46039f\"],[0.2222222222222222,\"#7201a8\"],[0.3333333333333333,\"#9c179e\"],[0.4444444444444444,\"#bd3786\"],[0.5555555555555556,\"#d8576b\"],[0.6666666666666666,\"#ed7953\"],[0.7777777777777778,\"#fb9f3a\"],[0.8888888888888888,\"#fdca26\"],[1.0,\"#f0f921\"]],\"type\":\"histogram2dcontour\"}],\"histogram2d\":[{\"colorbar\":{\"outlinewidth\":0,\"ticks\":\"\"},\"colorscale\":[[0.0,\"#0d0887\"],[0.1111111111111111,\"#46039f\"],[0.2222222222222222,\"#7201a8\"],[0.3333333333333333,\"#9c179e\"],[0.4444444444444444,\"#bd3786\"],[0.5555555555555556,\"#d8576b\"],[0.6666666666666666,\"#ed7953\"],[0.7777777777777778,\"#fb9f3a\"],[0.8888888888888888,\"#fdca26\"],[1.0,\"#f0f921\"]],\"type\":\"histogram2d\"}],\"histogram\":[{\"marker\":{\"pattern\":{\"fillmode\":\"overlay\",\"size\":10,\"solidity\":0.2}},\"type\":\"histogram\"}],\"mesh3d\":[{\"colorbar\":{\"outlinewidth\":0,\"ticks\":\"\"},\"type\":\"mesh3d\"}],\"parcoords\":[{\"line\":{\"colorbar\":{\"outlinewidth\":0,\"ticks\":\"\"}},\"type\":\"parcoords\"}],\"pie\":[{\"automargin\":true,\"type\":\"pie\"}],\"scatter3d\":[{\"line\":{\"colorbar\":{\"outlinewidth\":0,\"ticks\":\"\"}},\"marker\":{\"colorbar\":{\"outlinewidth\":0,\"ticks\":\"\"}},\"type\":\"scatter3d\"}],\"scattercarpet\":[{\"marker\":{\"colorbar\":{\"outlinewidth\":0,\"ticks\":\"\"}},\"type\":\"scattercarpet\"}],\"scattergeo\":[{\"marker\":{\"colorbar\":{\"outlinewidth\":0,\"ticks\":\"\"}},\"type\":\"scattergeo\"}],\"scattergl\":[{\"marker\":{\"colorbar\":{\"outlinewidth\":0,\"ticks\":\"\"}},\"type\":\"scattergl\"}],\"scattermapbox\":[{\"marker\":{\"colorbar\":{\"outlinewidth\":0,\"ticks\":\"\"}},\"type\":\"scattermapbox\"}],\"scatterpolargl\":[{\"marker\":{\"colorbar\":{\"outlinewidth\":0,\"ticks\":\"\"}},\"type\":\"scatterpolargl\"}],\"scatterpolar\":[{\"marker\":{\"colorbar\":{\"outlinewidth\":0,\"ticks\":\"\"}},\"type\":\"scatterpolar\"}],\"scatter\":[{\"marker\":{\"colorbar\":{\"outlinewidth\":0,\"ticks\":\"\"}},\"type\":\"scatter\"}],\"scatterternary\":[{\"marker\":{\"colorbar\":{\"outlinewidth\":0,\"ticks\":\"\"}},\"type\":\"scatterternary\"}],\"surface\":[{\"colorbar\":{\"outlinewidth\":0,\"ticks\":\"\"},\"colorscale\":[[0.0,\"#0d0887\"],[0.1111111111111111,\"#46039f\"],[0.2222222222222222,\"#7201a8\"],[0.3333333333333333,\"#9c179e\"],[0.4444444444444444,\"#bd3786\"],[0.5555555555555556,\"#d8576b\"],[0.6666666666666666,\"#ed7953\"],[0.7777777777777778,\"#fb9f3a\"],[0.8888888888888888,\"#fdca26\"],[1.0,\"#f0f921\"]],\"type\":\"surface\"}],\"table\":[{\"cells\":{\"fill\":{\"color\":\"#EBF0F8\"},\"line\":{\"color\":\"white\"}},\"header\":{\"fill\":{\"color\":\"#C8D4E3\"},\"line\":{\"color\":\"white\"}},\"type\":\"table\"}]},\"layout\":{\"annotationdefaults\":{\"arrowcolor\":\"#2a3f5f\",\"arrowhead\":0,\"arrowwidth\":1},\"autotypenumbers\":\"strict\",\"coloraxis\":{\"colorbar\":{\"outlinewidth\":0,\"ticks\":\"\"}},\"colorscale\":{\"diverging\":[[0,\"#8e0152\"],[0.1,\"#c51b7d\"],[0.2,\"#de77ae\"],[0.3,\"#f1b6da\"],[0.4,\"#fde0ef\"],[0.5,\"#f7f7f7\"],[0.6,\"#e6f5d0\"],[0.7,\"#b8e186\"],[0.8,\"#7fbc41\"],[0.9,\"#4d9221\"],[1,\"#276419\"]],\"sequential\":[[0.0,\"#0d0887\"],[0.1111111111111111,\"#46039f\"],[0.2222222222222222,\"#7201a8\"],[0.3333333333333333,\"#9c179e\"],[0.4444444444444444,\"#bd3786\"],[0.5555555555555556,\"#d8576b\"],[0.6666666666666666,\"#ed7953\"],[0.7777777777777778,\"#fb9f3a\"],[0.8888888888888888,\"#fdca26\"],[1.0,\"#f0f921\"]],\"sequentialminus\":[[0.0,\"#0d0887\"],[0.1111111111111111,\"#46039f\"],[0.2222222222222222,\"#7201a8\"],[0.3333333333333333,\"#9c179e\"],[0.4444444444444444,\"#bd3786\"],[0.5555555555555556,\"#d8576b\"],[0.6666666666666666,\"#ed7953\"],[0.7777777777777778,\"#fb9f3a\"],[0.8888888888888888,\"#fdca26\"],[1.0,\"#f0f921\"]]},\"colorway\":[\"#636efa\",\"#EF553B\",\"#00cc96\",\"#ab63fa\",\"#FFA15A\",\"#19d3f3\",\"#FF6692\",\"#B6E880\",\"#FF97FF\",\"#FECB52\"],\"font\":{\"color\":\"#2a3f5f\"},\"geo\":{\"bgcolor\":\"white\",\"lakecolor\":\"white\",\"landcolor\":\"#E5ECF6\",\"showlakes\":true,\"showland\":true,\"subunitcolor\":\"white\"},\"hoverlabel\":{\"align\":\"left\"},\"hovermode\":\"closest\",\"mapbox\":{\"style\":\"light\"},\"paper_bgcolor\":\"white\",\"plot_bgcolor\":\"#E5ECF6\",\"polar\":{\"angularaxis\":{\"gridcolor\":\"white\",\"linecolor\":\"white\",\"ticks\":\"\"},\"bgcolor\":\"#E5ECF6\",\"radialaxis\":{\"gridcolor\":\"white\",\"linecolor\":\"white\",\"ticks\":\"\"}},\"scene\":{\"xaxis\":{\"backgroundcolor\":\"#E5ECF6\",\"gridcolor\":\"white\",\"gridwidth\":2,\"linecolor\":\"white\",\"showbackground\":true,\"ticks\":\"\",\"zerolinecolor\":\"white\"},\"yaxis\":{\"backgroundcolor\":\"#E5ECF6\",\"gridcolor\":\"white\",\"gridwidth\":2,\"linecolor\":\"white\",\"showbackground\":true,\"ticks\":\"\",\"zerolinecolor\":\"white\"},\"zaxis\":{\"backgroundcolor\":\"#E5ECF6\",\"gridcolor\":\"white\",\"gridwidth\":2,\"linecolor\":\"white\",\"showbackground\":true,\"ticks\":\"\",\"zerolinecolor\":\"white\"}},\"shapedefaults\":{\"line\":{\"color\":\"#2a3f5f\"}},\"ternary\":{\"aaxis\":{\"gridcolor\":\"white\",\"linecolor\":\"white\",\"ticks\":\"\"},\"baxis\":{\"gridcolor\":\"white\",\"linecolor\":\"white\",\"ticks\":\"\"},\"bgcolor\":\"#E5ECF6\",\"caxis\":{\"gridcolor\":\"white\",\"linecolor\":\"white\",\"ticks\":\"\"}},\"title\":{\"x\":0.05},\"xaxis\":{\"automargin\":true,\"gridcolor\":\"white\",\"linecolor\":\"white\",\"ticks\":\"\",\"title\":{\"standoff\":15},\"zerolinecolor\":\"white\",\"zerolinewidth\":2},\"yaxis\":{\"automargin\":true,\"gridcolor\":\"white\",\"linecolor\":\"white\",\"ticks\":\"\",\"title\":{\"standoff\":15},\"zerolinecolor\":\"white\",\"zerolinewidth\":2}}},\"title\":{\"font\":{\"color\":\"#4D5663\"}},\"xaxis\":{\"gridcolor\":\"#E1E5ED\",\"showgrid\":true,\"tickfont\":{\"color\":\"#4D5663\"},\"title\":{\"font\":{\"color\":\"#4D5663\"},\"text\":\"ObservationDate\"},\"zerolinecolor\":\"#E1E5ED\"},\"yaxis\":{\"gridcolor\":\"#E1E5ED\",\"showgrid\":true,\"tickfont\":{\"color\":\"#4D5663\"},\"title\":{\"font\":{\"color\":\"#4D5663\"},\"text\":\"Confirmed\"},\"zerolinecolor\":\"#E1E5ED\"}},                        {\"showLink\": true, \"linkText\": \"Export to plot.ly\", \"plotlyServerURL\": \"https://plot.ly\", \"responsive\": true}                    ).then(function(){\n",
              "                            \n",
              "var gd = document.getElementById('fd9bd541-d5c4-4adf-8b12-08de56c29a73');\n",
              "var x = new MutationObserver(function (mutations, observer) {{\n",
              "        var display = window.getComputedStyle(gd).display;\n",
              "        if (!display || display === 'none') {{\n",
              "            console.log([gd, 'removed!']);\n",
              "            Plotly.purge(gd);\n",
              "            observer.disconnect();\n",
              "        }}\n",
              "}});\n",
              "\n",
              "// Listen for the removal of the full notebook cells\n",
              "var notebookContainer = gd.closest('#notebook-container');\n",
              "if (notebookContainer) {{\n",
              "    x.observe(notebookContainer, {childList: true});\n",
              "}}\n",
              "\n",
              "// Listen for the clearing of the current output cell\n",
              "var outputEl = gd.closest('.output');\n",
              "if (outputEl) {{\n",
              "    x.observe(outputEl, {childList: true});\n",
              "}}\n",
              "\n",
              "                        })                };                });            </script>        </div>"
            ]
          },
          "metadata": {}
        }
      ]
    },
    {
      "cell_type": "code",
      "source": [
        "deaths = df.groupby('ObservationDate').sum()['Deaths'].reset_index()\n",
        "deaths"
      ],
      "metadata": {
        "colab": {
          "base_uri": "https://localhost:8080/",
          "height": 424
        },
        "id": "o97lL4hHG0LJ",
        "outputId": "85c0bccf-b82a-4840-ef69-e87a59d5e775"
      },
      "execution_count": 14,
      "outputs": [
        {
          "output_type": "execute_result",
          "data": {
            "text/plain": [
              "    ObservationDate     Deaths\n",
              "0        01/22/2020       17.0\n",
              "1        01/23/2020       18.0\n",
              "2        01/24/2020       26.0\n",
              "3        01/25/2020       42.0\n",
              "4        01/26/2020       56.0\n",
              "..              ...        ...\n",
              "315      12/02/2020  1493742.0\n",
              "316      12/03/2020  1506260.0\n",
              "317      12/04/2020  1518670.0\n",
              "318      12/05/2020  1528868.0\n",
              "319      12/06/2020  1536056.0\n",
              "\n",
              "[320 rows x 2 columns]"
            ],
            "text/html": [
              "\n",
              "  <div id=\"df-1f0252e9-b800-4ff4-94ce-fd930b12a688\">\n",
              "    <div class=\"colab-df-container\">\n",
              "      <div>\n",
              "<style scoped>\n",
              "    .dataframe tbody tr th:only-of-type {\n",
              "        vertical-align: middle;\n",
              "    }\n",
              "\n",
              "    .dataframe tbody tr th {\n",
              "        vertical-align: top;\n",
              "    }\n",
              "\n",
              "    .dataframe thead th {\n",
              "        text-align: right;\n",
              "    }\n",
              "</style>\n",
              "<table border=\"1\" class=\"dataframe\">\n",
              "  <thead>\n",
              "    <tr style=\"text-align: right;\">\n",
              "      <th></th>\n",
              "      <th>ObservationDate</th>\n",
              "      <th>Deaths</th>\n",
              "    </tr>\n",
              "  </thead>\n",
              "  <tbody>\n",
              "    <tr>\n",
              "      <th>0</th>\n",
              "      <td>01/22/2020</td>\n",
              "      <td>17.0</td>\n",
              "    </tr>\n",
              "    <tr>\n",
              "      <th>1</th>\n",
              "      <td>01/23/2020</td>\n",
              "      <td>18.0</td>\n",
              "    </tr>\n",
              "    <tr>\n",
              "      <th>2</th>\n",
              "      <td>01/24/2020</td>\n",
              "      <td>26.0</td>\n",
              "    </tr>\n",
              "    <tr>\n",
              "      <th>3</th>\n",
              "      <td>01/25/2020</td>\n",
              "      <td>42.0</td>\n",
              "    </tr>\n",
              "    <tr>\n",
              "      <th>4</th>\n",
              "      <td>01/26/2020</td>\n",
              "      <td>56.0</td>\n",
              "    </tr>\n",
              "    <tr>\n",
              "      <th>...</th>\n",
              "      <td>...</td>\n",
              "      <td>...</td>\n",
              "    </tr>\n",
              "    <tr>\n",
              "      <th>315</th>\n",
              "      <td>12/02/2020</td>\n",
              "      <td>1493742.0</td>\n",
              "    </tr>\n",
              "    <tr>\n",
              "      <th>316</th>\n",
              "      <td>12/03/2020</td>\n",
              "      <td>1506260.0</td>\n",
              "    </tr>\n",
              "    <tr>\n",
              "      <th>317</th>\n",
              "      <td>12/04/2020</td>\n",
              "      <td>1518670.0</td>\n",
              "    </tr>\n",
              "    <tr>\n",
              "      <th>318</th>\n",
              "      <td>12/05/2020</td>\n",
              "      <td>1528868.0</td>\n",
              "    </tr>\n",
              "    <tr>\n",
              "      <th>319</th>\n",
              "      <td>12/06/2020</td>\n",
              "      <td>1536056.0</td>\n",
              "    </tr>\n",
              "  </tbody>\n",
              "</table>\n",
              "<p>320 rows × 2 columns</p>\n",
              "</div>\n",
              "      <button class=\"colab-df-convert\" onclick=\"convertToInteractive('df-1f0252e9-b800-4ff4-94ce-fd930b12a688')\"\n",
              "              title=\"Convert this dataframe to an interactive table.\"\n",
              "              style=\"display:none;\">\n",
              "        \n",
              "  <svg xmlns=\"http://www.w3.org/2000/svg\" height=\"24px\"viewBox=\"0 0 24 24\"\n",
              "       width=\"24px\">\n",
              "    <path d=\"M0 0h24v24H0V0z\" fill=\"none\"/>\n",
              "    <path d=\"M18.56 5.44l.94 2.06.94-2.06 2.06-.94-2.06-.94-.94-2.06-.94 2.06-2.06.94zm-11 1L8.5 8.5l.94-2.06 2.06-.94-2.06-.94L8.5 2.5l-.94 2.06-2.06.94zm10 10l.94 2.06.94-2.06 2.06-.94-2.06-.94-.94-2.06-.94 2.06-2.06.94z\"/><path d=\"M17.41 7.96l-1.37-1.37c-.4-.4-.92-.59-1.43-.59-.52 0-1.04.2-1.43.59L10.3 9.45l-7.72 7.72c-.78.78-.78 2.05 0 2.83L4 21.41c.39.39.9.59 1.41.59.51 0 1.02-.2 1.41-.59l7.78-7.78 2.81-2.81c.8-.78.8-2.07 0-2.86zM5.41 20L4 18.59l7.72-7.72 1.47 1.35L5.41 20z\"/>\n",
              "  </svg>\n",
              "      </button>\n",
              "      \n",
              "  <style>\n",
              "    .colab-df-container {\n",
              "      display:flex;\n",
              "      flex-wrap:wrap;\n",
              "      gap: 12px;\n",
              "    }\n",
              "\n",
              "    .colab-df-convert {\n",
              "      background-color: #E8F0FE;\n",
              "      border: none;\n",
              "      border-radius: 50%;\n",
              "      cursor: pointer;\n",
              "      display: none;\n",
              "      fill: #1967D2;\n",
              "      height: 32px;\n",
              "      padding: 0 0 0 0;\n",
              "      width: 32px;\n",
              "    }\n",
              "\n",
              "    .colab-df-convert:hover {\n",
              "      background-color: #E2EBFA;\n",
              "      box-shadow: 0px 1px 2px rgba(60, 64, 67, 0.3), 0px 1px 3px 1px rgba(60, 64, 67, 0.15);\n",
              "      fill: #174EA6;\n",
              "    }\n",
              "\n",
              "    [theme=dark] .colab-df-convert {\n",
              "      background-color: #3B4455;\n",
              "      fill: #D2E3FC;\n",
              "    }\n",
              "\n",
              "    [theme=dark] .colab-df-convert:hover {\n",
              "      background-color: #434B5C;\n",
              "      box-shadow: 0px 1px 3px 1px rgba(0, 0, 0, 0.15);\n",
              "      filter: drop-shadow(0px 1px 2px rgba(0, 0, 0, 0.3));\n",
              "      fill: #FFFFFF;\n",
              "    }\n",
              "  </style>\n",
              "\n",
              "      <script>\n",
              "        const buttonEl =\n",
              "          document.querySelector('#df-1f0252e9-b800-4ff4-94ce-fd930b12a688 button.colab-df-convert');\n",
              "        buttonEl.style.display =\n",
              "          google.colab.kernel.accessAllowed ? 'block' : 'none';\n",
              "\n",
              "        async function convertToInteractive(key) {\n",
              "          const element = document.querySelector('#df-1f0252e9-b800-4ff4-94ce-fd930b12a688');\n",
              "          const dataTable =\n",
              "            await google.colab.kernel.invokeFunction('convertToInteractive',\n",
              "                                                     [key], {});\n",
              "          if (!dataTable) return;\n",
              "\n",
              "          const docLinkHtml = 'Like what you see? Visit the ' +\n",
              "            '<a target=\"_blank\" href=https://colab.research.google.com/notebooks/data_table.ipynb>data table notebook</a>'\n",
              "            + ' to learn more about interactive tables.';\n",
              "          element.innerHTML = '';\n",
              "          dataTable['output_type'] = 'display_data';\n",
              "          await google.colab.output.renderOutput(dataTable, element);\n",
              "          const docLink = document.createElement('div');\n",
              "          docLink.innerHTML = docLinkHtml;\n",
              "          element.appendChild(docLink);\n",
              "        }\n",
              "      </script>\n",
              "    </div>\n",
              "  </div>\n",
              "  "
            ]
          },
          "metadata": {},
          "execution_count": 14
        }
      ]
    },
    {
      "cell_type": "code",
      "source": [
        "deaths.iplot(kind='bar',x='ObservationDate',y='Deaths',xTitle='ObservationDate',yTitle=\"Deaths\")\n"
      ],
      "metadata": {
        "colab": {
          "base_uri": "https://localhost:8080/",
          "height": 542
        },
        "id": "OhUjmQesHAOt",
        "outputId": "3af767df-d0ec-44d7-90ac-cb8d24a95f1f"
      },
      "execution_count": 15,
      "outputs": [
        {
          "output_type": "display_data",
          "data": {
            "application/vnd.plotly.v1+json": {
              "data": [
                {
                  "marker": {
                    "color": "rgba(255, 153, 51, 0.6)",
                    "line": {
                      "color": "rgba(255, 153, 51, 1.0)",
                      "width": 1
                    }
                  },
                  "name": "Deaths",
                  "orientation": "v",
                  "text": "",
                  "x": [
                    "01/22/2020",
                    "01/23/2020",
                    "01/24/2020",
                    "01/25/2020",
                    "01/26/2020",
                    "01/27/2020",
                    "01/28/2020",
                    "01/29/2020",
                    "01/30/2020",
                    "01/31/2020",
                    "02/01/2020",
                    "02/02/2020",
                    "02/03/2020",
                    "02/04/2020",
                    "02/05/2020",
                    "02/06/2020",
                    "02/07/2020",
                    "02/08/2020",
                    "02/09/2020",
                    "02/10/2020",
                    "02/11/2020",
                    "02/12/2020",
                    "02/13/2020",
                    "02/14/2020",
                    "02/15/2020",
                    "02/16/2020",
                    "02/17/2020",
                    "02/18/2020",
                    "02/19/2020",
                    "02/20/2020",
                    "02/21/2020",
                    "02/22/2020",
                    "02/23/2020",
                    "02/24/2020",
                    "02/25/2020",
                    "02/26/2020",
                    "02/27/2020",
                    "02/28/2020",
                    "02/29/2020",
                    "03/01/2020",
                    "03/02/2020",
                    "03/03/2020",
                    "03/04/2020",
                    "03/05/2020",
                    "03/06/2020",
                    "03/07/2020",
                    "03/08/2020",
                    "03/09/2020",
                    "03/10/2020",
                    "03/11/2020",
                    "03/12/2020",
                    "03/13/2020",
                    "03/14/2020",
                    "03/15/2020",
                    "03/16/2020",
                    "03/17/2020",
                    "03/18/2020",
                    "03/19/2020",
                    "03/20/2020",
                    "03/21/2020",
                    "03/22/2020",
                    "03/23/2020",
                    "03/24/2020",
                    "03/25/2020",
                    "03/26/2020",
                    "03/27/2020",
                    "03/28/2020",
                    "03/29/2020",
                    "03/30/2020",
                    "03/31/2020",
                    "04/01/2020",
                    "04/02/2020",
                    "04/03/2020",
                    "04/04/2020",
                    "04/05/2020",
                    "04/06/2020",
                    "04/07/2020",
                    "04/08/2020",
                    "04/09/2020",
                    "04/10/2020",
                    "04/11/2020",
                    "04/12/2020",
                    "04/13/2020",
                    "04/14/2020",
                    "04/15/2020",
                    "04/16/2020",
                    "04/17/2020",
                    "04/18/2020",
                    "04/19/2020",
                    "04/20/2020",
                    "04/21/2020",
                    "04/22/2020",
                    "04/23/2020",
                    "04/24/2020",
                    "04/25/2020",
                    "04/26/2020",
                    "04/27/2020",
                    "04/28/2020",
                    "04/29/2020",
                    "04/30/2020",
                    "05/01/2020",
                    "05/02/2020",
                    "05/03/2020",
                    "05/04/2020",
                    "05/05/2020",
                    "05/06/2020",
                    "05/07/2020",
                    "05/08/2020",
                    "05/09/2020",
                    "05/10/2020",
                    "05/11/2020",
                    "05/12/2020",
                    "05/13/2020",
                    "05/14/2020",
                    "05/15/2020",
                    "05/16/2020",
                    "05/17/2020",
                    "05/18/2020",
                    "05/19/2020",
                    "05/20/2020",
                    "05/21/2020",
                    "05/22/2020",
                    "05/23/2020",
                    "05/24/2020",
                    "05/25/2020",
                    "05/26/2020",
                    "05/27/2020",
                    "05/28/2020",
                    "05/29/2020",
                    "05/30/2020",
                    "05/31/2020",
                    "06/01/2020",
                    "06/02/2020",
                    "06/03/2020",
                    "06/04/2020",
                    "06/05/2020",
                    "06/06/2020",
                    "06/07/2020",
                    "06/08/2020",
                    "06/09/2020",
                    "06/10/2020",
                    "06/11/2020",
                    "06/12/2020",
                    "06/13/2020",
                    "06/14/2020",
                    "06/15/2020",
                    "06/16/2020",
                    "06/17/2020",
                    "06/18/2020",
                    "06/19/2020",
                    "06/20/2020",
                    "06/21/2020",
                    "06/22/2020",
                    "06/23/2020",
                    "06/24/2020",
                    "06/25/2020",
                    "06/26/2020",
                    "06/27/2020",
                    "06/28/2020",
                    "06/29/2020",
                    "06/30/2020",
                    "07/01/2020",
                    "07/02/2020",
                    "07/03/2020",
                    "07/04/2020",
                    "07/05/2020",
                    "07/06/2020",
                    "07/07/2020",
                    "07/08/2020",
                    "07/09/2020",
                    "07/10/2020",
                    "07/11/2020",
                    "07/12/2020",
                    "07/13/2020",
                    "07/14/2020",
                    "07/15/2020",
                    "07/16/2020",
                    "07/17/2020",
                    "07/18/2020",
                    "07/19/2020",
                    "07/20/2020",
                    "07/21/2020",
                    "07/22/2020",
                    "07/23/2020",
                    "07/24/2020",
                    "07/25/2020",
                    "07/26/2020",
                    "07/27/2020",
                    "07/28/2020",
                    "07/29/2020",
                    "07/30/2020",
                    "07/31/2020",
                    "08/01/2020",
                    "08/02/2020",
                    "08/03/2020",
                    "08/04/2020",
                    "08/05/2020",
                    "08/06/2020",
                    "08/07/2020",
                    "08/08/2020",
                    "08/09/2020",
                    "08/10/2020",
                    "08/11/2020",
                    "08/12/2020",
                    "08/13/2020",
                    "08/14/2020",
                    "08/15/2020",
                    "08/16/2020",
                    "08/17/2020",
                    "08/18/2020",
                    "08/19/2020",
                    "08/20/2020",
                    "08/21/2020",
                    "08/22/2020",
                    "08/23/2020",
                    "08/24/2020",
                    "08/25/2020",
                    "08/26/2020",
                    "08/27/2020",
                    "08/28/2020",
                    "08/29/2020",
                    "08/30/2020",
                    "08/31/2020",
                    "09/01/2020",
                    "09/02/2020",
                    "09/03/2020",
                    "09/04/2020",
                    "09/05/2020",
                    "09/06/2020",
                    "09/07/2020",
                    "09/08/2020",
                    "09/09/2020",
                    "09/10/2020",
                    "09/11/2020",
                    "09/12/2020",
                    "09/13/2020",
                    "09/14/2020",
                    "09/15/2020",
                    "09/16/2020",
                    "09/17/2020",
                    "09/18/2020",
                    "09/19/2020",
                    "09/20/2020",
                    "09/21/2020",
                    "09/22/2020",
                    "09/23/2020",
                    "09/24/2020",
                    "09/25/2020",
                    "09/26/2020",
                    "09/27/2020",
                    "09/28/2020",
                    "09/29/2020",
                    "09/30/2020",
                    "10/01/2020",
                    "10/02/2020",
                    "10/03/2020",
                    "10/04/2020",
                    "10/05/2020",
                    "10/06/2020",
                    "10/07/2020",
                    "10/08/2020",
                    "10/09/2020",
                    "10/10/2020",
                    "10/11/2020",
                    "10/12/2020",
                    "10/13/2020",
                    "10/14/2020",
                    "10/15/2020",
                    "10/16/2020",
                    "10/17/2020",
                    "10/18/2020",
                    "10/19/2020",
                    "10/20/2020",
                    "10/21/2020",
                    "10/22/2020",
                    "10/23/2020",
                    "10/24/2020",
                    "10/25/2020",
                    "10/26/2020",
                    "10/27/2020",
                    "10/28/2020",
                    "10/29/2020",
                    "10/30/2020",
                    "10/31/2020",
                    "11/01/2020",
                    "11/02/2020",
                    "11/03/2020",
                    "11/04/2020",
                    "11/05/2020",
                    "11/06/2020",
                    "11/07/2020",
                    "11/08/2020",
                    "11/09/2020",
                    "11/10/2020",
                    "11/11/2020",
                    "11/12/2020",
                    "11/13/2020",
                    "11/14/2020",
                    "11/15/2020",
                    "11/16/2020",
                    "11/17/2020",
                    "11/18/2020",
                    "11/19/2020",
                    "11/20/2020",
                    "11/21/2020",
                    "11/22/2020",
                    "11/23/2020",
                    "11/24/2020",
                    "11/25/2020",
                    "11/26/2020",
                    "11/27/2020",
                    "11/28/2020",
                    "11/29/2020",
                    "11/30/2020",
                    "12/01/2020",
                    "12/02/2020",
                    "12/03/2020",
                    "12/04/2020",
                    "12/05/2020",
                    "12/06/2020"
                  ],
                  "y": [
                    17,
                    18,
                    26,
                    42,
                    56,
                    82,
                    131,
                    133,
                    171,
                    213,
                    259,
                    362,
                    426,
                    492,
                    564,
                    634,
                    719,
                    806,
                    906,
                    1013,
                    1113,
                    1118,
                    1371,
                    1523,
                    1666,
                    1770,
                    1868,
                    2007,
                    2122,
                    2247,
                    2251,
                    2458,
                    2469,
                    2629,
                    2708,
                    2770,
                    2814,
                    2872,
                    2941,
                    2996,
                    3085,
                    3160,
                    3254,
                    3348,
                    3460,
                    3558,
                    3803,
                    3996,
                    4262,
                    4615,
                    4720,
                    5404,
                    5819,
                    6440,
                    7126,
                    7905,
                    8733,
                    9867,
                    11297,
                    12973,
                    14623,
                    16497,
                    18616,
                    21181,
                    23971,
                    27197,
                    30653,
                    33927,
                    37584,
                    42110,
                    46815,
                    52984,
                    58792,
                    64612,
                    69385,
                    74575,
                    81879,
                    88351,
                    95452,
                    102538,
                    108503,
                    114105,
                    119484,
                    125995,
                    134195,
                    143806,
                    153828,
                    159513,
                    165046,
                    169989,
                    176589,
                    183070,
                    190860,
                    197158,
                    202851,
                    206551,
                    211172,
                    217158,
                    227644,
                    233391,
                    238654,
                    243811,
                    247474,
                    251541,
                    257241,
                    263833,
                    269569,
                    274901,
                    279315,
                    282712,
                    286332,
                    291967,
                    297199,
                    302421,
                    307668,
                    311785,
                    315189,
                    318484,
                    323288,
                    328119,
                    332928,
                    338164,
                    342102,
                    345065,
                    346237,
                    350458,
                    355637,
                    360314,
                    364873,
                    369132,
                    372040,
                    375551,
                    380391,
                    385955,
                    391144,
                    396131,
                    400010,
                    402753,
                    406552,
                    411444,
                    416210,
                    421466,
                    425403,
                    429746,
                    433078,
                    436910,
                    443697,
                    448969,
                    453994,
                    460227,
                    464474,
                    468373,
                    472175,
                    477589,
                    482761,
                    489322,
                    494190,
                    498735,
                    501912,
                    505522,
                    511269,
                    516229,
                    521312,
                    526426,
                    530772,
                    534285,
                    538084,
                    544187,
                    549496,
                    554949,
                    560235,
                    565167,
                    569155,
                    573059,
                    578690,
                    584155,
                    589952,
                    596560,
                    602184,
                    606215,
                    609943,
                    616499,
                    623495,
                    633455,
                    639704,
                    645302,
                    648698,
                    654150,
                    659716,
                    667111,
                    673313,
                    679636,
                    685196,
                    689508,
                    694139,
                    700886,
                    707932,
                    715061,
                    721454,
                    726918,
                    731482,
                    736636,
                    742869,
                    749850,
                    755836,
                    765968,
                    771351,
                    775556,
                    774354,
                    781241,
                    787963,
                    793997,
                    799509,
                    804689,
                    808947,
                    813418,
                    819696,
                    825976,
                    831876,
                    837412,
                    842666,
                    846698,
                    850849,
                    857303,
                    863393,
                    869112,
                    874762,
                    879707,
                    883755,
                    892875,
                    897774,
                    904133,
                    909927,
                    915813,
                    920698,
                    924351,
                    927738,
                    935317,
                    941130,
                    946599,
                    952299,
                    957536,
                    961232,
                    965363,
                    971372,
                    976954,
                    983648,
                    989548,
                    994832,
                    998446,
                    1002359,
                    1008439,
                    1014880,
                    1023423,
                    1028568,
                    1033913,
                    1037683,
                    1044674,
                    1050444,
                    1056279,
                    1062478,
                    1068631,
                    1073438,
                    1077346,
                    1081266,
                    1086714,
                    1092754,
                    1098848,
                    1104977,
                    1110447,
                    1113812,
                    1118777,
                    1125347,
                    1131991,
                    1137853,
                    1144828,
                    1150458,
                    1154550,
                    1160136,
                    1167508,
                    1174665,
                    1181694,
                    1189518,
                    1196072,
                    1201015,
                    1206731,
                    1214851,
                    1226353,
                    1234389,
                    1244029,
                    1251591,
                    1257331,
                    1264439,
                    1274465,
                    1284908,
                    1294857,
                    1304410,
                    1313402,
                    1319662,
                    1327501,
                    1338609,
                    1349936,
                    1360917,
                    1372755,
                    1381539,
                    1388599,
                    1396913,
                    1409691,
                    1421748,
                    1432489,
                    1443110,
                    1452852,
                    1459771,
                    1468458,
                    1481306,
                    1493742,
                    1506260,
                    1518670,
                    1528868,
                    1536056
                  ],
                  "type": "bar"
                }
              ],
              "layout": {
                "legend": {
                  "bgcolor": "#F5F6F9",
                  "font": {
                    "color": "#4D5663"
                  }
                },
                "paper_bgcolor": "#F5F6F9",
                "plot_bgcolor": "#F5F6F9",
                "template": {
                  "data": {
                    "barpolar": [
                      {
                        "marker": {
                          "line": {
                            "color": "#E5ECF6",
                            "width": 0.5
                          },
                          "pattern": {
                            "fillmode": "overlay",
                            "size": 10,
                            "solidity": 0.2
                          }
                        },
                        "type": "barpolar"
                      }
                    ],
                    "bar": [
                      {
                        "error_x": {
                          "color": "#2a3f5f"
                        },
                        "error_y": {
                          "color": "#2a3f5f"
                        },
                        "marker": {
                          "line": {
                            "color": "#E5ECF6",
                            "width": 0.5
                          },
                          "pattern": {
                            "fillmode": "overlay",
                            "size": 10,
                            "solidity": 0.2
                          }
                        },
                        "type": "bar"
                      }
                    ],
                    "carpet": [
                      {
                        "aaxis": {
                          "endlinecolor": "#2a3f5f",
                          "gridcolor": "white",
                          "linecolor": "white",
                          "minorgridcolor": "white",
                          "startlinecolor": "#2a3f5f"
                        },
                        "baxis": {
                          "endlinecolor": "#2a3f5f",
                          "gridcolor": "white",
                          "linecolor": "white",
                          "minorgridcolor": "white",
                          "startlinecolor": "#2a3f5f"
                        },
                        "type": "carpet"
                      }
                    ],
                    "choropleth": [
                      {
                        "colorbar": {
                          "outlinewidth": 0,
                          "ticks": ""
                        },
                        "type": "choropleth"
                      }
                    ],
                    "contourcarpet": [
                      {
                        "colorbar": {
                          "outlinewidth": 0,
                          "ticks": ""
                        },
                        "type": "contourcarpet"
                      }
                    ],
                    "contour": [
                      {
                        "colorbar": {
                          "outlinewidth": 0,
                          "ticks": ""
                        },
                        "colorscale": [
                          [
                            0,
                            "#0d0887"
                          ],
                          [
                            0.1111111111111111,
                            "#46039f"
                          ],
                          [
                            0.2222222222222222,
                            "#7201a8"
                          ],
                          [
                            0.3333333333333333,
                            "#9c179e"
                          ],
                          [
                            0.4444444444444444,
                            "#bd3786"
                          ],
                          [
                            0.5555555555555556,
                            "#d8576b"
                          ],
                          [
                            0.6666666666666666,
                            "#ed7953"
                          ],
                          [
                            0.7777777777777778,
                            "#fb9f3a"
                          ],
                          [
                            0.8888888888888888,
                            "#fdca26"
                          ],
                          [
                            1,
                            "#f0f921"
                          ]
                        ],
                        "type": "contour"
                      }
                    ],
                    "heatmapgl": [
                      {
                        "colorbar": {
                          "outlinewidth": 0,
                          "ticks": ""
                        },
                        "colorscale": [
                          [
                            0,
                            "#0d0887"
                          ],
                          [
                            0.1111111111111111,
                            "#46039f"
                          ],
                          [
                            0.2222222222222222,
                            "#7201a8"
                          ],
                          [
                            0.3333333333333333,
                            "#9c179e"
                          ],
                          [
                            0.4444444444444444,
                            "#bd3786"
                          ],
                          [
                            0.5555555555555556,
                            "#d8576b"
                          ],
                          [
                            0.6666666666666666,
                            "#ed7953"
                          ],
                          [
                            0.7777777777777778,
                            "#fb9f3a"
                          ],
                          [
                            0.8888888888888888,
                            "#fdca26"
                          ],
                          [
                            1,
                            "#f0f921"
                          ]
                        ],
                        "type": "heatmapgl"
                      }
                    ],
                    "heatmap": [
                      {
                        "colorbar": {
                          "outlinewidth": 0,
                          "ticks": ""
                        },
                        "colorscale": [
                          [
                            0,
                            "#0d0887"
                          ],
                          [
                            0.1111111111111111,
                            "#46039f"
                          ],
                          [
                            0.2222222222222222,
                            "#7201a8"
                          ],
                          [
                            0.3333333333333333,
                            "#9c179e"
                          ],
                          [
                            0.4444444444444444,
                            "#bd3786"
                          ],
                          [
                            0.5555555555555556,
                            "#d8576b"
                          ],
                          [
                            0.6666666666666666,
                            "#ed7953"
                          ],
                          [
                            0.7777777777777778,
                            "#fb9f3a"
                          ],
                          [
                            0.8888888888888888,
                            "#fdca26"
                          ],
                          [
                            1,
                            "#f0f921"
                          ]
                        ],
                        "type": "heatmap"
                      }
                    ],
                    "histogram2dcontour": [
                      {
                        "colorbar": {
                          "outlinewidth": 0,
                          "ticks": ""
                        },
                        "colorscale": [
                          [
                            0,
                            "#0d0887"
                          ],
                          [
                            0.1111111111111111,
                            "#46039f"
                          ],
                          [
                            0.2222222222222222,
                            "#7201a8"
                          ],
                          [
                            0.3333333333333333,
                            "#9c179e"
                          ],
                          [
                            0.4444444444444444,
                            "#bd3786"
                          ],
                          [
                            0.5555555555555556,
                            "#d8576b"
                          ],
                          [
                            0.6666666666666666,
                            "#ed7953"
                          ],
                          [
                            0.7777777777777778,
                            "#fb9f3a"
                          ],
                          [
                            0.8888888888888888,
                            "#fdca26"
                          ],
                          [
                            1,
                            "#f0f921"
                          ]
                        ],
                        "type": "histogram2dcontour"
                      }
                    ],
                    "histogram2d": [
                      {
                        "colorbar": {
                          "outlinewidth": 0,
                          "ticks": ""
                        },
                        "colorscale": [
                          [
                            0,
                            "#0d0887"
                          ],
                          [
                            0.1111111111111111,
                            "#46039f"
                          ],
                          [
                            0.2222222222222222,
                            "#7201a8"
                          ],
                          [
                            0.3333333333333333,
                            "#9c179e"
                          ],
                          [
                            0.4444444444444444,
                            "#bd3786"
                          ],
                          [
                            0.5555555555555556,
                            "#d8576b"
                          ],
                          [
                            0.6666666666666666,
                            "#ed7953"
                          ],
                          [
                            0.7777777777777778,
                            "#fb9f3a"
                          ],
                          [
                            0.8888888888888888,
                            "#fdca26"
                          ],
                          [
                            1,
                            "#f0f921"
                          ]
                        ],
                        "type": "histogram2d"
                      }
                    ],
                    "histogram": [
                      {
                        "marker": {
                          "pattern": {
                            "fillmode": "overlay",
                            "size": 10,
                            "solidity": 0.2
                          }
                        },
                        "type": "histogram"
                      }
                    ],
                    "mesh3d": [
                      {
                        "colorbar": {
                          "outlinewidth": 0,
                          "ticks": ""
                        },
                        "type": "mesh3d"
                      }
                    ],
                    "parcoords": [
                      {
                        "line": {
                          "colorbar": {
                            "outlinewidth": 0,
                            "ticks": ""
                          }
                        },
                        "type": "parcoords"
                      }
                    ],
                    "pie": [
                      {
                        "automargin": true,
                        "type": "pie"
                      }
                    ],
                    "scatter3d": [
                      {
                        "line": {
                          "colorbar": {
                            "outlinewidth": 0,
                            "ticks": ""
                          }
                        },
                        "marker": {
                          "colorbar": {
                            "outlinewidth": 0,
                            "ticks": ""
                          }
                        },
                        "type": "scatter3d"
                      }
                    ],
                    "scattercarpet": [
                      {
                        "marker": {
                          "colorbar": {
                            "outlinewidth": 0,
                            "ticks": ""
                          }
                        },
                        "type": "scattercarpet"
                      }
                    ],
                    "scattergeo": [
                      {
                        "marker": {
                          "colorbar": {
                            "outlinewidth": 0,
                            "ticks": ""
                          }
                        },
                        "type": "scattergeo"
                      }
                    ],
                    "scattergl": [
                      {
                        "marker": {
                          "colorbar": {
                            "outlinewidth": 0,
                            "ticks": ""
                          }
                        },
                        "type": "scattergl"
                      }
                    ],
                    "scattermapbox": [
                      {
                        "marker": {
                          "colorbar": {
                            "outlinewidth": 0,
                            "ticks": ""
                          }
                        },
                        "type": "scattermapbox"
                      }
                    ],
                    "scatterpolargl": [
                      {
                        "marker": {
                          "colorbar": {
                            "outlinewidth": 0,
                            "ticks": ""
                          }
                        },
                        "type": "scatterpolargl"
                      }
                    ],
                    "scatterpolar": [
                      {
                        "marker": {
                          "colorbar": {
                            "outlinewidth": 0,
                            "ticks": ""
                          }
                        },
                        "type": "scatterpolar"
                      }
                    ],
                    "scatter": [
                      {
                        "marker": {
                          "colorbar": {
                            "outlinewidth": 0,
                            "ticks": ""
                          }
                        },
                        "type": "scatter"
                      }
                    ],
                    "scatterternary": [
                      {
                        "marker": {
                          "colorbar": {
                            "outlinewidth": 0,
                            "ticks": ""
                          }
                        },
                        "type": "scatterternary"
                      }
                    ],
                    "surface": [
                      {
                        "colorbar": {
                          "outlinewidth": 0,
                          "ticks": ""
                        },
                        "colorscale": [
                          [
                            0,
                            "#0d0887"
                          ],
                          [
                            0.1111111111111111,
                            "#46039f"
                          ],
                          [
                            0.2222222222222222,
                            "#7201a8"
                          ],
                          [
                            0.3333333333333333,
                            "#9c179e"
                          ],
                          [
                            0.4444444444444444,
                            "#bd3786"
                          ],
                          [
                            0.5555555555555556,
                            "#d8576b"
                          ],
                          [
                            0.6666666666666666,
                            "#ed7953"
                          ],
                          [
                            0.7777777777777778,
                            "#fb9f3a"
                          ],
                          [
                            0.8888888888888888,
                            "#fdca26"
                          ],
                          [
                            1,
                            "#f0f921"
                          ]
                        ],
                        "type": "surface"
                      }
                    ],
                    "table": [
                      {
                        "cells": {
                          "fill": {
                            "color": "#EBF0F8"
                          },
                          "line": {
                            "color": "white"
                          }
                        },
                        "header": {
                          "fill": {
                            "color": "#C8D4E3"
                          },
                          "line": {
                            "color": "white"
                          }
                        },
                        "type": "table"
                      }
                    ]
                  },
                  "layout": {
                    "annotationdefaults": {
                      "arrowcolor": "#2a3f5f",
                      "arrowhead": 0,
                      "arrowwidth": 1
                    },
                    "autotypenumbers": "strict",
                    "coloraxis": {
                      "colorbar": {
                        "outlinewidth": 0,
                        "ticks": ""
                      }
                    },
                    "colorscale": {
                      "diverging": [
                        [
                          0,
                          "#8e0152"
                        ],
                        [
                          0.1,
                          "#c51b7d"
                        ],
                        [
                          0.2,
                          "#de77ae"
                        ],
                        [
                          0.3,
                          "#f1b6da"
                        ],
                        [
                          0.4,
                          "#fde0ef"
                        ],
                        [
                          0.5,
                          "#f7f7f7"
                        ],
                        [
                          0.6,
                          "#e6f5d0"
                        ],
                        [
                          0.7,
                          "#b8e186"
                        ],
                        [
                          0.8,
                          "#7fbc41"
                        ],
                        [
                          0.9,
                          "#4d9221"
                        ],
                        [
                          1,
                          "#276419"
                        ]
                      ],
                      "sequential": [
                        [
                          0,
                          "#0d0887"
                        ],
                        [
                          0.1111111111111111,
                          "#46039f"
                        ],
                        [
                          0.2222222222222222,
                          "#7201a8"
                        ],
                        [
                          0.3333333333333333,
                          "#9c179e"
                        ],
                        [
                          0.4444444444444444,
                          "#bd3786"
                        ],
                        [
                          0.5555555555555556,
                          "#d8576b"
                        ],
                        [
                          0.6666666666666666,
                          "#ed7953"
                        ],
                        [
                          0.7777777777777778,
                          "#fb9f3a"
                        ],
                        [
                          0.8888888888888888,
                          "#fdca26"
                        ],
                        [
                          1,
                          "#f0f921"
                        ]
                      ],
                      "sequentialminus": [
                        [
                          0,
                          "#0d0887"
                        ],
                        [
                          0.1111111111111111,
                          "#46039f"
                        ],
                        [
                          0.2222222222222222,
                          "#7201a8"
                        ],
                        [
                          0.3333333333333333,
                          "#9c179e"
                        ],
                        [
                          0.4444444444444444,
                          "#bd3786"
                        ],
                        [
                          0.5555555555555556,
                          "#d8576b"
                        ],
                        [
                          0.6666666666666666,
                          "#ed7953"
                        ],
                        [
                          0.7777777777777778,
                          "#fb9f3a"
                        ],
                        [
                          0.8888888888888888,
                          "#fdca26"
                        ],
                        [
                          1,
                          "#f0f921"
                        ]
                      ]
                    },
                    "colorway": [
                      "#636efa",
                      "#EF553B",
                      "#00cc96",
                      "#ab63fa",
                      "#FFA15A",
                      "#19d3f3",
                      "#FF6692",
                      "#B6E880",
                      "#FF97FF",
                      "#FECB52"
                    ],
                    "font": {
                      "color": "#2a3f5f"
                    },
                    "geo": {
                      "bgcolor": "white",
                      "lakecolor": "white",
                      "landcolor": "#E5ECF6",
                      "showlakes": true,
                      "showland": true,
                      "subunitcolor": "white"
                    },
                    "hoverlabel": {
                      "align": "left"
                    },
                    "hovermode": "closest",
                    "mapbox": {
                      "style": "light"
                    },
                    "paper_bgcolor": "white",
                    "plot_bgcolor": "#E5ECF6",
                    "polar": {
                      "angularaxis": {
                        "gridcolor": "white",
                        "linecolor": "white",
                        "ticks": ""
                      },
                      "bgcolor": "#E5ECF6",
                      "radialaxis": {
                        "gridcolor": "white",
                        "linecolor": "white",
                        "ticks": ""
                      }
                    },
                    "scene": {
                      "xaxis": {
                        "backgroundcolor": "#E5ECF6",
                        "gridcolor": "white",
                        "gridwidth": 2,
                        "linecolor": "white",
                        "showbackground": true,
                        "ticks": "",
                        "zerolinecolor": "white"
                      },
                      "yaxis": {
                        "backgroundcolor": "#E5ECF6",
                        "gridcolor": "white",
                        "gridwidth": 2,
                        "linecolor": "white",
                        "showbackground": true,
                        "ticks": "",
                        "zerolinecolor": "white"
                      },
                      "zaxis": {
                        "backgroundcolor": "#E5ECF6",
                        "gridcolor": "white",
                        "gridwidth": 2,
                        "linecolor": "white",
                        "showbackground": true,
                        "ticks": "",
                        "zerolinecolor": "white"
                      }
                    },
                    "shapedefaults": {
                      "line": {
                        "color": "#2a3f5f"
                      }
                    },
                    "ternary": {
                      "aaxis": {
                        "gridcolor": "white",
                        "linecolor": "white",
                        "ticks": ""
                      },
                      "baxis": {
                        "gridcolor": "white",
                        "linecolor": "white",
                        "ticks": ""
                      },
                      "bgcolor": "#E5ECF6",
                      "caxis": {
                        "gridcolor": "white",
                        "linecolor": "white",
                        "ticks": ""
                      }
                    },
                    "title": {
                      "x": 0.05
                    },
                    "xaxis": {
                      "automargin": true,
                      "gridcolor": "white",
                      "linecolor": "white",
                      "ticks": "",
                      "title": {
                        "standoff": 15
                      },
                      "zerolinecolor": "white",
                      "zerolinewidth": 2
                    },
                    "yaxis": {
                      "automargin": true,
                      "gridcolor": "white",
                      "linecolor": "white",
                      "ticks": "",
                      "title": {
                        "standoff": 15
                      },
                      "zerolinecolor": "white",
                      "zerolinewidth": 2
                    }
                  }
                },
                "title": {
                  "font": {
                    "color": "#4D5663"
                  }
                },
                "xaxis": {
                  "gridcolor": "#E1E5ED",
                  "showgrid": true,
                  "tickfont": {
                    "color": "#4D5663"
                  },
                  "title": {
                    "font": {
                      "color": "#4D5663"
                    },
                    "text": "ObservationDate"
                  },
                  "zerolinecolor": "#E1E5ED"
                },
                "yaxis": {
                  "gridcolor": "#E1E5ED",
                  "showgrid": true,
                  "tickfont": {
                    "color": "#4D5663"
                  },
                  "title": {
                    "font": {
                      "color": "#4D5663"
                    },
                    "text": "Deaths"
                  },
                  "zerolinecolor": "#E1E5ED"
                }
              },
              "config": {
                "showLink": true,
                "linkText": "Export to plot.ly",
                "plotlyServerURL": "https://plot.ly"
              }
            },
            "text/html": [
              "<div>                            <div id=\"28012cfc-29cc-4da3-bae7-5ca1b172a998\" class=\"plotly-graph-div\" style=\"height:525px; width:100%;\"></div>            <script type=\"text/javascript\">                require([\"plotly\"], function(Plotly) {                    window.PLOTLYENV=window.PLOTLYENV || {};\n",
              "                    window.PLOTLYENV.BASE_URL='https://plot.ly';                                    if (document.getElementById(\"28012cfc-29cc-4da3-bae7-5ca1b172a998\")) {                    Plotly.newPlot(                        \"28012cfc-29cc-4da3-bae7-5ca1b172a998\",                        [{\"marker\":{\"color\":\"rgba(255, 153, 51, 0.6)\",\"line\":{\"color\":\"rgba(255, 153, 51, 1.0)\",\"width\":1}},\"name\":\"Deaths\",\"orientation\":\"v\",\"text\":\"\",\"x\":[\"01/22/2020\",\"01/23/2020\",\"01/24/2020\",\"01/25/2020\",\"01/26/2020\",\"01/27/2020\",\"01/28/2020\",\"01/29/2020\",\"01/30/2020\",\"01/31/2020\",\"02/01/2020\",\"02/02/2020\",\"02/03/2020\",\"02/04/2020\",\"02/05/2020\",\"02/06/2020\",\"02/07/2020\",\"02/08/2020\",\"02/09/2020\",\"02/10/2020\",\"02/11/2020\",\"02/12/2020\",\"02/13/2020\",\"02/14/2020\",\"02/15/2020\",\"02/16/2020\",\"02/17/2020\",\"02/18/2020\",\"02/19/2020\",\"02/20/2020\",\"02/21/2020\",\"02/22/2020\",\"02/23/2020\",\"02/24/2020\",\"02/25/2020\",\"02/26/2020\",\"02/27/2020\",\"02/28/2020\",\"02/29/2020\",\"03/01/2020\",\"03/02/2020\",\"03/03/2020\",\"03/04/2020\",\"03/05/2020\",\"03/06/2020\",\"03/07/2020\",\"03/08/2020\",\"03/09/2020\",\"03/10/2020\",\"03/11/2020\",\"03/12/2020\",\"03/13/2020\",\"03/14/2020\",\"03/15/2020\",\"03/16/2020\",\"03/17/2020\",\"03/18/2020\",\"03/19/2020\",\"03/20/2020\",\"03/21/2020\",\"03/22/2020\",\"03/23/2020\",\"03/24/2020\",\"03/25/2020\",\"03/26/2020\",\"03/27/2020\",\"03/28/2020\",\"03/29/2020\",\"03/30/2020\",\"03/31/2020\",\"04/01/2020\",\"04/02/2020\",\"04/03/2020\",\"04/04/2020\",\"04/05/2020\",\"04/06/2020\",\"04/07/2020\",\"04/08/2020\",\"04/09/2020\",\"04/10/2020\",\"04/11/2020\",\"04/12/2020\",\"04/13/2020\",\"04/14/2020\",\"04/15/2020\",\"04/16/2020\",\"04/17/2020\",\"04/18/2020\",\"04/19/2020\",\"04/20/2020\",\"04/21/2020\",\"04/22/2020\",\"04/23/2020\",\"04/24/2020\",\"04/25/2020\",\"04/26/2020\",\"04/27/2020\",\"04/28/2020\",\"04/29/2020\",\"04/30/2020\",\"05/01/2020\",\"05/02/2020\",\"05/03/2020\",\"05/04/2020\",\"05/05/2020\",\"05/06/2020\",\"05/07/2020\",\"05/08/2020\",\"05/09/2020\",\"05/10/2020\",\"05/11/2020\",\"05/12/2020\",\"05/13/2020\",\"05/14/2020\",\"05/15/2020\",\"05/16/2020\",\"05/17/2020\",\"05/18/2020\",\"05/19/2020\",\"05/20/2020\",\"05/21/2020\",\"05/22/2020\",\"05/23/2020\",\"05/24/2020\",\"05/25/2020\",\"05/26/2020\",\"05/27/2020\",\"05/28/2020\",\"05/29/2020\",\"05/30/2020\",\"05/31/2020\",\"06/01/2020\",\"06/02/2020\",\"06/03/2020\",\"06/04/2020\",\"06/05/2020\",\"06/06/2020\",\"06/07/2020\",\"06/08/2020\",\"06/09/2020\",\"06/10/2020\",\"06/11/2020\",\"06/12/2020\",\"06/13/2020\",\"06/14/2020\",\"06/15/2020\",\"06/16/2020\",\"06/17/2020\",\"06/18/2020\",\"06/19/2020\",\"06/20/2020\",\"06/21/2020\",\"06/22/2020\",\"06/23/2020\",\"06/24/2020\",\"06/25/2020\",\"06/26/2020\",\"06/27/2020\",\"06/28/2020\",\"06/29/2020\",\"06/30/2020\",\"07/01/2020\",\"07/02/2020\",\"07/03/2020\",\"07/04/2020\",\"07/05/2020\",\"07/06/2020\",\"07/07/2020\",\"07/08/2020\",\"07/09/2020\",\"07/10/2020\",\"07/11/2020\",\"07/12/2020\",\"07/13/2020\",\"07/14/2020\",\"07/15/2020\",\"07/16/2020\",\"07/17/2020\",\"07/18/2020\",\"07/19/2020\",\"07/20/2020\",\"07/21/2020\",\"07/22/2020\",\"07/23/2020\",\"07/24/2020\",\"07/25/2020\",\"07/26/2020\",\"07/27/2020\",\"07/28/2020\",\"07/29/2020\",\"07/30/2020\",\"07/31/2020\",\"08/01/2020\",\"08/02/2020\",\"08/03/2020\",\"08/04/2020\",\"08/05/2020\",\"08/06/2020\",\"08/07/2020\",\"08/08/2020\",\"08/09/2020\",\"08/10/2020\",\"08/11/2020\",\"08/12/2020\",\"08/13/2020\",\"08/14/2020\",\"08/15/2020\",\"08/16/2020\",\"08/17/2020\",\"08/18/2020\",\"08/19/2020\",\"08/20/2020\",\"08/21/2020\",\"08/22/2020\",\"08/23/2020\",\"08/24/2020\",\"08/25/2020\",\"08/26/2020\",\"08/27/2020\",\"08/28/2020\",\"08/29/2020\",\"08/30/2020\",\"08/31/2020\",\"09/01/2020\",\"09/02/2020\",\"09/03/2020\",\"09/04/2020\",\"09/05/2020\",\"09/06/2020\",\"09/07/2020\",\"09/08/2020\",\"09/09/2020\",\"09/10/2020\",\"09/11/2020\",\"09/12/2020\",\"09/13/2020\",\"09/14/2020\",\"09/15/2020\",\"09/16/2020\",\"09/17/2020\",\"09/18/2020\",\"09/19/2020\",\"09/20/2020\",\"09/21/2020\",\"09/22/2020\",\"09/23/2020\",\"09/24/2020\",\"09/25/2020\",\"09/26/2020\",\"09/27/2020\",\"09/28/2020\",\"09/29/2020\",\"09/30/2020\",\"10/01/2020\",\"10/02/2020\",\"10/03/2020\",\"10/04/2020\",\"10/05/2020\",\"10/06/2020\",\"10/07/2020\",\"10/08/2020\",\"10/09/2020\",\"10/10/2020\",\"10/11/2020\",\"10/12/2020\",\"10/13/2020\",\"10/14/2020\",\"10/15/2020\",\"10/16/2020\",\"10/17/2020\",\"10/18/2020\",\"10/19/2020\",\"10/20/2020\",\"10/21/2020\",\"10/22/2020\",\"10/23/2020\",\"10/24/2020\",\"10/25/2020\",\"10/26/2020\",\"10/27/2020\",\"10/28/2020\",\"10/29/2020\",\"10/30/2020\",\"10/31/2020\",\"11/01/2020\",\"11/02/2020\",\"11/03/2020\",\"11/04/2020\",\"11/05/2020\",\"11/06/2020\",\"11/07/2020\",\"11/08/2020\",\"11/09/2020\",\"11/10/2020\",\"11/11/2020\",\"11/12/2020\",\"11/13/2020\",\"11/14/2020\",\"11/15/2020\",\"11/16/2020\",\"11/17/2020\",\"11/18/2020\",\"11/19/2020\",\"11/20/2020\",\"11/21/2020\",\"11/22/2020\",\"11/23/2020\",\"11/24/2020\",\"11/25/2020\",\"11/26/2020\",\"11/27/2020\",\"11/28/2020\",\"11/29/2020\",\"11/30/2020\",\"12/01/2020\",\"12/02/2020\",\"12/03/2020\",\"12/04/2020\",\"12/05/2020\",\"12/06/2020\"],\"y\":[17.0,18.0,26.0,42.0,56.0,82.0,131.0,133.0,171.0,213.0,259.0,362.0,426.0,492.0,564.0,634.0,719.0,806.0,906.0,1013.0,1113.0,1118.0,1371.0,1523.0,1666.0,1770.0,1868.0,2007.0,2122.0,2247.0,2251.0,2458.0,2469.0,2629.0,2708.0,2770.0,2814.0,2872.0,2941.0,2996.0,3085.0,3160.0,3254.0,3348.0,3460.0,3558.0,3803.0,3996.0,4262.0,4615.0,4720.0,5404.0,5819.0,6440.0,7126.0,7905.0,8733.0,9867.0,11297.0,12973.0,14623.0,16497.0,18616.0,21181.0,23971.0,27197.0,30653.0,33927.0,37584.0,42110.0,46815.0,52984.0,58792.0,64612.0,69385.0,74575.0,81879.0,88351.0,95452.0,102538.0,108503.0,114105.0,119484.0,125995.0,134195.0,143806.0,153828.0,159513.0,165046.0,169989.0,176589.0,183070.0,190860.0,197158.0,202851.0,206551.0,211172.0,217158.0,227644.0,233391.0,238654.0,243811.0,247474.0,251541.0,257241.0,263833.0,269569.0,274901.0,279315.0,282712.0,286332.0,291967.0,297199.0,302421.0,307668.0,311785.0,315189.0,318484.0,323288.0,328119.0,332928.0,338164.0,342102.0,345065.0,346237.0,350458.0,355637.0,360314.0,364873.0,369132.0,372040.0,375551.0,380391.0,385955.0,391144.0,396131.0,400010.0,402753.0,406552.0,411444.0,416210.0,421466.0,425403.0,429746.0,433078.0,436910.0,443697.0,448969.0,453994.0,460227.0,464474.0,468373.0,472175.0,477589.0,482761.0,489322.0,494190.0,498735.0,501912.0,505522.0,511269.0,516229.0,521312.0,526426.0,530772.0,534285.0,538084.0,544187.0,549496.0,554949.0,560235.0,565167.0,569155.0,573059.0,578690.0,584155.0,589952.0,596560.0,602184.0,606215.0,609943.0,616499.0,623495.0,633455.0,639704.0,645302.0,648698.0,654150.0,659716.0,667111.0,673313.0,679636.0,685196.0,689508.0,694139.0,700886.0,707932.0,715061.0,721454.0,726918.0,731482.0,736636.0,742869.0,749850.0,755836.0,765968.0,771351.0,775556.0,774354.0,781241.0,787963.0,793997.0,799509.0,804689.0,808947.0,813418.0,819696.0,825976.0,831876.0,837412.0,842666.0,846698.0,850849.0,857303.0,863393.0,869112.0,874762.0,879707.0,883755.0,892875.0,897774.0,904133.0,909927.0,915813.0,920698.0,924351.0,927738.0,935317.0,941130.0,946599.0,952299.0,957536.0,961232.0,965363.0,971372.0,976954.0,983648.0,989548.0,994832.0,998446.0,1002359.0,1008439.0,1014880.0,1023423.0,1028568.0,1033913.0,1037683.0,1044674.0,1050444.0,1056279.0,1062478.0,1068631.0,1073438.0,1077346.0,1081266.0,1086714.0,1092754.0,1098848.0,1104977.0,1110447.0,1113812.0,1118777.0,1125347.0,1131991.0,1137853.0,1144828.0,1150458.0,1154550.0,1160136.0,1167508.0,1174665.0,1181694.0,1189518.0,1196072.0,1201015.0,1206731.0,1214851.0,1226353.0,1234389.0,1244029.0,1251591.0,1257331.0,1264439.0,1274465.0,1284908.0,1294857.0,1304410.0,1313402.0,1319662.0,1327501.0,1338609.0,1349936.0,1360917.0,1372755.0,1381539.0,1388599.0,1396913.0,1409691.0,1421748.0,1432489.0,1443110.0,1452852.0,1459771.0,1468458.0,1481306.0,1493742.0,1506260.0,1518670.0,1528868.0,1536056.0],\"type\":\"bar\"}],                        {\"legend\":{\"bgcolor\":\"#F5F6F9\",\"font\":{\"color\":\"#4D5663\"}},\"paper_bgcolor\":\"#F5F6F9\",\"plot_bgcolor\":\"#F5F6F9\",\"template\":{\"data\":{\"barpolar\":[{\"marker\":{\"line\":{\"color\":\"#E5ECF6\",\"width\":0.5},\"pattern\":{\"fillmode\":\"overlay\",\"size\":10,\"solidity\":0.2}},\"type\":\"barpolar\"}],\"bar\":[{\"error_x\":{\"color\":\"#2a3f5f\"},\"error_y\":{\"color\":\"#2a3f5f\"},\"marker\":{\"line\":{\"color\":\"#E5ECF6\",\"width\":0.5},\"pattern\":{\"fillmode\":\"overlay\",\"size\":10,\"solidity\":0.2}},\"type\":\"bar\"}],\"carpet\":[{\"aaxis\":{\"endlinecolor\":\"#2a3f5f\",\"gridcolor\":\"white\",\"linecolor\":\"white\",\"minorgridcolor\":\"white\",\"startlinecolor\":\"#2a3f5f\"},\"baxis\":{\"endlinecolor\":\"#2a3f5f\",\"gridcolor\":\"white\",\"linecolor\":\"white\",\"minorgridcolor\":\"white\",\"startlinecolor\":\"#2a3f5f\"},\"type\":\"carpet\"}],\"choropleth\":[{\"colorbar\":{\"outlinewidth\":0,\"ticks\":\"\"},\"type\":\"choropleth\"}],\"contourcarpet\":[{\"colorbar\":{\"outlinewidth\":0,\"ticks\":\"\"},\"type\":\"contourcarpet\"}],\"contour\":[{\"colorbar\":{\"outlinewidth\":0,\"ticks\":\"\"},\"colorscale\":[[0.0,\"#0d0887\"],[0.1111111111111111,\"#46039f\"],[0.2222222222222222,\"#7201a8\"],[0.3333333333333333,\"#9c179e\"],[0.4444444444444444,\"#bd3786\"],[0.5555555555555556,\"#d8576b\"],[0.6666666666666666,\"#ed7953\"],[0.7777777777777778,\"#fb9f3a\"],[0.8888888888888888,\"#fdca26\"],[1.0,\"#f0f921\"]],\"type\":\"contour\"}],\"heatmapgl\":[{\"colorbar\":{\"outlinewidth\":0,\"ticks\":\"\"},\"colorscale\":[[0.0,\"#0d0887\"],[0.1111111111111111,\"#46039f\"],[0.2222222222222222,\"#7201a8\"],[0.3333333333333333,\"#9c179e\"],[0.4444444444444444,\"#bd3786\"],[0.5555555555555556,\"#d8576b\"],[0.6666666666666666,\"#ed7953\"],[0.7777777777777778,\"#fb9f3a\"],[0.8888888888888888,\"#fdca26\"],[1.0,\"#f0f921\"]],\"type\":\"heatmapgl\"}],\"heatmap\":[{\"colorbar\":{\"outlinewidth\":0,\"ticks\":\"\"},\"colorscale\":[[0.0,\"#0d0887\"],[0.1111111111111111,\"#46039f\"],[0.2222222222222222,\"#7201a8\"],[0.3333333333333333,\"#9c179e\"],[0.4444444444444444,\"#bd3786\"],[0.5555555555555556,\"#d8576b\"],[0.6666666666666666,\"#ed7953\"],[0.7777777777777778,\"#fb9f3a\"],[0.8888888888888888,\"#fdca26\"],[1.0,\"#f0f921\"]],\"type\":\"heatmap\"}],\"histogram2dcontour\":[{\"colorbar\":{\"outlinewidth\":0,\"ticks\":\"\"},\"colorscale\":[[0.0,\"#0d0887\"],[0.1111111111111111,\"#46039f\"],[0.2222222222222222,\"#7201a8\"],[0.3333333333333333,\"#9c179e\"],[0.4444444444444444,\"#bd3786\"],[0.5555555555555556,\"#d8576b\"],[0.6666666666666666,\"#ed7953\"],[0.7777777777777778,\"#fb9f3a\"],[0.8888888888888888,\"#fdca26\"],[1.0,\"#f0f921\"]],\"type\":\"histogram2dcontour\"}],\"histogram2d\":[{\"colorbar\":{\"outlinewidth\":0,\"ticks\":\"\"},\"colorscale\":[[0.0,\"#0d0887\"],[0.1111111111111111,\"#46039f\"],[0.2222222222222222,\"#7201a8\"],[0.3333333333333333,\"#9c179e\"],[0.4444444444444444,\"#bd3786\"],[0.5555555555555556,\"#d8576b\"],[0.6666666666666666,\"#ed7953\"],[0.7777777777777778,\"#fb9f3a\"],[0.8888888888888888,\"#fdca26\"],[1.0,\"#f0f921\"]],\"type\":\"histogram2d\"}],\"histogram\":[{\"marker\":{\"pattern\":{\"fillmode\":\"overlay\",\"size\":10,\"solidity\":0.2}},\"type\":\"histogram\"}],\"mesh3d\":[{\"colorbar\":{\"outlinewidth\":0,\"ticks\":\"\"},\"type\":\"mesh3d\"}],\"parcoords\":[{\"line\":{\"colorbar\":{\"outlinewidth\":0,\"ticks\":\"\"}},\"type\":\"parcoords\"}],\"pie\":[{\"automargin\":true,\"type\":\"pie\"}],\"scatter3d\":[{\"line\":{\"colorbar\":{\"outlinewidth\":0,\"ticks\":\"\"}},\"marker\":{\"colorbar\":{\"outlinewidth\":0,\"ticks\":\"\"}},\"type\":\"scatter3d\"}],\"scattercarpet\":[{\"marker\":{\"colorbar\":{\"outlinewidth\":0,\"ticks\":\"\"}},\"type\":\"scattercarpet\"}],\"scattergeo\":[{\"marker\":{\"colorbar\":{\"outlinewidth\":0,\"ticks\":\"\"}},\"type\":\"scattergeo\"}],\"scattergl\":[{\"marker\":{\"colorbar\":{\"outlinewidth\":0,\"ticks\":\"\"}},\"type\":\"scattergl\"}],\"scattermapbox\":[{\"marker\":{\"colorbar\":{\"outlinewidth\":0,\"ticks\":\"\"}},\"type\":\"scattermapbox\"}],\"scatterpolargl\":[{\"marker\":{\"colorbar\":{\"outlinewidth\":0,\"ticks\":\"\"}},\"type\":\"scatterpolargl\"}],\"scatterpolar\":[{\"marker\":{\"colorbar\":{\"outlinewidth\":0,\"ticks\":\"\"}},\"type\":\"scatterpolar\"}],\"scatter\":[{\"marker\":{\"colorbar\":{\"outlinewidth\":0,\"ticks\":\"\"}},\"type\":\"scatter\"}],\"scatterternary\":[{\"marker\":{\"colorbar\":{\"outlinewidth\":0,\"ticks\":\"\"}},\"type\":\"scatterternary\"}],\"surface\":[{\"colorbar\":{\"outlinewidth\":0,\"ticks\":\"\"},\"colorscale\":[[0.0,\"#0d0887\"],[0.1111111111111111,\"#46039f\"],[0.2222222222222222,\"#7201a8\"],[0.3333333333333333,\"#9c179e\"],[0.4444444444444444,\"#bd3786\"],[0.5555555555555556,\"#d8576b\"],[0.6666666666666666,\"#ed7953\"],[0.7777777777777778,\"#fb9f3a\"],[0.8888888888888888,\"#fdca26\"],[1.0,\"#f0f921\"]],\"type\":\"surface\"}],\"table\":[{\"cells\":{\"fill\":{\"color\":\"#EBF0F8\"},\"line\":{\"color\":\"white\"}},\"header\":{\"fill\":{\"color\":\"#C8D4E3\"},\"line\":{\"color\":\"white\"}},\"type\":\"table\"}]},\"layout\":{\"annotationdefaults\":{\"arrowcolor\":\"#2a3f5f\",\"arrowhead\":0,\"arrowwidth\":1},\"autotypenumbers\":\"strict\",\"coloraxis\":{\"colorbar\":{\"outlinewidth\":0,\"ticks\":\"\"}},\"colorscale\":{\"diverging\":[[0,\"#8e0152\"],[0.1,\"#c51b7d\"],[0.2,\"#de77ae\"],[0.3,\"#f1b6da\"],[0.4,\"#fde0ef\"],[0.5,\"#f7f7f7\"],[0.6,\"#e6f5d0\"],[0.7,\"#b8e186\"],[0.8,\"#7fbc41\"],[0.9,\"#4d9221\"],[1,\"#276419\"]],\"sequential\":[[0.0,\"#0d0887\"],[0.1111111111111111,\"#46039f\"],[0.2222222222222222,\"#7201a8\"],[0.3333333333333333,\"#9c179e\"],[0.4444444444444444,\"#bd3786\"],[0.5555555555555556,\"#d8576b\"],[0.6666666666666666,\"#ed7953\"],[0.7777777777777778,\"#fb9f3a\"],[0.8888888888888888,\"#fdca26\"],[1.0,\"#f0f921\"]],\"sequentialminus\":[[0.0,\"#0d0887\"],[0.1111111111111111,\"#46039f\"],[0.2222222222222222,\"#7201a8\"],[0.3333333333333333,\"#9c179e\"],[0.4444444444444444,\"#bd3786\"],[0.5555555555555556,\"#d8576b\"],[0.6666666666666666,\"#ed7953\"],[0.7777777777777778,\"#fb9f3a\"],[0.8888888888888888,\"#fdca26\"],[1.0,\"#f0f921\"]]},\"colorway\":[\"#636efa\",\"#EF553B\",\"#00cc96\",\"#ab63fa\",\"#FFA15A\",\"#19d3f3\",\"#FF6692\",\"#B6E880\",\"#FF97FF\",\"#FECB52\"],\"font\":{\"color\":\"#2a3f5f\"},\"geo\":{\"bgcolor\":\"white\",\"lakecolor\":\"white\",\"landcolor\":\"#E5ECF6\",\"showlakes\":true,\"showland\":true,\"subunitcolor\":\"white\"},\"hoverlabel\":{\"align\":\"left\"},\"hovermode\":\"closest\",\"mapbox\":{\"style\":\"light\"},\"paper_bgcolor\":\"white\",\"plot_bgcolor\":\"#E5ECF6\",\"polar\":{\"angularaxis\":{\"gridcolor\":\"white\",\"linecolor\":\"white\",\"ticks\":\"\"},\"bgcolor\":\"#E5ECF6\",\"radialaxis\":{\"gridcolor\":\"white\",\"linecolor\":\"white\",\"ticks\":\"\"}},\"scene\":{\"xaxis\":{\"backgroundcolor\":\"#E5ECF6\",\"gridcolor\":\"white\",\"gridwidth\":2,\"linecolor\":\"white\",\"showbackground\":true,\"ticks\":\"\",\"zerolinecolor\":\"white\"},\"yaxis\":{\"backgroundcolor\":\"#E5ECF6\",\"gridcolor\":\"white\",\"gridwidth\":2,\"linecolor\":\"white\",\"showbackground\":true,\"ticks\":\"\",\"zerolinecolor\":\"white\"},\"zaxis\":{\"backgroundcolor\":\"#E5ECF6\",\"gridcolor\":\"white\",\"gridwidth\":2,\"linecolor\":\"white\",\"showbackground\":true,\"ticks\":\"\",\"zerolinecolor\":\"white\"}},\"shapedefaults\":{\"line\":{\"color\":\"#2a3f5f\"}},\"ternary\":{\"aaxis\":{\"gridcolor\":\"white\",\"linecolor\":\"white\",\"ticks\":\"\"},\"baxis\":{\"gridcolor\":\"white\",\"linecolor\":\"white\",\"ticks\":\"\"},\"bgcolor\":\"#E5ECF6\",\"caxis\":{\"gridcolor\":\"white\",\"linecolor\":\"white\",\"ticks\":\"\"}},\"title\":{\"x\":0.05},\"xaxis\":{\"automargin\":true,\"gridcolor\":\"white\",\"linecolor\":\"white\",\"ticks\":\"\",\"title\":{\"standoff\":15},\"zerolinecolor\":\"white\",\"zerolinewidth\":2},\"yaxis\":{\"automargin\":true,\"gridcolor\":\"white\",\"linecolor\":\"white\",\"ticks\":\"\",\"title\":{\"standoff\":15},\"zerolinecolor\":\"white\",\"zerolinewidth\":2}}},\"title\":{\"font\":{\"color\":\"#4D5663\"}},\"xaxis\":{\"gridcolor\":\"#E1E5ED\",\"showgrid\":true,\"tickfont\":{\"color\":\"#4D5663\"},\"title\":{\"font\":{\"color\":\"#4D5663\"},\"text\":\"ObservationDate\"},\"zerolinecolor\":\"#E1E5ED\"},\"yaxis\":{\"gridcolor\":\"#E1E5ED\",\"showgrid\":true,\"tickfont\":{\"color\":\"#4D5663\"},\"title\":{\"font\":{\"color\":\"#4D5663\"},\"text\":\"Deaths\"},\"zerolinecolor\":\"#E1E5ED\"}},                        {\"showLink\": true, \"linkText\": \"Export to plot.ly\", \"plotlyServerURL\": \"https://plot.ly\", \"responsive\": true}                    ).then(function(){\n",
              "                            \n",
              "var gd = document.getElementById('28012cfc-29cc-4da3-bae7-5ca1b172a998');\n",
              "var x = new MutationObserver(function (mutations, observer) {{\n",
              "        var display = window.getComputedStyle(gd).display;\n",
              "        if (!display || display === 'none') {{\n",
              "            console.log([gd, 'removed!']);\n",
              "            Plotly.purge(gd);\n",
              "            observer.disconnect();\n",
              "        }}\n",
              "}});\n",
              "\n",
              "// Listen for the removal of the full notebook cells\n",
              "var notebookContainer = gd.closest('#notebook-container');\n",
              "if (notebookContainer) {{\n",
              "    x.observe(notebookContainer, {childList: true});\n",
              "}}\n",
              "\n",
              "// Listen for the clearing of the current output cell\n",
              "var outputEl = gd.closest('.output');\n",
              "if (outputEl) {{\n",
              "    x.observe(outputEl, {childList: true});\n",
              "}}\n",
              "\n",
              "                        })                };                });            </script>        </div>"
            ]
          },
          "metadata": {}
        }
      ]
    },
    {
      "cell_type": "code",
      "source": [
        "recovered = df.groupby('ObservationDate').sum()['Recovered'].reset_index()\n",
        "recovered"
      ],
      "metadata": {
        "colab": {
          "base_uri": "https://localhost:8080/",
          "height": 424
        },
        "id": "BV3m-3nLHBsX",
        "outputId": "b02976e2-76a9-4d7d-c073-0f6cbec5062f"
      },
      "execution_count": 16,
      "outputs": [
        {
          "output_type": "execute_result",
          "data": {
            "text/plain": [
              "    ObservationDate   Recovered\n",
              "0        01/22/2020        28.0\n",
              "1        01/23/2020        30.0\n",
              "2        01/24/2020        36.0\n",
              "3        01/25/2020        39.0\n",
              "4        01/26/2020        52.0\n",
              "..              ...         ...\n",
              "315      12/02/2020  41496318.0\n",
              "316      12/03/2020  41932091.0\n",
              "317      12/04/2020  42352021.0\n",
              "318      12/05/2020  42789879.0\n",
              "319      12/06/2020  43103827.0\n",
              "\n",
              "[320 rows x 2 columns]"
            ],
            "text/html": [
              "\n",
              "  <div id=\"df-c35609a0-dd16-4f68-a904-ac5ac64b64c3\">\n",
              "    <div class=\"colab-df-container\">\n",
              "      <div>\n",
              "<style scoped>\n",
              "    .dataframe tbody tr th:only-of-type {\n",
              "        vertical-align: middle;\n",
              "    }\n",
              "\n",
              "    .dataframe tbody tr th {\n",
              "        vertical-align: top;\n",
              "    }\n",
              "\n",
              "    .dataframe thead th {\n",
              "        text-align: right;\n",
              "    }\n",
              "</style>\n",
              "<table border=\"1\" class=\"dataframe\">\n",
              "  <thead>\n",
              "    <tr style=\"text-align: right;\">\n",
              "      <th></th>\n",
              "      <th>ObservationDate</th>\n",
              "      <th>Recovered</th>\n",
              "    </tr>\n",
              "  </thead>\n",
              "  <tbody>\n",
              "    <tr>\n",
              "      <th>0</th>\n",
              "      <td>01/22/2020</td>\n",
              "      <td>28.0</td>\n",
              "    </tr>\n",
              "    <tr>\n",
              "      <th>1</th>\n",
              "      <td>01/23/2020</td>\n",
              "      <td>30.0</td>\n",
              "    </tr>\n",
              "    <tr>\n",
              "      <th>2</th>\n",
              "      <td>01/24/2020</td>\n",
              "      <td>36.0</td>\n",
              "    </tr>\n",
              "    <tr>\n",
              "      <th>3</th>\n",
              "      <td>01/25/2020</td>\n",
              "      <td>39.0</td>\n",
              "    </tr>\n",
              "    <tr>\n",
              "      <th>4</th>\n",
              "      <td>01/26/2020</td>\n",
              "      <td>52.0</td>\n",
              "    </tr>\n",
              "    <tr>\n",
              "      <th>...</th>\n",
              "      <td>...</td>\n",
              "      <td>...</td>\n",
              "    </tr>\n",
              "    <tr>\n",
              "      <th>315</th>\n",
              "      <td>12/02/2020</td>\n",
              "      <td>41496318.0</td>\n",
              "    </tr>\n",
              "    <tr>\n",
              "      <th>316</th>\n",
              "      <td>12/03/2020</td>\n",
              "      <td>41932091.0</td>\n",
              "    </tr>\n",
              "    <tr>\n",
              "      <th>317</th>\n",
              "      <td>12/04/2020</td>\n",
              "      <td>42352021.0</td>\n",
              "    </tr>\n",
              "    <tr>\n",
              "      <th>318</th>\n",
              "      <td>12/05/2020</td>\n",
              "      <td>42789879.0</td>\n",
              "    </tr>\n",
              "    <tr>\n",
              "      <th>319</th>\n",
              "      <td>12/06/2020</td>\n",
              "      <td>43103827.0</td>\n",
              "    </tr>\n",
              "  </tbody>\n",
              "</table>\n",
              "<p>320 rows × 2 columns</p>\n",
              "</div>\n",
              "      <button class=\"colab-df-convert\" onclick=\"convertToInteractive('df-c35609a0-dd16-4f68-a904-ac5ac64b64c3')\"\n",
              "              title=\"Convert this dataframe to an interactive table.\"\n",
              "              style=\"display:none;\">\n",
              "        \n",
              "  <svg xmlns=\"http://www.w3.org/2000/svg\" height=\"24px\"viewBox=\"0 0 24 24\"\n",
              "       width=\"24px\">\n",
              "    <path d=\"M0 0h24v24H0V0z\" fill=\"none\"/>\n",
              "    <path d=\"M18.56 5.44l.94 2.06.94-2.06 2.06-.94-2.06-.94-.94-2.06-.94 2.06-2.06.94zm-11 1L8.5 8.5l.94-2.06 2.06-.94-2.06-.94L8.5 2.5l-.94 2.06-2.06.94zm10 10l.94 2.06.94-2.06 2.06-.94-2.06-.94-.94-2.06-.94 2.06-2.06.94z\"/><path d=\"M17.41 7.96l-1.37-1.37c-.4-.4-.92-.59-1.43-.59-.52 0-1.04.2-1.43.59L10.3 9.45l-7.72 7.72c-.78.78-.78 2.05 0 2.83L4 21.41c.39.39.9.59 1.41.59.51 0 1.02-.2 1.41-.59l7.78-7.78 2.81-2.81c.8-.78.8-2.07 0-2.86zM5.41 20L4 18.59l7.72-7.72 1.47 1.35L5.41 20z\"/>\n",
              "  </svg>\n",
              "      </button>\n",
              "      \n",
              "  <style>\n",
              "    .colab-df-container {\n",
              "      display:flex;\n",
              "      flex-wrap:wrap;\n",
              "      gap: 12px;\n",
              "    }\n",
              "\n",
              "    .colab-df-convert {\n",
              "      background-color: #E8F0FE;\n",
              "      border: none;\n",
              "      border-radius: 50%;\n",
              "      cursor: pointer;\n",
              "      display: none;\n",
              "      fill: #1967D2;\n",
              "      height: 32px;\n",
              "      padding: 0 0 0 0;\n",
              "      width: 32px;\n",
              "    }\n",
              "\n",
              "    .colab-df-convert:hover {\n",
              "      background-color: #E2EBFA;\n",
              "      box-shadow: 0px 1px 2px rgba(60, 64, 67, 0.3), 0px 1px 3px 1px rgba(60, 64, 67, 0.15);\n",
              "      fill: #174EA6;\n",
              "    }\n",
              "\n",
              "    [theme=dark] .colab-df-convert {\n",
              "      background-color: #3B4455;\n",
              "      fill: #D2E3FC;\n",
              "    }\n",
              "\n",
              "    [theme=dark] .colab-df-convert:hover {\n",
              "      background-color: #434B5C;\n",
              "      box-shadow: 0px 1px 3px 1px rgba(0, 0, 0, 0.15);\n",
              "      filter: drop-shadow(0px 1px 2px rgba(0, 0, 0, 0.3));\n",
              "      fill: #FFFFFF;\n",
              "    }\n",
              "  </style>\n",
              "\n",
              "      <script>\n",
              "        const buttonEl =\n",
              "          document.querySelector('#df-c35609a0-dd16-4f68-a904-ac5ac64b64c3 button.colab-df-convert');\n",
              "        buttonEl.style.display =\n",
              "          google.colab.kernel.accessAllowed ? 'block' : 'none';\n",
              "\n",
              "        async function convertToInteractive(key) {\n",
              "          const element = document.querySelector('#df-c35609a0-dd16-4f68-a904-ac5ac64b64c3');\n",
              "          const dataTable =\n",
              "            await google.colab.kernel.invokeFunction('convertToInteractive',\n",
              "                                                     [key], {});\n",
              "          if (!dataTable) return;\n",
              "\n",
              "          const docLinkHtml = 'Like what you see? Visit the ' +\n",
              "            '<a target=\"_blank\" href=https://colab.research.google.com/notebooks/data_table.ipynb>data table notebook</a>'\n",
              "            + ' to learn more about interactive tables.';\n",
              "          element.innerHTML = '';\n",
              "          dataTable['output_type'] = 'display_data';\n",
              "          await google.colab.output.renderOutput(dataTable, element);\n",
              "          const docLink = document.createElement('div');\n",
              "          docLink.innerHTML = docLinkHtml;\n",
              "          element.appendChild(docLink);\n",
              "        }\n",
              "      </script>\n",
              "    </div>\n",
              "  </div>\n",
              "  "
            ]
          },
          "metadata": {},
          "execution_count": 16
        }
      ]
    },
    {
      "cell_type": "code",
      "source": [
        "recovered.iplot(kind='bar',x='ObservationDate',y='Recovered',xTitle='ObservationDate',yTitle=\"Recovered\")\n"
      ],
      "metadata": {
        "colab": {
          "base_uri": "https://localhost:8080/",
          "height": 542
        },
        "id": "0J6aeMTdHCjs",
        "outputId": "1e38205d-98bd-424e-8bc8-b403342184fb"
      },
      "execution_count": 17,
      "outputs": [
        {
          "output_type": "display_data",
          "data": {
            "application/vnd.plotly.v1+json": {
              "data": [
                {
                  "marker": {
                    "color": "rgba(255, 153, 51, 0.6)",
                    "line": {
                      "color": "rgba(255, 153, 51, 1.0)",
                      "width": 1
                    }
                  },
                  "name": "Recovered",
                  "orientation": "v",
                  "text": "",
                  "x": [
                    "01/22/2020",
                    "01/23/2020",
                    "01/24/2020",
                    "01/25/2020",
                    "01/26/2020",
                    "01/27/2020",
                    "01/28/2020",
                    "01/29/2020",
                    "01/30/2020",
                    "01/31/2020",
                    "02/01/2020",
                    "02/02/2020",
                    "02/03/2020",
                    "02/04/2020",
                    "02/05/2020",
                    "02/06/2020",
                    "02/07/2020",
                    "02/08/2020",
                    "02/09/2020",
                    "02/10/2020",
                    "02/11/2020",
                    "02/12/2020",
                    "02/13/2020",
                    "02/14/2020",
                    "02/15/2020",
                    "02/16/2020",
                    "02/17/2020",
                    "02/18/2020",
                    "02/19/2020",
                    "02/20/2020",
                    "02/21/2020",
                    "02/22/2020",
                    "02/23/2020",
                    "02/24/2020",
                    "02/25/2020",
                    "02/26/2020",
                    "02/27/2020",
                    "02/28/2020",
                    "02/29/2020",
                    "03/01/2020",
                    "03/02/2020",
                    "03/03/2020",
                    "03/04/2020",
                    "03/05/2020",
                    "03/06/2020",
                    "03/07/2020",
                    "03/08/2020",
                    "03/09/2020",
                    "03/10/2020",
                    "03/11/2020",
                    "03/12/2020",
                    "03/13/2020",
                    "03/14/2020",
                    "03/15/2020",
                    "03/16/2020",
                    "03/17/2020",
                    "03/18/2020",
                    "03/19/2020",
                    "03/20/2020",
                    "03/21/2020",
                    "03/22/2020",
                    "03/23/2020",
                    "03/24/2020",
                    "03/25/2020",
                    "03/26/2020",
                    "03/27/2020",
                    "03/28/2020",
                    "03/29/2020",
                    "03/30/2020",
                    "03/31/2020",
                    "04/01/2020",
                    "04/02/2020",
                    "04/03/2020",
                    "04/04/2020",
                    "04/05/2020",
                    "04/06/2020",
                    "04/07/2020",
                    "04/08/2020",
                    "04/09/2020",
                    "04/10/2020",
                    "04/11/2020",
                    "04/12/2020",
                    "04/13/2020",
                    "04/14/2020",
                    "04/15/2020",
                    "04/16/2020",
                    "04/17/2020",
                    "04/18/2020",
                    "04/19/2020",
                    "04/20/2020",
                    "04/21/2020",
                    "04/22/2020",
                    "04/23/2020",
                    "04/24/2020",
                    "04/25/2020",
                    "04/26/2020",
                    "04/27/2020",
                    "04/28/2020",
                    "04/29/2020",
                    "04/30/2020",
                    "05/01/2020",
                    "05/02/2020",
                    "05/03/2020",
                    "05/04/2020",
                    "05/05/2020",
                    "05/06/2020",
                    "05/07/2020",
                    "05/08/2020",
                    "05/09/2020",
                    "05/10/2020",
                    "05/11/2020",
                    "05/12/2020",
                    "05/13/2020",
                    "05/14/2020",
                    "05/15/2020",
                    "05/16/2020",
                    "05/17/2020",
                    "05/18/2020",
                    "05/19/2020",
                    "05/20/2020",
                    "05/21/2020",
                    "05/22/2020",
                    "05/23/2020",
                    "05/24/2020",
                    "05/25/2020",
                    "05/26/2020",
                    "05/27/2020",
                    "05/28/2020",
                    "05/29/2020",
                    "05/30/2020",
                    "05/31/2020",
                    "06/01/2020",
                    "06/02/2020",
                    "06/03/2020",
                    "06/04/2020",
                    "06/05/2020",
                    "06/06/2020",
                    "06/07/2020",
                    "06/08/2020",
                    "06/09/2020",
                    "06/10/2020",
                    "06/11/2020",
                    "06/12/2020",
                    "06/13/2020",
                    "06/14/2020",
                    "06/15/2020",
                    "06/16/2020",
                    "06/17/2020",
                    "06/18/2020",
                    "06/19/2020",
                    "06/20/2020",
                    "06/21/2020",
                    "06/22/2020",
                    "06/23/2020",
                    "06/24/2020",
                    "06/25/2020",
                    "06/26/2020",
                    "06/27/2020",
                    "06/28/2020",
                    "06/29/2020",
                    "06/30/2020",
                    "07/01/2020",
                    "07/02/2020",
                    "07/03/2020",
                    "07/04/2020",
                    "07/05/2020",
                    "07/06/2020",
                    "07/07/2020",
                    "07/08/2020",
                    "07/09/2020",
                    "07/10/2020",
                    "07/11/2020",
                    "07/12/2020",
                    "07/13/2020",
                    "07/14/2020",
                    "07/15/2020",
                    "07/16/2020",
                    "07/17/2020",
                    "07/18/2020",
                    "07/19/2020",
                    "07/20/2020",
                    "07/21/2020",
                    "07/22/2020",
                    "07/23/2020",
                    "07/24/2020",
                    "07/25/2020",
                    "07/26/2020",
                    "07/27/2020",
                    "07/28/2020",
                    "07/29/2020",
                    "07/30/2020",
                    "07/31/2020",
                    "08/01/2020",
                    "08/02/2020",
                    "08/03/2020",
                    "08/04/2020",
                    "08/05/2020",
                    "08/06/2020",
                    "08/07/2020",
                    "08/08/2020",
                    "08/09/2020",
                    "08/10/2020",
                    "08/11/2020",
                    "08/12/2020",
                    "08/13/2020",
                    "08/14/2020",
                    "08/15/2020",
                    "08/16/2020",
                    "08/17/2020",
                    "08/18/2020",
                    "08/19/2020",
                    "08/20/2020",
                    "08/21/2020",
                    "08/22/2020",
                    "08/23/2020",
                    "08/24/2020",
                    "08/25/2020",
                    "08/26/2020",
                    "08/27/2020",
                    "08/28/2020",
                    "08/29/2020",
                    "08/30/2020",
                    "08/31/2020",
                    "09/01/2020",
                    "09/02/2020",
                    "09/03/2020",
                    "09/04/2020",
                    "09/05/2020",
                    "09/06/2020",
                    "09/07/2020",
                    "09/08/2020",
                    "09/09/2020",
                    "09/10/2020",
                    "09/11/2020",
                    "09/12/2020",
                    "09/13/2020",
                    "09/14/2020",
                    "09/15/2020",
                    "09/16/2020",
                    "09/17/2020",
                    "09/18/2020",
                    "09/19/2020",
                    "09/20/2020",
                    "09/21/2020",
                    "09/22/2020",
                    "09/23/2020",
                    "09/24/2020",
                    "09/25/2020",
                    "09/26/2020",
                    "09/27/2020",
                    "09/28/2020",
                    "09/29/2020",
                    "09/30/2020",
                    "10/01/2020",
                    "10/02/2020",
                    "10/03/2020",
                    "10/04/2020",
                    "10/05/2020",
                    "10/06/2020",
                    "10/07/2020",
                    "10/08/2020",
                    "10/09/2020",
                    "10/10/2020",
                    "10/11/2020",
                    "10/12/2020",
                    "10/13/2020",
                    "10/14/2020",
                    "10/15/2020",
                    "10/16/2020",
                    "10/17/2020",
                    "10/18/2020",
                    "10/19/2020",
                    "10/20/2020",
                    "10/21/2020",
                    "10/22/2020",
                    "10/23/2020",
                    "10/24/2020",
                    "10/25/2020",
                    "10/26/2020",
                    "10/27/2020",
                    "10/28/2020",
                    "10/29/2020",
                    "10/30/2020",
                    "10/31/2020",
                    "11/01/2020",
                    "11/02/2020",
                    "11/03/2020",
                    "11/04/2020",
                    "11/05/2020",
                    "11/06/2020",
                    "11/07/2020",
                    "11/08/2020",
                    "11/09/2020",
                    "11/10/2020",
                    "11/11/2020",
                    "11/12/2020",
                    "11/13/2020",
                    "11/14/2020",
                    "11/15/2020",
                    "11/16/2020",
                    "11/17/2020",
                    "11/18/2020",
                    "11/19/2020",
                    "11/20/2020",
                    "11/21/2020",
                    "11/22/2020",
                    "11/23/2020",
                    "11/24/2020",
                    "11/25/2020",
                    "11/26/2020",
                    "11/27/2020",
                    "11/28/2020",
                    "11/29/2020",
                    "11/30/2020",
                    "12/01/2020",
                    "12/02/2020",
                    "12/03/2020",
                    "12/04/2020",
                    "12/05/2020",
                    "12/06/2020"
                  ],
                  "y": [
                    28,
                    30,
                    36,
                    39,
                    52,
                    61,
                    107,
                    126,
                    143,
                    222,
                    284,
                    472,
                    623,
                    852,
                    1124,
                    1487,
                    2011,
                    2616,
                    3244,
                    3946,
                    4683,
                    5150,
                    6295,
                    8058,
                    9395,
                    10865,
                    12583,
                    14352,
                    16121,
                    18177,
                    18890,
                    22886,
                    23394,
                    25227,
                    27905,
                    30384,
                    33276,
                    36710,
                    39781,
                    42715,
                    45601,
                    48228,
                    51170,
                    53796,
                    55864,
                    58357,
                    60693,
                    62510,
                    64400,
                    66999,
                    68320,
                    70248,
                    72621,
                    76031,
                    78085,
                    80832,
                    83308,
                    84962,
                    87402,
                    91654,
                    97225,
                    100943,
                    107677,
                    113743,
                    122125,
                    130899,
                    139404,
                    149049,
                    164546,
                    178014,
                    193425,
                    210522,
                    226060,
                    246442,
                    260355,
                    276869,
                    300343,
                    329051,
                    354270,
                    376373,
                    402380,
                    422004,
                    449028,
                    474617,
                    511279,
                    542463,
                    568767,
                    592683,
                    624377,
                    646376,
                    680415,
                    709993,
                    738741,
                    793708,
                    816905,
                    866089,
                    894402,
                    929030,
                    972957,
                    1015116,
                    1053564,
                    1093130,
                    1125432,
                    1162893,
                    1198928,
                    1245619,
                    1284971,
                    1322139,
                    1375650,
                    1409199,
                    1456306,
                    1493526,
                    1548713,
                    1588020,
                    1637273,
                    1693222,
                    1734083,
                    1786968,
                    1839045,
                    1897575,
                    1948795,
                    2056653,
                    2112071,
                    2168531,
                    2231683,
                    2286851,
                    2349932,
                    2415813,
                    2493327,
                    2564490,
                    2641192,
                    2695896,
                    2729408,
                    2804850,
                    2869844,
                    3013042,
                    3085754,
                    3140846,
                    3293369,
                    3375623,
                    3454812,
                    3540685,
                    3613284,
                    3698281,
                    3769723,
                    3857404,
                    3955254,
                    4074080,
                    4155235,
                    4245892,
                    4378403,
                    4447184,
                    4526432,
                    4630472,
                    4746195,
                    4839017,
                    4944924,
                    5051149,
                    5140263,
                    5235190,
                    5352666,
                    5577066,
                    5753447,
                    5863274,
                    6058920,
                    6178397,
                    6302095,
                    6447124,
                    6605139,
                    6739811,
                    6879260,
                    7005028,
                    7116834,
                    7257222,
                    7399371,
                    7559185,
                    7711579,
                    7895054,
                    8045825,
                    8133841,
                    8290741,
                    8467504,
                    8646262,
                    8823657,
                    9051960,
                    9271771,
                    9409701,
                    9586452,
                    9721624,
                    9959512,
                    10173026,
                    10372630,
                    10556528,
                    10695244,
                    10917690,
                    11138917,
                    11360609,
                    11549417,
                    11741463,
                    11941716,
                    12120463,
                    12284653,
                    12589720,
                    12831231,
                    12994271,
                    13277502,
                    13446113,
                    13679063,
                    13890074,
                    14117693,
                    14335692,
                    14543485,
                    14711982,
                    14911052,
                    15138028,
                    15337438,
                    15568925,
                    15794562,
                    16003063,
                    16202647,
                    16414032,
                    16624237,
                    16825017,
                    17080254,
                    17298341,
                    17519696,
                    17724129,
                    17924656,
                    18145972,
                    18332443,
                    18532089,
                    18784801,
                    19001427,
                    19225083,
                    19448014,
                    19635848,
                    19785022,
                    20089006,
                    20318488,
                    20538676,
                    20789816,
                    21026795,
                    21263843,
                    21509287,
                    21727180,
                    21990595,
                    22246238,
                    22485455,
                    22747605,
                    22961461,
                    23183979,
                    23424021,
                    23672220,
                    23885526,
                    24066070,
                    24321682,
                    24543813,
                    24781248,
                    25012368,
                    25267561,
                    25487134,
                    25694001,
                    25889427,
                    26112051,
                    26312319,
                    26501532,
                    26713838,
                    26920705,
                    27123696,
                    27322014,
                    27523423,
                    27725831,
                    27934000,
                    28145461,
                    28372247,
                    28579075,
                    28790641,
                    28988679,
                    29226935,
                    29816657,
                    30079306,
                    30325963,
                    29718151,
                    30847561,
                    31105316,
                    31385640,
                    31637095,
                    31916327,
                    32219873,
                    32508235,
                    32807327,
                    33060205,
                    33316925,
                    33573929,
                    33954291,
                    34179721,
                    34481766,
                    34759840,
                    34989537,
                    35378248,
                    35812940,
                    36176087,
                    36549174,
                    36904549,
                    37243768,
                    37516165,
                    37926212,
                    38297744,
                    38734721,
                    39099944,
                    39476664,
                    39831868,
                    40157966,
                    40559353,
                    41034934,
                    41496318,
                    41932091,
                    42352021,
                    42789879,
                    43103827
                  ],
                  "type": "bar"
                }
              ],
              "layout": {
                "legend": {
                  "bgcolor": "#F5F6F9",
                  "font": {
                    "color": "#4D5663"
                  }
                },
                "paper_bgcolor": "#F5F6F9",
                "plot_bgcolor": "#F5F6F9",
                "template": {
                  "data": {
                    "barpolar": [
                      {
                        "marker": {
                          "line": {
                            "color": "#E5ECF6",
                            "width": 0.5
                          },
                          "pattern": {
                            "fillmode": "overlay",
                            "size": 10,
                            "solidity": 0.2
                          }
                        },
                        "type": "barpolar"
                      }
                    ],
                    "bar": [
                      {
                        "error_x": {
                          "color": "#2a3f5f"
                        },
                        "error_y": {
                          "color": "#2a3f5f"
                        },
                        "marker": {
                          "line": {
                            "color": "#E5ECF6",
                            "width": 0.5
                          },
                          "pattern": {
                            "fillmode": "overlay",
                            "size": 10,
                            "solidity": 0.2
                          }
                        },
                        "type": "bar"
                      }
                    ],
                    "carpet": [
                      {
                        "aaxis": {
                          "endlinecolor": "#2a3f5f",
                          "gridcolor": "white",
                          "linecolor": "white",
                          "minorgridcolor": "white",
                          "startlinecolor": "#2a3f5f"
                        },
                        "baxis": {
                          "endlinecolor": "#2a3f5f",
                          "gridcolor": "white",
                          "linecolor": "white",
                          "minorgridcolor": "white",
                          "startlinecolor": "#2a3f5f"
                        },
                        "type": "carpet"
                      }
                    ],
                    "choropleth": [
                      {
                        "colorbar": {
                          "outlinewidth": 0,
                          "ticks": ""
                        },
                        "type": "choropleth"
                      }
                    ],
                    "contourcarpet": [
                      {
                        "colorbar": {
                          "outlinewidth": 0,
                          "ticks": ""
                        },
                        "type": "contourcarpet"
                      }
                    ],
                    "contour": [
                      {
                        "colorbar": {
                          "outlinewidth": 0,
                          "ticks": ""
                        },
                        "colorscale": [
                          [
                            0,
                            "#0d0887"
                          ],
                          [
                            0.1111111111111111,
                            "#46039f"
                          ],
                          [
                            0.2222222222222222,
                            "#7201a8"
                          ],
                          [
                            0.3333333333333333,
                            "#9c179e"
                          ],
                          [
                            0.4444444444444444,
                            "#bd3786"
                          ],
                          [
                            0.5555555555555556,
                            "#d8576b"
                          ],
                          [
                            0.6666666666666666,
                            "#ed7953"
                          ],
                          [
                            0.7777777777777778,
                            "#fb9f3a"
                          ],
                          [
                            0.8888888888888888,
                            "#fdca26"
                          ],
                          [
                            1,
                            "#f0f921"
                          ]
                        ],
                        "type": "contour"
                      }
                    ],
                    "heatmapgl": [
                      {
                        "colorbar": {
                          "outlinewidth": 0,
                          "ticks": ""
                        },
                        "colorscale": [
                          [
                            0,
                            "#0d0887"
                          ],
                          [
                            0.1111111111111111,
                            "#46039f"
                          ],
                          [
                            0.2222222222222222,
                            "#7201a8"
                          ],
                          [
                            0.3333333333333333,
                            "#9c179e"
                          ],
                          [
                            0.4444444444444444,
                            "#bd3786"
                          ],
                          [
                            0.5555555555555556,
                            "#d8576b"
                          ],
                          [
                            0.6666666666666666,
                            "#ed7953"
                          ],
                          [
                            0.7777777777777778,
                            "#fb9f3a"
                          ],
                          [
                            0.8888888888888888,
                            "#fdca26"
                          ],
                          [
                            1,
                            "#f0f921"
                          ]
                        ],
                        "type": "heatmapgl"
                      }
                    ],
                    "heatmap": [
                      {
                        "colorbar": {
                          "outlinewidth": 0,
                          "ticks": ""
                        },
                        "colorscale": [
                          [
                            0,
                            "#0d0887"
                          ],
                          [
                            0.1111111111111111,
                            "#46039f"
                          ],
                          [
                            0.2222222222222222,
                            "#7201a8"
                          ],
                          [
                            0.3333333333333333,
                            "#9c179e"
                          ],
                          [
                            0.4444444444444444,
                            "#bd3786"
                          ],
                          [
                            0.5555555555555556,
                            "#d8576b"
                          ],
                          [
                            0.6666666666666666,
                            "#ed7953"
                          ],
                          [
                            0.7777777777777778,
                            "#fb9f3a"
                          ],
                          [
                            0.8888888888888888,
                            "#fdca26"
                          ],
                          [
                            1,
                            "#f0f921"
                          ]
                        ],
                        "type": "heatmap"
                      }
                    ],
                    "histogram2dcontour": [
                      {
                        "colorbar": {
                          "outlinewidth": 0,
                          "ticks": ""
                        },
                        "colorscale": [
                          [
                            0,
                            "#0d0887"
                          ],
                          [
                            0.1111111111111111,
                            "#46039f"
                          ],
                          [
                            0.2222222222222222,
                            "#7201a8"
                          ],
                          [
                            0.3333333333333333,
                            "#9c179e"
                          ],
                          [
                            0.4444444444444444,
                            "#bd3786"
                          ],
                          [
                            0.5555555555555556,
                            "#d8576b"
                          ],
                          [
                            0.6666666666666666,
                            "#ed7953"
                          ],
                          [
                            0.7777777777777778,
                            "#fb9f3a"
                          ],
                          [
                            0.8888888888888888,
                            "#fdca26"
                          ],
                          [
                            1,
                            "#f0f921"
                          ]
                        ],
                        "type": "histogram2dcontour"
                      }
                    ],
                    "histogram2d": [
                      {
                        "colorbar": {
                          "outlinewidth": 0,
                          "ticks": ""
                        },
                        "colorscale": [
                          [
                            0,
                            "#0d0887"
                          ],
                          [
                            0.1111111111111111,
                            "#46039f"
                          ],
                          [
                            0.2222222222222222,
                            "#7201a8"
                          ],
                          [
                            0.3333333333333333,
                            "#9c179e"
                          ],
                          [
                            0.4444444444444444,
                            "#bd3786"
                          ],
                          [
                            0.5555555555555556,
                            "#d8576b"
                          ],
                          [
                            0.6666666666666666,
                            "#ed7953"
                          ],
                          [
                            0.7777777777777778,
                            "#fb9f3a"
                          ],
                          [
                            0.8888888888888888,
                            "#fdca26"
                          ],
                          [
                            1,
                            "#f0f921"
                          ]
                        ],
                        "type": "histogram2d"
                      }
                    ],
                    "histogram": [
                      {
                        "marker": {
                          "pattern": {
                            "fillmode": "overlay",
                            "size": 10,
                            "solidity": 0.2
                          }
                        },
                        "type": "histogram"
                      }
                    ],
                    "mesh3d": [
                      {
                        "colorbar": {
                          "outlinewidth": 0,
                          "ticks": ""
                        },
                        "type": "mesh3d"
                      }
                    ],
                    "parcoords": [
                      {
                        "line": {
                          "colorbar": {
                            "outlinewidth": 0,
                            "ticks": ""
                          }
                        },
                        "type": "parcoords"
                      }
                    ],
                    "pie": [
                      {
                        "automargin": true,
                        "type": "pie"
                      }
                    ],
                    "scatter3d": [
                      {
                        "line": {
                          "colorbar": {
                            "outlinewidth": 0,
                            "ticks": ""
                          }
                        },
                        "marker": {
                          "colorbar": {
                            "outlinewidth": 0,
                            "ticks": ""
                          }
                        },
                        "type": "scatter3d"
                      }
                    ],
                    "scattercarpet": [
                      {
                        "marker": {
                          "colorbar": {
                            "outlinewidth": 0,
                            "ticks": ""
                          }
                        },
                        "type": "scattercarpet"
                      }
                    ],
                    "scattergeo": [
                      {
                        "marker": {
                          "colorbar": {
                            "outlinewidth": 0,
                            "ticks": ""
                          }
                        },
                        "type": "scattergeo"
                      }
                    ],
                    "scattergl": [
                      {
                        "marker": {
                          "colorbar": {
                            "outlinewidth": 0,
                            "ticks": ""
                          }
                        },
                        "type": "scattergl"
                      }
                    ],
                    "scattermapbox": [
                      {
                        "marker": {
                          "colorbar": {
                            "outlinewidth": 0,
                            "ticks": ""
                          }
                        },
                        "type": "scattermapbox"
                      }
                    ],
                    "scatterpolargl": [
                      {
                        "marker": {
                          "colorbar": {
                            "outlinewidth": 0,
                            "ticks": ""
                          }
                        },
                        "type": "scatterpolargl"
                      }
                    ],
                    "scatterpolar": [
                      {
                        "marker": {
                          "colorbar": {
                            "outlinewidth": 0,
                            "ticks": ""
                          }
                        },
                        "type": "scatterpolar"
                      }
                    ],
                    "scatter": [
                      {
                        "marker": {
                          "colorbar": {
                            "outlinewidth": 0,
                            "ticks": ""
                          }
                        },
                        "type": "scatter"
                      }
                    ],
                    "scatterternary": [
                      {
                        "marker": {
                          "colorbar": {
                            "outlinewidth": 0,
                            "ticks": ""
                          }
                        },
                        "type": "scatterternary"
                      }
                    ],
                    "surface": [
                      {
                        "colorbar": {
                          "outlinewidth": 0,
                          "ticks": ""
                        },
                        "colorscale": [
                          [
                            0,
                            "#0d0887"
                          ],
                          [
                            0.1111111111111111,
                            "#46039f"
                          ],
                          [
                            0.2222222222222222,
                            "#7201a8"
                          ],
                          [
                            0.3333333333333333,
                            "#9c179e"
                          ],
                          [
                            0.4444444444444444,
                            "#bd3786"
                          ],
                          [
                            0.5555555555555556,
                            "#d8576b"
                          ],
                          [
                            0.6666666666666666,
                            "#ed7953"
                          ],
                          [
                            0.7777777777777778,
                            "#fb9f3a"
                          ],
                          [
                            0.8888888888888888,
                            "#fdca26"
                          ],
                          [
                            1,
                            "#f0f921"
                          ]
                        ],
                        "type": "surface"
                      }
                    ],
                    "table": [
                      {
                        "cells": {
                          "fill": {
                            "color": "#EBF0F8"
                          },
                          "line": {
                            "color": "white"
                          }
                        },
                        "header": {
                          "fill": {
                            "color": "#C8D4E3"
                          },
                          "line": {
                            "color": "white"
                          }
                        },
                        "type": "table"
                      }
                    ]
                  },
                  "layout": {
                    "annotationdefaults": {
                      "arrowcolor": "#2a3f5f",
                      "arrowhead": 0,
                      "arrowwidth": 1
                    },
                    "autotypenumbers": "strict",
                    "coloraxis": {
                      "colorbar": {
                        "outlinewidth": 0,
                        "ticks": ""
                      }
                    },
                    "colorscale": {
                      "diverging": [
                        [
                          0,
                          "#8e0152"
                        ],
                        [
                          0.1,
                          "#c51b7d"
                        ],
                        [
                          0.2,
                          "#de77ae"
                        ],
                        [
                          0.3,
                          "#f1b6da"
                        ],
                        [
                          0.4,
                          "#fde0ef"
                        ],
                        [
                          0.5,
                          "#f7f7f7"
                        ],
                        [
                          0.6,
                          "#e6f5d0"
                        ],
                        [
                          0.7,
                          "#b8e186"
                        ],
                        [
                          0.8,
                          "#7fbc41"
                        ],
                        [
                          0.9,
                          "#4d9221"
                        ],
                        [
                          1,
                          "#276419"
                        ]
                      ],
                      "sequential": [
                        [
                          0,
                          "#0d0887"
                        ],
                        [
                          0.1111111111111111,
                          "#46039f"
                        ],
                        [
                          0.2222222222222222,
                          "#7201a8"
                        ],
                        [
                          0.3333333333333333,
                          "#9c179e"
                        ],
                        [
                          0.4444444444444444,
                          "#bd3786"
                        ],
                        [
                          0.5555555555555556,
                          "#d8576b"
                        ],
                        [
                          0.6666666666666666,
                          "#ed7953"
                        ],
                        [
                          0.7777777777777778,
                          "#fb9f3a"
                        ],
                        [
                          0.8888888888888888,
                          "#fdca26"
                        ],
                        [
                          1,
                          "#f0f921"
                        ]
                      ],
                      "sequentialminus": [
                        [
                          0,
                          "#0d0887"
                        ],
                        [
                          0.1111111111111111,
                          "#46039f"
                        ],
                        [
                          0.2222222222222222,
                          "#7201a8"
                        ],
                        [
                          0.3333333333333333,
                          "#9c179e"
                        ],
                        [
                          0.4444444444444444,
                          "#bd3786"
                        ],
                        [
                          0.5555555555555556,
                          "#d8576b"
                        ],
                        [
                          0.6666666666666666,
                          "#ed7953"
                        ],
                        [
                          0.7777777777777778,
                          "#fb9f3a"
                        ],
                        [
                          0.8888888888888888,
                          "#fdca26"
                        ],
                        [
                          1,
                          "#f0f921"
                        ]
                      ]
                    },
                    "colorway": [
                      "#636efa",
                      "#EF553B",
                      "#00cc96",
                      "#ab63fa",
                      "#FFA15A",
                      "#19d3f3",
                      "#FF6692",
                      "#B6E880",
                      "#FF97FF",
                      "#FECB52"
                    ],
                    "font": {
                      "color": "#2a3f5f"
                    },
                    "geo": {
                      "bgcolor": "white",
                      "lakecolor": "white",
                      "landcolor": "#E5ECF6",
                      "showlakes": true,
                      "showland": true,
                      "subunitcolor": "white"
                    },
                    "hoverlabel": {
                      "align": "left"
                    },
                    "hovermode": "closest",
                    "mapbox": {
                      "style": "light"
                    },
                    "paper_bgcolor": "white",
                    "plot_bgcolor": "#E5ECF6",
                    "polar": {
                      "angularaxis": {
                        "gridcolor": "white",
                        "linecolor": "white",
                        "ticks": ""
                      },
                      "bgcolor": "#E5ECF6",
                      "radialaxis": {
                        "gridcolor": "white",
                        "linecolor": "white",
                        "ticks": ""
                      }
                    },
                    "scene": {
                      "xaxis": {
                        "backgroundcolor": "#E5ECF6",
                        "gridcolor": "white",
                        "gridwidth": 2,
                        "linecolor": "white",
                        "showbackground": true,
                        "ticks": "",
                        "zerolinecolor": "white"
                      },
                      "yaxis": {
                        "backgroundcolor": "#E5ECF6",
                        "gridcolor": "white",
                        "gridwidth": 2,
                        "linecolor": "white",
                        "showbackground": true,
                        "ticks": "",
                        "zerolinecolor": "white"
                      },
                      "zaxis": {
                        "backgroundcolor": "#E5ECF6",
                        "gridcolor": "white",
                        "gridwidth": 2,
                        "linecolor": "white",
                        "showbackground": true,
                        "ticks": "",
                        "zerolinecolor": "white"
                      }
                    },
                    "shapedefaults": {
                      "line": {
                        "color": "#2a3f5f"
                      }
                    },
                    "ternary": {
                      "aaxis": {
                        "gridcolor": "white",
                        "linecolor": "white",
                        "ticks": ""
                      },
                      "baxis": {
                        "gridcolor": "white",
                        "linecolor": "white",
                        "ticks": ""
                      },
                      "bgcolor": "#E5ECF6",
                      "caxis": {
                        "gridcolor": "white",
                        "linecolor": "white",
                        "ticks": ""
                      }
                    },
                    "title": {
                      "x": 0.05
                    },
                    "xaxis": {
                      "automargin": true,
                      "gridcolor": "white",
                      "linecolor": "white",
                      "ticks": "",
                      "title": {
                        "standoff": 15
                      },
                      "zerolinecolor": "white",
                      "zerolinewidth": 2
                    },
                    "yaxis": {
                      "automargin": true,
                      "gridcolor": "white",
                      "linecolor": "white",
                      "ticks": "",
                      "title": {
                        "standoff": 15
                      },
                      "zerolinecolor": "white",
                      "zerolinewidth": 2
                    }
                  }
                },
                "title": {
                  "font": {
                    "color": "#4D5663"
                  }
                },
                "xaxis": {
                  "gridcolor": "#E1E5ED",
                  "showgrid": true,
                  "tickfont": {
                    "color": "#4D5663"
                  },
                  "title": {
                    "font": {
                      "color": "#4D5663"
                    },
                    "text": "ObservationDate"
                  },
                  "zerolinecolor": "#E1E5ED"
                },
                "yaxis": {
                  "gridcolor": "#E1E5ED",
                  "showgrid": true,
                  "tickfont": {
                    "color": "#4D5663"
                  },
                  "title": {
                    "font": {
                      "color": "#4D5663"
                    },
                    "text": "Recovered"
                  },
                  "zerolinecolor": "#E1E5ED"
                }
              },
              "config": {
                "showLink": true,
                "linkText": "Export to plot.ly",
                "plotlyServerURL": "https://plot.ly"
              }
            },
            "text/html": [
              "<div>                            <div id=\"06869d27-c235-49c1-ac4b-49b3c50d214d\" class=\"plotly-graph-div\" style=\"height:525px; width:100%;\"></div>            <script type=\"text/javascript\">                require([\"plotly\"], function(Plotly) {                    window.PLOTLYENV=window.PLOTLYENV || {};\n",
              "                    window.PLOTLYENV.BASE_URL='https://plot.ly';                                    if (document.getElementById(\"06869d27-c235-49c1-ac4b-49b3c50d214d\")) {                    Plotly.newPlot(                        \"06869d27-c235-49c1-ac4b-49b3c50d214d\",                        [{\"marker\":{\"color\":\"rgba(255, 153, 51, 0.6)\",\"line\":{\"color\":\"rgba(255, 153, 51, 1.0)\",\"width\":1}},\"name\":\"Recovered\",\"orientation\":\"v\",\"text\":\"\",\"x\":[\"01/22/2020\",\"01/23/2020\",\"01/24/2020\",\"01/25/2020\",\"01/26/2020\",\"01/27/2020\",\"01/28/2020\",\"01/29/2020\",\"01/30/2020\",\"01/31/2020\",\"02/01/2020\",\"02/02/2020\",\"02/03/2020\",\"02/04/2020\",\"02/05/2020\",\"02/06/2020\",\"02/07/2020\",\"02/08/2020\",\"02/09/2020\",\"02/10/2020\",\"02/11/2020\",\"02/12/2020\",\"02/13/2020\",\"02/14/2020\",\"02/15/2020\",\"02/16/2020\",\"02/17/2020\",\"02/18/2020\",\"02/19/2020\",\"02/20/2020\",\"02/21/2020\",\"02/22/2020\",\"02/23/2020\",\"02/24/2020\",\"02/25/2020\",\"02/26/2020\",\"02/27/2020\",\"02/28/2020\",\"02/29/2020\",\"03/01/2020\",\"03/02/2020\",\"03/03/2020\",\"03/04/2020\",\"03/05/2020\",\"03/06/2020\",\"03/07/2020\",\"03/08/2020\",\"03/09/2020\",\"03/10/2020\",\"03/11/2020\",\"03/12/2020\",\"03/13/2020\",\"03/14/2020\",\"03/15/2020\",\"03/16/2020\",\"03/17/2020\",\"03/18/2020\",\"03/19/2020\",\"03/20/2020\",\"03/21/2020\",\"03/22/2020\",\"03/23/2020\",\"03/24/2020\",\"03/25/2020\",\"03/26/2020\",\"03/27/2020\",\"03/28/2020\",\"03/29/2020\",\"03/30/2020\",\"03/31/2020\",\"04/01/2020\",\"04/02/2020\",\"04/03/2020\",\"04/04/2020\",\"04/05/2020\",\"04/06/2020\",\"04/07/2020\",\"04/08/2020\",\"04/09/2020\",\"04/10/2020\",\"04/11/2020\",\"04/12/2020\",\"04/13/2020\",\"04/14/2020\",\"04/15/2020\",\"04/16/2020\",\"04/17/2020\",\"04/18/2020\",\"04/19/2020\",\"04/20/2020\",\"04/21/2020\",\"04/22/2020\",\"04/23/2020\",\"04/24/2020\",\"04/25/2020\",\"04/26/2020\",\"04/27/2020\",\"04/28/2020\",\"04/29/2020\",\"04/30/2020\",\"05/01/2020\",\"05/02/2020\",\"05/03/2020\",\"05/04/2020\",\"05/05/2020\",\"05/06/2020\",\"05/07/2020\",\"05/08/2020\",\"05/09/2020\",\"05/10/2020\",\"05/11/2020\",\"05/12/2020\",\"05/13/2020\",\"05/14/2020\",\"05/15/2020\",\"05/16/2020\",\"05/17/2020\",\"05/18/2020\",\"05/19/2020\",\"05/20/2020\",\"05/21/2020\",\"05/22/2020\",\"05/23/2020\",\"05/24/2020\",\"05/25/2020\",\"05/26/2020\",\"05/27/2020\",\"05/28/2020\",\"05/29/2020\",\"05/30/2020\",\"05/31/2020\",\"06/01/2020\",\"06/02/2020\",\"06/03/2020\",\"06/04/2020\",\"06/05/2020\",\"06/06/2020\",\"06/07/2020\",\"06/08/2020\",\"06/09/2020\",\"06/10/2020\",\"06/11/2020\",\"06/12/2020\",\"06/13/2020\",\"06/14/2020\",\"06/15/2020\",\"06/16/2020\",\"06/17/2020\",\"06/18/2020\",\"06/19/2020\",\"06/20/2020\",\"06/21/2020\",\"06/22/2020\",\"06/23/2020\",\"06/24/2020\",\"06/25/2020\",\"06/26/2020\",\"06/27/2020\",\"06/28/2020\",\"06/29/2020\",\"06/30/2020\",\"07/01/2020\",\"07/02/2020\",\"07/03/2020\",\"07/04/2020\",\"07/05/2020\",\"07/06/2020\",\"07/07/2020\",\"07/08/2020\",\"07/09/2020\",\"07/10/2020\",\"07/11/2020\",\"07/12/2020\",\"07/13/2020\",\"07/14/2020\",\"07/15/2020\",\"07/16/2020\",\"07/17/2020\",\"07/18/2020\",\"07/19/2020\",\"07/20/2020\",\"07/21/2020\",\"07/22/2020\",\"07/23/2020\",\"07/24/2020\",\"07/25/2020\",\"07/26/2020\",\"07/27/2020\",\"07/28/2020\",\"07/29/2020\",\"07/30/2020\",\"07/31/2020\",\"08/01/2020\",\"08/02/2020\",\"08/03/2020\",\"08/04/2020\",\"08/05/2020\",\"08/06/2020\",\"08/07/2020\",\"08/08/2020\",\"08/09/2020\",\"08/10/2020\",\"08/11/2020\",\"08/12/2020\",\"08/13/2020\",\"08/14/2020\",\"08/15/2020\",\"08/16/2020\",\"08/17/2020\",\"08/18/2020\",\"08/19/2020\",\"08/20/2020\",\"08/21/2020\",\"08/22/2020\",\"08/23/2020\",\"08/24/2020\",\"08/25/2020\",\"08/26/2020\",\"08/27/2020\",\"08/28/2020\",\"08/29/2020\",\"08/30/2020\",\"08/31/2020\",\"09/01/2020\",\"09/02/2020\",\"09/03/2020\",\"09/04/2020\",\"09/05/2020\",\"09/06/2020\",\"09/07/2020\",\"09/08/2020\",\"09/09/2020\",\"09/10/2020\",\"09/11/2020\",\"09/12/2020\",\"09/13/2020\",\"09/14/2020\",\"09/15/2020\",\"09/16/2020\",\"09/17/2020\",\"09/18/2020\",\"09/19/2020\",\"09/20/2020\",\"09/21/2020\",\"09/22/2020\",\"09/23/2020\",\"09/24/2020\",\"09/25/2020\",\"09/26/2020\",\"09/27/2020\",\"09/28/2020\",\"09/29/2020\",\"09/30/2020\",\"10/01/2020\",\"10/02/2020\",\"10/03/2020\",\"10/04/2020\",\"10/05/2020\",\"10/06/2020\",\"10/07/2020\",\"10/08/2020\",\"10/09/2020\",\"10/10/2020\",\"10/11/2020\",\"10/12/2020\",\"10/13/2020\",\"10/14/2020\",\"10/15/2020\",\"10/16/2020\",\"10/17/2020\",\"10/18/2020\",\"10/19/2020\",\"10/20/2020\",\"10/21/2020\",\"10/22/2020\",\"10/23/2020\",\"10/24/2020\",\"10/25/2020\",\"10/26/2020\",\"10/27/2020\",\"10/28/2020\",\"10/29/2020\",\"10/30/2020\",\"10/31/2020\",\"11/01/2020\",\"11/02/2020\",\"11/03/2020\",\"11/04/2020\",\"11/05/2020\",\"11/06/2020\",\"11/07/2020\",\"11/08/2020\",\"11/09/2020\",\"11/10/2020\",\"11/11/2020\",\"11/12/2020\",\"11/13/2020\",\"11/14/2020\",\"11/15/2020\",\"11/16/2020\",\"11/17/2020\",\"11/18/2020\",\"11/19/2020\",\"11/20/2020\",\"11/21/2020\",\"11/22/2020\",\"11/23/2020\",\"11/24/2020\",\"11/25/2020\",\"11/26/2020\",\"11/27/2020\",\"11/28/2020\",\"11/29/2020\",\"11/30/2020\",\"12/01/2020\",\"12/02/2020\",\"12/03/2020\",\"12/04/2020\",\"12/05/2020\",\"12/06/2020\"],\"y\":[28.0,30.0,36.0,39.0,52.0,61.0,107.0,126.0,143.0,222.0,284.0,472.0,623.0,852.0,1124.0,1487.0,2011.0,2616.0,3244.0,3946.0,4683.0,5150.0,6295.0,8058.0,9395.0,10865.0,12583.0,14352.0,16121.0,18177.0,18890.0,22886.0,23394.0,25227.0,27905.0,30384.0,33276.0,36710.0,39781.0,42715.0,45601.0,48228.0,51170.0,53796.0,55864.0,58357.0,60693.0,62510.0,64400.0,66999.0,68320.0,70248.0,72621.0,76031.0,78085.0,80832.0,83308.0,84962.0,87402.0,91654.0,97225.0,100943.0,107677.0,113743.0,122125.0,130899.0,139404.0,149049.0,164546.0,178014.0,193425.0,210522.0,226060.0,246442.0,260355.0,276869.0,300343.0,329051.0,354270.0,376373.0,402380.0,422004.0,449028.0,474617.0,511279.0,542463.0,568767.0,592683.0,624377.0,646376.0,680415.0,709993.0,738741.0,793708.0,816905.0,866089.0,894402.0,929030.0,972957.0,1015116.0,1053564.0,1093130.0,1125432.0,1162893.0,1198928.0,1245619.0,1284971.0,1322139.0,1375650.0,1409199.0,1456306.0,1493526.0,1548713.0,1588020.0,1637273.0,1693222.0,1734083.0,1786968.0,1839045.0,1897575.0,1948795.0,2056653.0,2112071.0,2168531.0,2231683.0,2286851.0,2349932.0,2415813.0,2493327.0,2564490.0,2641192.0,2695896.0,2729408.0,2804850.0,2869844.0,3013042.0,3085754.0,3140846.0,3293369.0,3375623.0,3454812.0,3540685.0,3613284.0,3698281.0,3769723.0,3857404.0,3955254.0,4074080.0,4155235.0,4245892.0,4378403.0,4447184.0,4526432.0,4630472.0,4746195.0,4839017.0,4944924.0,5051149.0,5140263.0,5235190.0,5352666.0,5577066.0,5753447.0,5863274.0,6058920.0,6178397.0,6302095.0,6447124.0,6605139.0,6739811.0,6879260.0,7005028.0,7116834.0,7257222.0,7399371.0,7559185.0,7711579.0,7895054.0,8045825.0,8133841.0,8290741.0,8467504.0,8646262.0,8823657.0,9051960.0,9271771.0,9409701.0,9586452.0,9721624.0,9959512.0,10173026.0,10372630.0,10556528.0,10695244.0,10917690.0,11138917.0,11360609.0,11549417.0,11741463.0,11941716.0,12120463.0,12284653.0,12589720.0,12831231.0,12994271.0,13277502.0,13446113.0,13679063.0,13890074.0,14117693.0,14335692.0,14543485.0,14711982.0,14911052.0,15138028.0,15337438.0,15568925.0,15794562.0,16003063.0,16202647.0,16414032.0,16624237.0,16825017.0,17080254.0,17298341.0,17519696.0,17724129.0,17924656.0,18145972.0,18332443.0,18532089.0,18784801.0,19001427.0,19225083.0,19448014.0,19635848.0,19785022.0,20089006.0,20318488.0,20538676.0,20789816.0,21026795.0,21263843.0,21509287.0,21727180.0,21990595.0,22246238.0,22485455.0,22747605.0,22961461.0,23183979.0,23424021.0,23672220.0,23885526.0,24066070.0,24321682.0,24543813.0,24781248.0,25012368.0,25267561.0,25487134.0,25694001.0,25889427.0,26112051.0,26312319.0,26501532.0,26713838.0,26920705.0,27123696.0,27322014.0,27523423.0,27725831.0,27934000.0,28145461.0,28372247.0,28579075.0,28790641.0,28988679.0,29226935.0,29816657.0,30079306.0,30325963.0,29718151.0,30847561.0,31105316.0,31385640.0,31637095.0,31916327.0,32219873.0,32508235.0,32807327.0,33060205.0,33316925.0,33573929.0,33954291.0,34179721.0,34481766.0,34759840.0,34989537.0,35378248.0,35812940.0,36176087.0,36549174.0,36904549.0,37243768.0,37516165.0,37926212.0,38297744.0,38734721.0,39099944.0,39476664.0,39831868.0,40157966.0,40559353.0,41034934.0,41496318.0,41932091.0,42352021.0,42789879.0,43103827.0],\"type\":\"bar\"}],                        {\"legend\":{\"bgcolor\":\"#F5F6F9\",\"font\":{\"color\":\"#4D5663\"}},\"paper_bgcolor\":\"#F5F6F9\",\"plot_bgcolor\":\"#F5F6F9\",\"template\":{\"data\":{\"barpolar\":[{\"marker\":{\"line\":{\"color\":\"#E5ECF6\",\"width\":0.5},\"pattern\":{\"fillmode\":\"overlay\",\"size\":10,\"solidity\":0.2}},\"type\":\"barpolar\"}],\"bar\":[{\"error_x\":{\"color\":\"#2a3f5f\"},\"error_y\":{\"color\":\"#2a3f5f\"},\"marker\":{\"line\":{\"color\":\"#E5ECF6\",\"width\":0.5},\"pattern\":{\"fillmode\":\"overlay\",\"size\":10,\"solidity\":0.2}},\"type\":\"bar\"}],\"carpet\":[{\"aaxis\":{\"endlinecolor\":\"#2a3f5f\",\"gridcolor\":\"white\",\"linecolor\":\"white\",\"minorgridcolor\":\"white\",\"startlinecolor\":\"#2a3f5f\"},\"baxis\":{\"endlinecolor\":\"#2a3f5f\",\"gridcolor\":\"white\",\"linecolor\":\"white\",\"minorgridcolor\":\"white\",\"startlinecolor\":\"#2a3f5f\"},\"type\":\"carpet\"}],\"choropleth\":[{\"colorbar\":{\"outlinewidth\":0,\"ticks\":\"\"},\"type\":\"choropleth\"}],\"contourcarpet\":[{\"colorbar\":{\"outlinewidth\":0,\"ticks\":\"\"},\"type\":\"contourcarpet\"}],\"contour\":[{\"colorbar\":{\"outlinewidth\":0,\"ticks\":\"\"},\"colorscale\":[[0.0,\"#0d0887\"],[0.1111111111111111,\"#46039f\"],[0.2222222222222222,\"#7201a8\"],[0.3333333333333333,\"#9c179e\"],[0.4444444444444444,\"#bd3786\"],[0.5555555555555556,\"#d8576b\"],[0.6666666666666666,\"#ed7953\"],[0.7777777777777778,\"#fb9f3a\"],[0.8888888888888888,\"#fdca26\"],[1.0,\"#f0f921\"]],\"type\":\"contour\"}],\"heatmapgl\":[{\"colorbar\":{\"outlinewidth\":0,\"ticks\":\"\"},\"colorscale\":[[0.0,\"#0d0887\"],[0.1111111111111111,\"#46039f\"],[0.2222222222222222,\"#7201a8\"],[0.3333333333333333,\"#9c179e\"],[0.4444444444444444,\"#bd3786\"],[0.5555555555555556,\"#d8576b\"],[0.6666666666666666,\"#ed7953\"],[0.7777777777777778,\"#fb9f3a\"],[0.8888888888888888,\"#fdca26\"],[1.0,\"#f0f921\"]],\"type\":\"heatmapgl\"}],\"heatmap\":[{\"colorbar\":{\"outlinewidth\":0,\"ticks\":\"\"},\"colorscale\":[[0.0,\"#0d0887\"],[0.1111111111111111,\"#46039f\"],[0.2222222222222222,\"#7201a8\"],[0.3333333333333333,\"#9c179e\"],[0.4444444444444444,\"#bd3786\"],[0.5555555555555556,\"#d8576b\"],[0.6666666666666666,\"#ed7953\"],[0.7777777777777778,\"#fb9f3a\"],[0.8888888888888888,\"#fdca26\"],[1.0,\"#f0f921\"]],\"type\":\"heatmap\"}],\"histogram2dcontour\":[{\"colorbar\":{\"outlinewidth\":0,\"ticks\":\"\"},\"colorscale\":[[0.0,\"#0d0887\"],[0.1111111111111111,\"#46039f\"],[0.2222222222222222,\"#7201a8\"],[0.3333333333333333,\"#9c179e\"],[0.4444444444444444,\"#bd3786\"],[0.5555555555555556,\"#d8576b\"],[0.6666666666666666,\"#ed7953\"],[0.7777777777777778,\"#fb9f3a\"],[0.8888888888888888,\"#fdca26\"],[1.0,\"#f0f921\"]],\"type\":\"histogram2dcontour\"}],\"histogram2d\":[{\"colorbar\":{\"outlinewidth\":0,\"ticks\":\"\"},\"colorscale\":[[0.0,\"#0d0887\"],[0.1111111111111111,\"#46039f\"],[0.2222222222222222,\"#7201a8\"],[0.3333333333333333,\"#9c179e\"],[0.4444444444444444,\"#bd3786\"],[0.5555555555555556,\"#d8576b\"],[0.6666666666666666,\"#ed7953\"],[0.7777777777777778,\"#fb9f3a\"],[0.8888888888888888,\"#fdca26\"],[1.0,\"#f0f921\"]],\"type\":\"histogram2d\"}],\"histogram\":[{\"marker\":{\"pattern\":{\"fillmode\":\"overlay\",\"size\":10,\"solidity\":0.2}},\"type\":\"histogram\"}],\"mesh3d\":[{\"colorbar\":{\"outlinewidth\":0,\"ticks\":\"\"},\"type\":\"mesh3d\"}],\"parcoords\":[{\"line\":{\"colorbar\":{\"outlinewidth\":0,\"ticks\":\"\"}},\"type\":\"parcoords\"}],\"pie\":[{\"automargin\":true,\"type\":\"pie\"}],\"scatter3d\":[{\"line\":{\"colorbar\":{\"outlinewidth\":0,\"ticks\":\"\"}},\"marker\":{\"colorbar\":{\"outlinewidth\":0,\"ticks\":\"\"}},\"type\":\"scatter3d\"}],\"scattercarpet\":[{\"marker\":{\"colorbar\":{\"outlinewidth\":0,\"ticks\":\"\"}},\"type\":\"scattercarpet\"}],\"scattergeo\":[{\"marker\":{\"colorbar\":{\"outlinewidth\":0,\"ticks\":\"\"}},\"type\":\"scattergeo\"}],\"scattergl\":[{\"marker\":{\"colorbar\":{\"outlinewidth\":0,\"ticks\":\"\"}},\"type\":\"scattergl\"}],\"scattermapbox\":[{\"marker\":{\"colorbar\":{\"outlinewidth\":0,\"ticks\":\"\"}},\"type\":\"scattermapbox\"}],\"scatterpolargl\":[{\"marker\":{\"colorbar\":{\"outlinewidth\":0,\"ticks\":\"\"}},\"type\":\"scatterpolargl\"}],\"scatterpolar\":[{\"marker\":{\"colorbar\":{\"outlinewidth\":0,\"ticks\":\"\"}},\"type\":\"scatterpolar\"}],\"scatter\":[{\"marker\":{\"colorbar\":{\"outlinewidth\":0,\"ticks\":\"\"}},\"type\":\"scatter\"}],\"scatterternary\":[{\"marker\":{\"colorbar\":{\"outlinewidth\":0,\"ticks\":\"\"}},\"type\":\"scatterternary\"}],\"surface\":[{\"colorbar\":{\"outlinewidth\":0,\"ticks\":\"\"},\"colorscale\":[[0.0,\"#0d0887\"],[0.1111111111111111,\"#46039f\"],[0.2222222222222222,\"#7201a8\"],[0.3333333333333333,\"#9c179e\"],[0.4444444444444444,\"#bd3786\"],[0.5555555555555556,\"#d8576b\"],[0.6666666666666666,\"#ed7953\"],[0.7777777777777778,\"#fb9f3a\"],[0.8888888888888888,\"#fdca26\"],[1.0,\"#f0f921\"]],\"type\":\"surface\"}],\"table\":[{\"cells\":{\"fill\":{\"color\":\"#EBF0F8\"},\"line\":{\"color\":\"white\"}},\"header\":{\"fill\":{\"color\":\"#C8D4E3\"},\"line\":{\"color\":\"white\"}},\"type\":\"table\"}]},\"layout\":{\"annotationdefaults\":{\"arrowcolor\":\"#2a3f5f\",\"arrowhead\":0,\"arrowwidth\":1},\"autotypenumbers\":\"strict\",\"coloraxis\":{\"colorbar\":{\"outlinewidth\":0,\"ticks\":\"\"}},\"colorscale\":{\"diverging\":[[0,\"#8e0152\"],[0.1,\"#c51b7d\"],[0.2,\"#de77ae\"],[0.3,\"#f1b6da\"],[0.4,\"#fde0ef\"],[0.5,\"#f7f7f7\"],[0.6,\"#e6f5d0\"],[0.7,\"#b8e186\"],[0.8,\"#7fbc41\"],[0.9,\"#4d9221\"],[1,\"#276419\"]],\"sequential\":[[0.0,\"#0d0887\"],[0.1111111111111111,\"#46039f\"],[0.2222222222222222,\"#7201a8\"],[0.3333333333333333,\"#9c179e\"],[0.4444444444444444,\"#bd3786\"],[0.5555555555555556,\"#d8576b\"],[0.6666666666666666,\"#ed7953\"],[0.7777777777777778,\"#fb9f3a\"],[0.8888888888888888,\"#fdca26\"],[1.0,\"#f0f921\"]],\"sequentialminus\":[[0.0,\"#0d0887\"],[0.1111111111111111,\"#46039f\"],[0.2222222222222222,\"#7201a8\"],[0.3333333333333333,\"#9c179e\"],[0.4444444444444444,\"#bd3786\"],[0.5555555555555556,\"#d8576b\"],[0.6666666666666666,\"#ed7953\"],[0.7777777777777778,\"#fb9f3a\"],[0.8888888888888888,\"#fdca26\"],[1.0,\"#f0f921\"]]},\"colorway\":[\"#636efa\",\"#EF553B\",\"#00cc96\",\"#ab63fa\",\"#FFA15A\",\"#19d3f3\",\"#FF6692\",\"#B6E880\",\"#FF97FF\",\"#FECB52\"],\"font\":{\"color\":\"#2a3f5f\"},\"geo\":{\"bgcolor\":\"white\",\"lakecolor\":\"white\",\"landcolor\":\"#E5ECF6\",\"showlakes\":true,\"showland\":true,\"subunitcolor\":\"white\"},\"hoverlabel\":{\"align\":\"left\"},\"hovermode\":\"closest\",\"mapbox\":{\"style\":\"light\"},\"paper_bgcolor\":\"white\",\"plot_bgcolor\":\"#E5ECF6\",\"polar\":{\"angularaxis\":{\"gridcolor\":\"white\",\"linecolor\":\"white\",\"ticks\":\"\"},\"bgcolor\":\"#E5ECF6\",\"radialaxis\":{\"gridcolor\":\"white\",\"linecolor\":\"white\",\"ticks\":\"\"}},\"scene\":{\"xaxis\":{\"backgroundcolor\":\"#E5ECF6\",\"gridcolor\":\"white\",\"gridwidth\":2,\"linecolor\":\"white\",\"showbackground\":true,\"ticks\":\"\",\"zerolinecolor\":\"white\"},\"yaxis\":{\"backgroundcolor\":\"#E5ECF6\",\"gridcolor\":\"white\",\"gridwidth\":2,\"linecolor\":\"white\",\"showbackground\":true,\"ticks\":\"\",\"zerolinecolor\":\"white\"},\"zaxis\":{\"backgroundcolor\":\"#E5ECF6\",\"gridcolor\":\"white\",\"gridwidth\":2,\"linecolor\":\"white\",\"showbackground\":true,\"ticks\":\"\",\"zerolinecolor\":\"white\"}},\"shapedefaults\":{\"line\":{\"color\":\"#2a3f5f\"}},\"ternary\":{\"aaxis\":{\"gridcolor\":\"white\",\"linecolor\":\"white\",\"ticks\":\"\"},\"baxis\":{\"gridcolor\":\"white\",\"linecolor\":\"white\",\"ticks\":\"\"},\"bgcolor\":\"#E5ECF6\",\"caxis\":{\"gridcolor\":\"white\",\"linecolor\":\"white\",\"ticks\":\"\"}},\"title\":{\"x\":0.05},\"xaxis\":{\"automargin\":true,\"gridcolor\":\"white\",\"linecolor\":\"white\",\"ticks\":\"\",\"title\":{\"standoff\":15},\"zerolinecolor\":\"white\",\"zerolinewidth\":2},\"yaxis\":{\"automargin\":true,\"gridcolor\":\"white\",\"linecolor\":\"white\",\"ticks\":\"\",\"title\":{\"standoff\":15},\"zerolinecolor\":\"white\",\"zerolinewidth\":2}}},\"title\":{\"font\":{\"color\":\"#4D5663\"}},\"xaxis\":{\"gridcolor\":\"#E1E5ED\",\"showgrid\":true,\"tickfont\":{\"color\":\"#4D5663\"},\"title\":{\"font\":{\"color\":\"#4D5663\"},\"text\":\"ObservationDate\"},\"zerolinecolor\":\"#E1E5ED\"},\"yaxis\":{\"gridcolor\":\"#E1E5ED\",\"showgrid\":true,\"tickfont\":{\"color\":\"#4D5663\"},\"title\":{\"font\":{\"color\":\"#4D5663\"},\"text\":\"Recovered\"},\"zerolinecolor\":\"#E1E5ED\"}},                        {\"showLink\": true, \"linkText\": \"Export to plot.ly\", \"plotlyServerURL\": \"https://plot.ly\", \"responsive\": true}                    ).then(function(){\n",
              "                            \n",
              "var gd = document.getElementById('06869d27-c235-49c1-ac4b-49b3c50d214d');\n",
              "var x = new MutationObserver(function (mutations, observer) {{\n",
              "        var display = window.getComputedStyle(gd).display;\n",
              "        if (!display || display === 'none') {{\n",
              "            console.log([gd, 'removed!']);\n",
              "            Plotly.purge(gd);\n",
              "            observer.disconnect();\n",
              "        }}\n",
              "}});\n",
              "\n",
              "// Listen for the removal of the full notebook cells\n",
              "var notebookContainer = gd.closest('#notebook-container');\n",
              "if (notebookContainer) {{\n",
              "    x.observe(notebookContainer, {childList: true});\n",
              "}}\n",
              "\n",
              "// Listen for the clearing of the current output cell\n",
              "var outputEl = gd.closest('.output');\n",
              "if (outputEl) {{\n",
              "    x.observe(outputEl, {childList: true});\n",
              "}}\n",
              "\n",
              "                        })                };                });            </script>        </div>"
            ]
          },
          "metadata": {}
        }
      ]
    },
    {
      "cell_type": "code",
      "source": [
        "from prophet import Prophet\n"
      ],
      "metadata": {
        "id": "DGsdrQjdHDt3"
      },
      "execution_count": 19,
      "outputs": []
    },
    {
      "cell_type": "code",
      "source": [
        "confirmed = df.groupby('ObservationDate').sum()['Confirmed'].reset_index()\n",
        "deaths = df.groupby('ObservationDate').sum()['Deaths'].reset_index()\n",
        "recovered = df.groupby('ObservationDate').sum()['Recovered'].reset_index()"
      ],
      "metadata": {
        "id": "YVZ1AkbtHML5"
      },
      "execution_count": 20,
      "outputs": []
    },
    {
      "cell_type": "code",
      "source": [
        "confirmed.tail(10)\n"
      ],
      "metadata": {
        "colab": {
          "base_uri": "https://localhost:8080/",
          "height": 363
        },
        "id": "C_1NaXwnHO8X",
        "outputId": "ee753f05-4a0a-414d-88c9-ed2d495f443a"
      },
      "execution_count": 21,
      "outputs": [
        {
          "output_type": "execute_result",
          "data": {
            "text/plain": [
              "    ObservationDate   Confirmed\n",
              "310      11/27/2020  61687701.0\n",
              "311      11/28/2020  62286402.0\n",
              "312      11/29/2020  62773116.0\n",
              "313      11/30/2020  63279026.0\n",
              "314      12/01/2020  63883985.0\n",
              "315      12/02/2020  64530517.0\n",
              "316      12/03/2020  65221040.0\n",
              "317      12/04/2020  65899441.0\n",
              "318      12/05/2020  66540034.0\n",
              "319      12/06/2020  67073728.0"
            ],
            "text/html": [
              "\n",
              "  <div id=\"df-4afd9b21-66cf-4094-ba94-3913d94e7d86\">\n",
              "    <div class=\"colab-df-container\">\n",
              "      <div>\n",
              "<style scoped>\n",
              "    .dataframe tbody tr th:only-of-type {\n",
              "        vertical-align: middle;\n",
              "    }\n",
              "\n",
              "    .dataframe tbody tr th {\n",
              "        vertical-align: top;\n",
              "    }\n",
              "\n",
              "    .dataframe thead th {\n",
              "        text-align: right;\n",
              "    }\n",
              "</style>\n",
              "<table border=\"1\" class=\"dataframe\">\n",
              "  <thead>\n",
              "    <tr style=\"text-align: right;\">\n",
              "      <th></th>\n",
              "      <th>ObservationDate</th>\n",
              "      <th>Confirmed</th>\n",
              "    </tr>\n",
              "  </thead>\n",
              "  <tbody>\n",
              "    <tr>\n",
              "      <th>310</th>\n",
              "      <td>11/27/2020</td>\n",
              "      <td>61687701.0</td>\n",
              "    </tr>\n",
              "    <tr>\n",
              "      <th>311</th>\n",
              "      <td>11/28/2020</td>\n",
              "      <td>62286402.0</td>\n",
              "    </tr>\n",
              "    <tr>\n",
              "      <th>312</th>\n",
              "      <td>11/29/2020</td>\n",
              "      <td>62773116.0</td>\n",
              "    </tr>\n",
              "    <tr>\n",
              "      <th>313</th>\n",
              "      <td>11/30/2020</td>\n",
              "      <td>63279026.0</td>\n",
              "    </tr>\n",
              "    <tr>\n",
              "      <th>314</th>\n",
              "      <td>12/01/2020</td>\n",
              "      <td>63883985.0</td>\n",
              "    </tr>\n",
              "    <tr>\n",
              "      <th>315</th>\n",
              "      <td>12/02/2020</td>\n",
              "      <td>64530517.0</td>\n",
              "    </tr>\n",
              "    <tr>\n",
              "      <th>316</th>\n",
              "      <td>12/03/2020</td>\n",
              "      <td>65221040.0</td>\n",
              "    </tr>\n",
              "    <tr>\n",
              "      <th>317</th>\n",
              "      <td>12/04/2020</td>\n",
              "      <td>65899441.0</td>\n",
              "    </tr>\n",
              "    <tr>\n",
              "      <th>318</th>\n",
              "      <td>12/05/2020</td>\n",
              "      <td>66540034.0</td>\n",
              "    </tr>\n",
              "    <tr>\n",
              "      <th>319</th>\n",
              "      <td>12/06/2020</td>\n",
              "      <td>67073728.0</td>\n",
              "    </tr>\n",
              "  </tbody>\n",
              "</table>\n",
              "</div>\n",
              "      <button class=\"colab-df-convert\" onclick=\"convertToInteractive('df-4afd9b21-66cf-4094-ba94-3913d94e7d86')\"\n",
              "              title=\"Convert this dataframe to an interactive table.\"\n",
              "              style=\"display:none;\">\n",
              "        \n",
              "  <svg xmlns=\"http://www.w3.org/2000/svg\" height=\"24px\"viewBox=\"0 0 24 24\"\n",
              "       width=\"24px\">\n",
              "    <path d=\"M0 0h24v24H0V0z\" fill=\"none\"/>\n",
              "    <path d=\"M18.56 5.44l.94 2.06.94-2.06 2.06-.94-2.06-.94-.94-2.06-.94 2.06-2.06.94zm-11 1L8.5 8.5l.94-2.06 2.06-.94-2.06-.94L8.5 2.5l-.94 2.06-2.06.94zm10 10l.94 2.06.94-2.06 2.06-.94-2.06-.94-.94-2.06-.94 2.06-2.06.94z\"/><path d=\"M17.41 7.96l-1.37-1.37c-.4-.4-.92-.59-1.43-.59-.52 0-1.04.2-1.43.59L10.3 9.45l-7.72 7.72c-.78.78-.78 2.05 0 2.83L4 21.41c.39.39.9.59 1.41.59.51 0 1.02-.2 1.41-.59l7.78-7.78 2.81-2.81c.8-.78.8-2.07 0-2.86zM5.41 20L4 18.59l7.72-7.72 1.47 1.35L5.41 20z\"/>\n",
              "  </svg>\n",
              "      </button>\n",
              "      \n",
              "  <style>\n",
              "    .colab-df-container {\n",
              "      display:flex;\n",
              "      flex-wrap:wrap;\n",
              "      gap: 12px;\n",
              "    }\n",
              "\n",
              "    .colab-df-convert {\n",
              "      background-color: #E8F0FE;\n",
              "      border: none;\n",
              "      border-radius: 50%;\n",
              "      cursor: pointer;\n",
              "      display: none;\n",
              "      fill: #1967D2;\n",
              "      height: 32px;\n",
              "      padding: 0 0 0 0;\n",
              "      width: 32px;\n",
              "    }\n",
              "\n",
              "    .colab-df-convert:hover {\n",
              "      background-color: #E2EBFA;\n",
              "      box-shadow: 0px 1px 2px rgba(60, 64, 67, 0.3), 0px 1px 3px 1px rgba(60, 64, 67, 0.15);\n",
              "      fill: #174EA6;\n",
              "    }\n",
              "\n",
              "    [theme=dark] .colab-df-convert {\n",
              "      background-color: #3B4455;\n",
              "      fill: #D2E3FC;\n",
              "    }\n",
              "\n",
              "    [theme=dark] .colab-df-convert:hover {\n",
              "      background-color: #434B5C;\n",
              "      box-shadow: 0px 1px 3px 1px rgba(0, 0, 0, 0.15);\n",
              "      filter: drop-shadow(0px 1px 2px rgba(0, 0, 0, 0.3));\n",
              "      fill: #FFFFFF;\n",
              "    }\n",
              "  </style>\n",
              "\n",
              "      <script>\n",
              "        const buttonEl =\n",
              "          document.querySelector('#df-4afd9b21-66cf-4094-ba94-3913d94e7d86 button.colab-df-convert');\n",
              "        buttonEl.style.display =\n",
              "          google.colab.kernel.accessAllowed ? 'block' : 'none';\n",
              "\n",
              "        async function convertToInteractive(key) {\n",
              "          const element = document.querySelector('#df-4afd9b21-66cf-4094-ba94-3913d94e7d86');\n",
              "          const dataTable =\n",
              "            await google.colab.kernel.invokeFunction('convertToInteractive',\n",
              "                                                     [key], {});\n",
              "          if (!dataTable) return;\n",
              "\n",
              "          const docLinkHtml = 'Like what you see? Visit the ' +\n",
              "            '<a target=\"_blank\" href=https://colab.research.google.com/notebooks/data_table.ipynb>data table notebook</a>'\n",
              "            + ' to learn more about interactive tables.';\n",
              "          element.innerHTML = '';\n",
              "          dataTable['output_type'] = 'display_data';\n",
              "          await google.colab.output.renderOutput(dataTable, element);\n",
              "          const docLink = document.createElement('div');\n",
              "          docLink.innerHTML = docLinkHtml;\n",
              "          element.appendChild(docLink);\n",
              "        }\n",
              "      </script>\n",
              "    </div>\n",
              "  </div>\n",
              "  "
            ]
          },
          "metadata": {},
          "execution_count": 21
        }
      ]
    },
    {
      "cell_type": "code",
      "source": [
        "deaths.tail(10)\n"
      ],
      "metadata": {
        "colab": {
          "base_uri": "https://localhost:8080/",
          "height": 363
        },
        "id": "q_MYz4PtHQtj",
        "outputId": "21dbb3d4-4e55-41b3-ce96-108af1dd19d5"
      },
      "execution_count": 22,
      "outputs": [
        {
          "output_type": "execute_result",
          "data": {
            "text/plain": [
              "    ObservationDate     Deaths\n",
              "310      11/27/2020  1443110.0\n",
              "311      11/28/2020  1452852.0\n",
              "312      11/29/2020  1459771.0\n",
              "313      11/30/2020  1468458.0\n",
              "314      12/01/2020  1481306.0\n",
              "315      12/02/2020  1493742.0\n",
              "316      12/03/2020  1506260.0\n",
              "317      12/04/2020  1518670.0\n",
              "318      12/05/2020  1528868.0\n",
              "319      12/06/2020  1536056.0"
            ],
            "text/html": [
              "\n",
              "  <div id=\"df-a7c0d675-e15a-4e7c-825f-0fdb794c255e\">\n",
              "    <div class=\"colab-df-container\">\n",
              "      <div>\n",
              "<style scoped>\n",
              "    .dataframe tbody tr th:only-of-type {\n",
              "        vertical-align: middle;\n",
              "    }\n",
              "\n",
              "    .dataframe tbody tr th {\n",
              "        vertical-align: top;\n",
              "    }\n",
              "\n",
              "    .dataframe thead th {\n",
              "        text-align: right;\n",
              "    }\n",
              "</style>\n",
              "<table border=\"1\" class=\"dataframe\">\n",
              "  <thead>\n",
              "    <tr style=\"text-align: right;\">\n",
              "      <th></th>\n",
              "      <th>ObservationDate</th>\n",
              "      <th>Deaths</th>\n",
              "    </tr>\n",
              "  </thead>\n",
              "  <tbody>\n",
              "    <tr>\n",
              "      <th>310</th>\n",
              "      <td>11/27/2020</td>\n",
              "      <td>1443110.0</td>\n",
              "    </tr>\n",
              "    <tr>\n",
              "      <th>311</th>\n",
              "      <td>11/28/2020</td>\n",
              "      <td>1452852.0</td>\n",
              "    </tr>\n",
              "    <tr>\n",
              "      <th>312</th>\n",
              "      <td>11/29/2020</td>\n",
              "      <td>1459771.0</td>\n",
              "    </tr>\n",
              "    <tr>\n",
              "      <th>313</th>\n",
              "      <td>11/30/2020</td>\n",
              "      <td>1468458.0</td>\n",
              "    </tr>\n",
              "    <tr>\n",
              "      <th>314</th>\n",
              "      <td>12/01/2020</td>\n",
              "      <td>1481306.0</td>\n",
              "    </tr>\n",
              "    <tr>\n",
              "      <th>315</th>\n",
              "      <td>12/02/2020</td>\n",
              "      <td>1493742.0</td>\n",
              "    </tr>\n",
              "    <tr>\n",
              "      <th>316</th>\n",
              "      <td>12/03/2020</td>\n",
              "      <td>1506260.0</td>\n",
              "    </tr>\n",
              "    <tr>\n",
              "      <th>317</th>\n",
              "      <td>12/04/2020</td>\n",
              "      <td>1518670.0</td>\n",
              "    </tr>\n",
              "    <tr>\n",
              "      <th>318</th>\n",
              "      <td>12/05/2020</td>\n",
              "      <td>1528868.0</td>\n",
              "    </tr>\n",
              "    <tr>\n",
              "      <th>319</th>\n",
              "      <td>12/06/2020</td>\n",
              "      <td>1536056.0</td>\n",
              "    </tr>\n",
              "  </tbody>\n",
              "</table>\n",
              "</div>\n",
              "      <button class=\"colab-df-convert\" onclick=\"convertToInteractive('df-a7c0d675-e15a-4e7c-825f-0fdb794c255e')\"\n",
              "              title=\"Convert this dataframe to an interactive table.\"\n",
              "              style=\"display:none;\">\n",
              "        \n",
              "  <svg xmlns=\"http://www.w3.org/2000/svg\" height=\"24px\"viewBox=\"0 0 24 24\"\n",
              "       width=\"24px\">\n",
              "    <path d=\"M0 0h24v24H0V0z\" fill=\"none\"/>\n",
              "    <path d=\"M18.56 5.44l.94 2.06.94-2.06 2.06-.94-2.06-.94-.94-2.06-.94 2.06-2.06.94zm-11 1L8.5 8.5l.94-2.06 2.06-.94-2.06-.94L8.5 2.5l-.94 2.06-2.06.94zm10 10l.94 2.06.94-2.06 2.06-.94-2.06-.94-.94-2.06-.94 2.06-2.06.94z\"/><path d=\"M17.41 7.96l-1.37-1.37c-.4-.4-.92-.59-1.43-.59-.52 0-1.04.2-1.43.59L10.3 9.45l-7.72 7.72c-.78.78-.78 2.05 0 2.83L4 21.41c.39.39.9.59 1.41.59.51 0 1.02-.2 1.41-.59l7.78-7.78 2.81-2.81c.8-.78.8-2.07 0-2.86zM5.41 20L4 18.59l7.72-7.72 1.47 1.35L5.41 20z\"/>\n",
              "  </svg>\n",
              "      </button>\n",
              "      \n",
              "  <style>\n",
              "    .colab-df-container {\n",
              "      display:flex;\n",
              "      flex-wrap:wrap;\n",
              "      gap: 12px;\n",
              "    }\n",
              "\n",
              "    .colab-df-convert {\n",
              "      background-color: #E8F0FE;\n",
              "      border: none;\n",
              "      border-radius: 50%;\n",
              "      cursor: pointer;\n",
              "      display: none;\n",
              "      fill: #1967D2;\n",
              "      height: 32px;\n",
              "      padding: 0 0 0 0;\n",
              "      width: 32px;\n",
              "    }\n",
              "\n",
              "    .colab-df-convert:hover {\n",
              "      background-color: #E2EBFA;\n",
              "      box-shadow: 0px 1px 2px rgba(60, 64, 67, 0.3), 0px 1px 3px 1px rgba(60, 64, 67, 0.15);\n",
              "      fill: #174EA6;\n",
              "    }\n",
              "\n",
              "    [theme=dark] .colab-df-convert {\n",
              "      background-color: #3B4455;\n",
              "      fill: #D2E3FC;\n",
              "    }\n",
              "\n",
              "    [theme=dark] .colab-df-convert:hover {\n",
              "      background-color: #434B5C;\n",
              "      box-shadow: 0px 1px 3px 1px rgba(0, 0, 0, 0.15);\n",
              "      filter: drop-shadow(0px 1px 2px rgba(0, 0, 0, 0.3));\n",
              "      fill: #FFFFFF;\n",
              "    }\n",
              "  </style>\n",
              "\n",
              "      <script>\n",
              "        const buttonEl =\n",
              "          document.querySelector('#df-a7c0d675-e15a-4e7c-825f-0fdb794c255e button.colab-df-convert');\n",
              "        buttonEl.style.display =\n",
              "          google.colab.kernel.accessAllowed ? 'block' : 'none';\n",
              "\n",
              "        async function convertToInteractive(key) {\n",
              "          const element = document.querySelector('#df-a7c0d675-e15a-4e7c-825f-0fdb794c255e');\n",
              "          const dataTable =\n",
              "            await google.colab.kernel.invokeFunction('convertToInteractive',\n",
              "                                                     [key], {});\n",
              "          if (!dataTable) return;\n",
              "\n",
              "          const docLinkHtml = 'Like what you see? Visit the ' +\n",
              "            '<a target=\"_blank\" href=https://colab.research.google.com/notebooks/data_table.ipynb>data table notebook</a>'\n",
              "            + ' to learn more about interactive tables.';\n",
              "          element.innerHTML = '';\n",
              "          dataTable['output_type'] = 'display_data';\n",
              "          await google.colab.output.renderOutput(dataTable, element);\n",
              "          const docLink = document.createElement('div');\n",
              "          docLink.innerHTML = docLinkHtml;\n",
              "          element.appendChild(docLink);\n",
              "        }\n",
              "      </script>\n",
              "    </div>\n",
              "  </div>\n",
              "  "
            ]
          },
          "metadata": {},
          "execution_count": 22
        }
      ]
    },
    {
      "cell_type": "code",
      "source": [
        "recovered.tail(10)\n"
      ],
      "metadata": {
        "colab": {
          "base_uri": "https://localhost:8080/",
          "height": 363
        },
        "id": "6Ef9tsdrHR5J",
        "outputId": "b74a69eb-70f2-41df-e055-210d4cdbd7b9"
      },
      "execution_count": 23,
      "outputs": [
        {
          "output_type": "execute_result",
          "data": {
            "text/plain": [
              "    ObservationDate   Recovered\n",
              "310      11/27/2020  39476664.0\n",
              "311      11/28/2020  39831868.0\n",
              "312      11/29/2020  40157966.0\n",
              "313      11/30/2020  40559353.0\n",
              "314      12/01/2020  41034934.0\n",
              "315      12/02/2020  41496318.0\n",
              "316      12/03/2020  41932091.0\n",
              "317      12/04/2020  42352021.0\n",
              "318      12/05/2020  42789879.0\n",
              "319      12/06/2020  43103827.0"
            ],
            "text/html": [
              "\n",
              "  <div id=\"df-5e27d9d8-241b-42b1-935b-417cfdd369d8\">\n",
              "    <div class=\"colab-df-container\">\n",
              "      <div>\n",
              "<style scoped>\n",
              "    .dataframe tbody tr th:only-of-type {\n",
              "        vertical-align: middle;\n",
              "    }\n",
              "\n",
              "    .dataframe tbody tr th {\n",
              "        vertical-align: top;\n",
              "    }\n",
              "\n",
              "    .dataframe thead th {\n",
              "        text-align: right;\n",
              "    }\n",
              "</style>\n",
              "<table border=\"1\" class=\"dataframe\">\n",
              "  <thead>\n",
              "    <tr style=\"text-align: right;\">\n",
              "      <th></th>\n",
              "      <th>ObservationDate</th>\n",
              "      <th>Recovered</th>\n",
              "    </tr>\n",
              "  </thead>\n",
              "  <tbody>\n",
              "    <tr>\n",
              "      <th>310</th>\n",
              "      <td>11/27/2020</td>\n",
              "      <td>39476664.0</td>\n",
              "    </tr>\n",
              "    <tr>\n",
              "      <th>311</th>\n",
              "      <td>11/28/2020</td>\n",
              "      <td>39831868.0</td>\n",
              "    </tr>\n",
              "    <tr>\n",
              "      <th>312</th>\n",
              "      <td>11/29/2020</td>\n",
              "      <td>40157966.0</td>\n",
              "    </tr>\n",
              "    <tr>\n",
              "      <th>313</th>\n",
              "      <td>11/30/2020</td>\n",
              "      <td>40559353.0</td>\n",
              "    </tr>\n",
              "    <tr>\n",
              "      <th>314</th>\n",
              "      <td>12/01/2020</td>\n",
              "      <td>41034934.0</td>\n",
              "    </tr>\n",
              "    <tr>\n",
              "      <th>315</th>\n",
              "      <td>12/02/2020</td>\n",
              "      <td>41496318.0</td>\n",
              "    </tr>\n",
              "    <tr>\n",
              "      <th>316</th>\n",
              "      <td>12/03/2020</td>\n",
              "      <td>41932091.0</td>\n",
              "    </tr>\n",
              "    <tr>\n",
              "      <th>317</th>\n",
              "      <td>12/04/2020</td>\n",
              "      <td>42352021.0</td>\n",
              "    </tr>\n",
              "    <tr>\n",
              "      <th>318</th>\n",
              "      <td>12/05/2020</td>\n",
              "      <td>42789879.0</td>\n",
              "    </tr>\n",
              "    <tr>\n",
              "      <th>319</th>\n",
              "      <td>12/06/2020</td>\n",
              "      <td>43103827.0</td>\n",
              "    </tr>\n",
              "  </tbody>\n",
              "</table>\n",
              "</div>\n",
              "      <button class=\"colab-df-convert\" onclick=\"convertToInteractive('df-5e27d9d8-241b-42b1-935b-417cfdd369d8')\"\n",
              "              title=\"Convert this dataframe to an interactive table.\"\n",
              "              style=\"display:none;\">\n",
              "        \n",
              "  <svg xmlns=\"http://www.w3.org/2000/svg\" height=\"24px\"viewBox=\"0 0 24 24\"\n",
              "       width=\"24px\">\n",
              "    <path d=\"M0 0h24v24H0V0z\" fill=\"none\"/>\n",
              "    <path d=\"M18.56 5.44l.94 2.06.94-2.06 2.06-.94-2.06-.94-.94-2.06-.94 2.06-2.06.94zm-11 1L8.5 8.5l.94-2.06 2.06-.94-2.06-.94L8.5 2.5l-.94 2.06-2.06.94zm10 10l.94 2.06.94-2.06 2.06-.94-2.06-.94-.94-2.06-.94 2.06-2.06.94z\"/><path d=\"M17.41 7.96l-1.37-1.37c-.4-.4-.92-.59-1.43-.59-.52 0-1.04.2-1.43.59L10.3 9.45l-7.72 7.72c-.78.78-.78 2.05 0 2.83L4 21.41c.39.39.9.59 1.41.59.51 0 1.02-.2 1.41-.59l7.78-7.78 2.81-2.81c.8-.78.8-2.07 0-2.86zM5.41 20L4 18.59l7.72-7.72 1.47 1.35L5.41 20z\"/>\n",
              "  </svg>\n",
              "      </button>\n",
              "      \n",
              "  <style>\n",
              "    .colab-df-container {\n",
              "      display:flex;\n",
              "      flex-wrap:wrap;\n",
              "      gap: 12px;\n",
              "    }\n",
              "\n",
              "    .colab-df-convert {\n",
              "      background-color: #E8F0FE;\n",
              "      border: none;\n",
              "      border-radius: 50%;\n",
              "      cursor: pointer;\n",
              "      display: none;\n",
              "      fill: #1967D2;\n",
              "      height: 32px;\n",
              "      padding: 0 0 0 0;\n",
              "      width: 32px;\n",
              "    }\n",
              "\n",
              "    .colab-df-convert:hover {\n",
              "      background-color: #E2EBFA;\n",
              "      box-shadow: 0px 1px 2px rgba(60, 64, 67, 0.3), 0px 1px 3px 1px rgba(60, 64, 67, 0.15);\n",
              "      fill: #174EA6;\n",
              "    }\n",
              "\n",
              "    [theme=dark] .colab-df-convert {\n",
              "      background-color: #3B4455;\n",
              "      fill: #D2E3FC;\n",
              "    }\n",
              "\n",
              "    [theme=dark] .colab-df-convert:hover {\n",
              "      background-color: #434B5C;\n",
              "      box-shadow: 0px 1px 3px 1px rgba(0, 0, 0, 0.15);\n",
              "      filter: drop-shadow(0px 1px 2px rgba(0, 0, 0, 0.3));\n",
              "      fill: #FFFFFF;\n",
              "    }\n",
              "  </style>\n",
              "\n",
              "      <script>\n",
              "        const buttonEl =\n",
              "          document.querySelector('#df-5e27d9d8-241b-42b1-935b-417cfdd369d8 button.colab-df-convert');\n",
              "        buttonEl.style.display =\n",
              "          google.colab.kernel.accessAllowed ? 'block' : 'none';\n",
              "\n",
              "        async function convertToInteractive(key) {\n",
              "          const element = document.querySelector('#df-5e27d9d8-241b-42b1-935b-417cfdd369d8');\n",
              "          const dataTable =\n",
              "            await google.colab.kernel.invokeFunction('convertToInteractive',\n",
              "                                                     [key], {});\n",
              "          if (!dataTable) return;\n",
              "\n",
              "          const docLinkHtml = 'Like what you see? Visit the ' +\n",
              "            '<a target=\"_blank\" href=https://colab.research.google.com/notebooks/data_table.ipynb>data table notebook</a>'\n",
              "            + ' to learn more about interactive tables.';\n",
              "          element.innerHTML = '';\n",
              "          dataTable['output_type'] = 'display_data';\n",
              "          await google.colab.output.renderOutput(dataTable, element);\n",
              "          const docLink = document.createElement('div');\n",
              "          docLink.innerHTML = docLinkHtml;\n",
              "          element.appendChild(docLink);\n",
              "        }\n",
              "      </script>\n",
              "    </div>\n",
              "  </div>\n",
              "  "
            ]
          },
          "metadata": {},
          "execution_count": 23
        }
      ]
    },
    {
      "cell_type": "code",
      "source": [
        "confirmed.columns = ['ds','y']\n",
        "confirmed['ds'] = pd.to_datetime(confirmed['ds'])\n"
      ],
      "metadata": {
        "id": "mh6Tj2igHS2L"
      },
      "execution_count": 24,
      "outputs": []
    },
    {
      "cell_type": "code",
      "source": [
        "confirmed.head()\n"
      ],
      "metadata": {
        "colab": {
          "base_uri": "https://localhost:8080/",
          "height": 206
        },
        "id": "_Ul1dEWhHVTU",
        "outputId": "46706ef2-3f10-41bb-cd7d-112f8cfcc200"
      },
      "execution_count": 25,
      "outputs": [
        {
          "output_type": "execute_result",
          "data": {
            "text/plain": [
              "          ds       y\n",
              "0 2020-01-22   555.0\n",
              "1 2020-01-23   653.0\n",
              "2 2020-01-24   941.0\n",
              "3 2020-01-25  1438.0\n",
              "4 2020-01-26  2118.0"
            ],
            "text/html": [
              "\n",
              "  <div id=\"df-87a3ea05-b3c0-493e-be3c-fcc945d882de\">\n",
              "    <div class=\"colab-df-container\">\n",
              "      <div>\n",
              "<style scoped>\n",
              "    .dataframe tbody tr th:only-of-type {\n",
              "        vertical-align: middle;\n",
              "    }\n",
              "\n",
              "    .dataframe tbody tr th {\n",
              "        vertical-align: top;\n",
              "    }\n",
              "\n",
              "    .dataframe thead th {\n",
              "        text-align: right;\n",
              "    }\n",
              "</style>\n",
              "<table border=\"1\" class=\"dataframe\">\n",
              "  <thead>\n",
              "    <tr style=\"text-align: right;\">\n",
              "      <th></th>\n",
              "      <th>ds</th>\n",
              "      <th>y</th>\n",
              "    </tr>\n",
              "  </thead>\n",
              "  <tbody>\n",
              "    <tr>\n",
              "      <th>0</th>\n",
              "      <td>2020-01-22</td>\n",
              "      <td>555.0</td>\n",
              "    </tr>\n",
              "    <tr>\n",
              "      <th>1</th>\n",
              "      <td>2020-01-23</td>\n",
              "      <td>653.0</td>\n",
              "    </tr>\n",
              "    <tr>\n",
              "      <th>2</th>\n",
              "      <td>2020-01-24</td>\n",
              "      <td>941.0</td>\n",
              "    </tr>\n",
              "    <tr>\n",
              "      <th>3</th>\n",
              "      <td>2020-01-25</td>\n",
              "      <td>1438.0</td>\n",
              "    </tr>\n",
              "    <tr>\n",
              "      <th>4</th>\n",
              "      <td>2020-01-26</td>\n",
              "      <td>2118.0</td>\n",
              "    </tr>\n",
              "  </tbody>\n",
              "</table>\n",
              "</div>\n",
              "      <button class=\"colab-df-convert\" onclick=\"convertToInteractive('df-87a3ea05-b3c0-493e-be3c-fcc945d882de')\"\n",
              "              title=\"Convert this dataframe to an interactive table.\"\n",
              "              style=\"display:none;\">\n",
              "        \n",
              "  <svg xmlns=\"http://www.w3.org/2000/svg\" height=\"24px\"viewBox=\"0 0 24 24\"\n",
              "       width=\"24px\">\n",
              "    <path d=\"M0 0h24v24H0V0z\" fill=\"none\"/>\n",
              "    <path d=\"M18.56 5.44l.94 2.06.94-2.06 2.06-.94-2.06-.94-.94-2.06-.94 2.06-2.06.94zm-11 1L8.5 8.5l.94-2.06 2.06-.94-2.06-.94L8.5 2.5l-.94 2.06-2.06.94zm10 10l.94 2.06.94-2.06 2.06-.94-2.06-.94-.94-2.06-.94 2.06-2.06.94z\"/><path d=\"M17.41 7.96l-1.37-1.37c-.4-.4-.92-.59-1.43-.59-.52 0-1.04.2-1.43.59L10.3 9.45l-7.72 7.72c-.78.78-.78 2.05 0 2.83L4 21.41c.39.39.9.59 1.41.59.51 0 1.02-.2 1.41-.59l7.78-7.78 2.81-2.81c.8-.78.8-2.07 0-2.86zM5.41 20L4 18.59l7.72-7.72 1.47 1.35L5.41 20z\"/>\n",
              "  </svg>\n",
              "      </button>\n",
              "      \n",
              "  <style>\n",
              "    .colab-df-container {\n",
              "      display:flex;\n",
              "      flex-wrap:wrap;\n",
              "      gap: 12px;\n",
              "    }\n",
              "\n",
              "    .colab-df-convert {\n",
              "      background-color: #E8F0FE;\n",
              "      border: none;\n",
              "      border-radius: 50%;\n",
              "      cursor: pointer;\n",
              "      display: none;\n",
              "      fill: #1967D2;\n",
              "      height: 32px;\n",
              "      padding: 0 0 0 0;\n",
              "      width: 32px;\n",
              "    }\n",
              "\n",
              "    .colab-df-convert:hover {\n",
              "      background-color: #E2EBFA;\n",
              "      box-shadow: 0px 1px 2px rgba(60, 64, 67, 0.3), 0px 1px 3px 1px rgba(60, 64, 67, 0.15);\n",
              "      fill: #174EA6;\n",
              "    }\n",
              "\n",
              "    [theme=dark] .colab-df-convert {\n",
              "      background-color: #3B4455;\n",
              "      fill: #D2E3FC;\n",
              "    }\n",
              "\n",
              "    [theme=dark] .colab-df-convert:hover {\n",
              "      background-color: #434B5C;\n",
              "      box-shadow: 0px 1px 3px 1px rgba(0, 0, 0, 0.15);\n",
              "      filter: drop-shadow(0px 1px 2px rgba(0, 0, 0, 0.3));\n",
              "      fill: #FFFFFF;\n",
              "    }\n",
              "  </style>\n",
              "\n",
              "      <script>\n",
              "        const buttonEl =\n",
              "          document.querySelector('#df-87a3ea05-b3c0-493e-be3c-fcc945d882de button.colab-df-convert');\n",
              "        buttonEl.style.display =\n",
              "          google.colab.kernel.accessAllowed ? 'block' : 'none';\n",
              "\n",
              "        async function convertToInteractive(key) {\n",
              "          const element = document.querySelector('#df-87a3ea05-b3c0-493e-be3c-fcc945d882de');\n",
              "          const dataTable =\n",
              "            await google.colab.kernel.invokeFunction('convertToInteractive',\n",
              "                                                     [key], {});\n",
              "          if (!dataTable) return;\n",
              "\n",
              "          const docLinkHtml = 'Like what you see? Visit the ' +\n",
              "            '<a target=\"_blank\" href=https://colab.research.google.com/notebooks/data_table.ipynb>data table notebook</a>'\n",
              "            + ' to learn more about interactive tables.';\n",
              "          element.innerHTML = '';\n",
              "          dataTable['output_type'] = 'display_data';\n",
              "          await google.colab.output.renderOutput(dataTable, element);\n",
              "          const docLink = document.createElement('div');\n",
              "          docLink.innerHTML = docLinkHtml;\n",
              "          element.appendChild(docLink);\n",
              "        }\n",
              "      </script>\n",
              "    </div>\n",
              "  </div>\n",
              "  "
            ]
          },
          "metadata": {},
          "execution_count": 25
        }
      ]
    },
    {
      "cell_type": "code",
      "source": [
        "confirmed.tail()\n"
      ],
      "metadata": {
        "colab": {
          "base_uri": "https://localhost:8080/",
          "height": 206
        },
        "id": "YJbM_z4xHWWP",
        "outputId": "9ea63f42-2831-4946-b97c-89c2017c92f7"
      },
      "execution_count": 26,
      "outputs": [
        {
          "output_type": "execute_result",
          "data": {
            "text/plain": [
              "            ds           y\n",
              "315 2020-12-02  64530517.0\n",
              "316 2020-12-03  65221040.0\n",
              "317 2020-12-04  65899441.0\n",
              "318 2020-12-05  66540034.0\n",
              "319 2020-12-06  67073728.0"
            ],
            "text/html": [
              "\n",
              "  <div id=\"df-9e32cca5-dcf4-4df0-9806-033587701d02\">\n",
              "    <div class=\"colab-df-container\">\n",
              "      <div>\n",
              "<style scoped>\n",
              "    .dataframe tbody tr th:only-of-type {\n",
              "        vertical-align: middle;\n",
              "    }\n",
              "\n",
              "    .dataframe tbody tr th {\n",
              "        vertical-align: top;\n",
              "    }\n",
              "\n",
              "    .dataframe thead th {\n",
              "        text-align: right;\n",
              "    }\n",
              "</style>\n",
              "<table border=\"1\" class=\"dataframe\">\n",
              "  <thead>\n",
              "    <tr style=\"text-align: right;\">\n",
              "      <th></th>\n",
              "      <th>ds</th>\n",
              "      <th>y</th>\n",
              "    </tr>\n",
              "  </thead>\n",
              "  <tbody>\n",
              "    <tr>\n",
              "      <th>315</th>\n",
              "      <td>2020-12-02</td>\n",
              "      <td>64530517.0</td>\n",
              "    </tr>\n",
              "    <tr>\n",
              "      <th>316</th>\n",
              "      <td>2020-12-03</td>\n",
              "      <td>65221040.0</td>\n",
              "    </tr>\n",
              "    <tr>\n",
              "      <th>317</th>\n",
              "      <td>2020-12-04</td>\n",
              "      <td>65899441.0</td>\n",
              "    </tr>\n",
              "    <tr>\n",
              "      <th>318</th>\n",
              "      <td>2020-12-05</td>\n",
              "      <td>66540034.0</td>\n",
              "    </tr>\n",
              "    <tr>\n",
              "      <th>319</th>\n",
              "      <td>2020-12-06</td>\n",
              "      <td>67073728.0</td>\n",
              "    </tr>\n",
              "  </tbody>\n",
              "</table>\n",
              "</div>\n",
              "      <button class=\"colab-df-convert\" onclick=\"convertToInteractive('df-9e32cca5-dcf4-4df0-9806-033587701d02')\"\n",
              "              title=\"Convert this dataframe to an interactive table.\"\n",
              "              style=\"display:none;\">\n",
              "        \n",
              "  <svg xmlns=\"http://www.w3.org/2000/svg\" height=\"24px\"viewBox=\"0 0 24 24\"\n",
              "       width=\"24px\">\n",
              "    <path d=\"M0 0h24v24H0V0z\" fill=\"none\"/>\n",
              "    <path d=\"M18.56 5.44l.94 2.06.94-2.06 2.06-.94-2.06-.94-.94-2.06-.94 2.06-2.06.94zm-11 1L8.5 8.5l.94-2.06 2.06-.94-2.06-.94L8.5 2.5l-.94 2.06-2.06.94zm10 10l.94 2.06.94-2.06 2.06-.94-2.06-.94-.94-2.06-.94 2.06-2.06.94z\"/><path d=\"M17.41 7.96l-1.37-1.37c-.4-.4-.92-.59-1.43-.59-.52 0-1.04.2-1.43.59L10.3 9.45l-7.72 7.72c-.78.78-.78 2.05 0 2.83L4 21.41c.39.39.9.59 1.41.59.51 0 1.02-.2 1.41-.59l7.78-7.78 2.81-2.81c.8-.78.8-2.07 0-2.86zM5.41 20L4 18.59l7.72-7.72 1.47 1.35L5.41 20z\"/>\n",
              "  </svg>\n",
              "      </button>\n",
              "      \n",
              "  <style>\n",
              "    .colab-df-container {\n",
              "      display:flex;\n",
              "      flex-wrap:wrap;\n",
              "      gap: 12px;\n",
              "    }\n",
              "\n",
              "    .colab-df-convert {\n",
              "      background-color: #E8F0FE;\n",
              "      border: none;\n",
              "      border-radius: 50%;\n",
              "      cursor: pointer;\n",
              "      display: none;\n",
              "      fill: #1967D2;\n",
              "      height: 32px;\n",
              "      padding: 0 0 0 0;\n",
              "      width: 32px;\n",
              "    }\n",
              "\n",
              "    .colab-df-convert:hover {\n",
              "      background-color: #E2EBFA;\n",
              "      box-shadow: 0px 1px 2px rgba(60, 64, 67, 0.3), 0px 1px 3px 1px rgba(60, 64, 67, 0.15);\n",
              "      fill: #174EA6;\n",
              "    }\n",
              "\n",
              "    [theme=dark] .colab-df-convert {\n",
              "      background-color: #3B4455;\n",
              "      fill: #D2E3FC;\n",
              "    }\n",
              "\n",
              "    [theme=dark] .colab-df-convert:hover {\n",
              "      background-color: #434B5C;\n",
              "      box-shadow: 0px 1px 3px 1px rgba(0, 0, 0, 0.15);\n",
              "      filter: drop-shadow(0px 1px 2px rgba(0, 0, 0, 0.3));\n",
              "      fill: #FFFFFF;\n",
              "    }\n",
              "  </style>\n",
              "\n",
              "      <script>\n",
              "        const buttonEl =\n",
              "          document.querySelector('#df-9e32cca5-dcf4-4df0-9806-033587701d02 button.colab-df-convert');\n",
              "        buttonEl.style.display =\n",
              "          google.colab.kernel.accessAllowed ? 'block' : 'none';\n",
              "\n",
              "        async function convertToInteractive(key) {\n",
              "          const element = document.querySelector('#df-9e32cca5-dcf4-4df0-9806-033587701d02');\n",
              "          const dataTable =\n",
              "            await google.colab.kernel.invokeFunction('convertToInteractive',\n",
              "                                                     [key], {});\n",
              "          if (!dataTable) return;\n",
              "\n",
              "          const docLinkHtml = 'Like what you see? Visit the ' +\n",
              "            '<a target=\"_blank\" href=https://colab.research.google.com/notebooks/data_table.ipynb>data table notebook</a>'\n",
              "            + ' to learn more about interactive tables.';\n",
              "          element.innerHTML = '';\n",
              "          dataTable['output_type'] = 'display_data';\n",
              "          await google.colab.output.renderOutput(dataTable, element);\n",
              "          const docLink = document.createElement('div');\n",
              "          docLink.innerHTML = docLinkHtml;\n",
              "          element.appendChild(docLink);\n",
              "        }\n",
              "      </script>\n",
              "    </div>\n",
              "  </div>\n",
              "  "
            ]
          },
          "metadata": {},
          "execution_count": 26
        }
      ]
    },
    {
      "cell_type": "code",
      "source": [
        "pd.set_option('display.max_rows', None)\n",
        "pd.set_option('display.float_format', lambda x: '%.3f' % x)"
      ],
      "metadata": {
        "id": "VfdnYDbiHXlT"
      },
      "execution_count": 27,
      "outputs": []
    },
    {
      "cell_type": "code",
      "source": [
        "m = Prophet(interval_width=0.95)\n",
        "m.fit(confirmed)\n",
        "future = m.make_future_dataframe(periods=131)"
      ],
      "metadata": {
        "colab": {
          "base_uri": "https://localhost:8080/"
        },
        "id": "tGkVj4cFHZWa",
        "outputId": "cd913749-7d92-467f-8ddc-450a86a108ec"
      },
      "execution_count": 28,
      "outputs": [
        {
          "output_type": "stream",
          "name": "stderr",
          "text": [
            "INFO:prophet:Disabling yearly seasonality. Run prophet with yearly_seasonality=True to override this.\n",
            "INFO:prophet:Disabling daily seasonality. Run prophet with daily_seasonality=True to override this.\n",
            "DEBUG:cmdstanpy:input tempfile: /tmp/tmppbtajl73/x8z9knjc.json\n",
            "DEBUG:cmdstanpy:input tempfile: /tmp/tmppbtajl73/oi43oi2v.json\n",
            "DEBUG:cmdstanpy:idx 0\n",
            "DEBUG:cmdstanpy:running CmdStan, num_threads: None\n",
            "DEBUG:cmdstanpy:CmdStan args: ['/usr/local/lib/python3.7/dist-packages/prophet/stan_model/prophet_model.bin', 'random', 'seed=97288', 'data', 'file=/tmp/tmppbtajl73/x8z9knjc.json', 'init=/tmp/tmppbtajl73/oi43oi2v.json', 'output', 'file=/tmp/tmps4ifkb84/prophet_model-20221001195454.csv', 'method=optimize', 'algorithm=lbfgs', 'iter=10000']\n",
            "19:54:54 - cmdstanpy - INFO - Chain [1] start processing\n",
            "INFO:cmdstanpy:Chain [1] start processing\n",
            "19:54:55 - cmdstanpy - INFO - Chain [1] done processing\n",
            "INFO:cmdstanpy:Chain [1] done processing\n"
          ]
        }
      ]
    },
    {
      "cell_type": "code",
      "source": [
        "future.tail(10)\n"
      ],
      "metadata": {
        "colab": {
          "base_uri": "https://localhost:8080/",
          "height": 363
        },
        "id": "qJHsI5gaHasu",
        "outputId": "9b602c1f-d073-4017-b7bd-679c81facf90"
      },
      "execution_count": 31,
      "outputs": [
        {
          "output_type": "execute_result",
          "data": {
            "text/plain": [
              "            ds\n",
              "441 2021-04-07\n",
              "442 2021-04-08\n",
              "443 2021-04-09\n",
              "444 2021-04-10\n",
              "445 2021-04-11\n",
              "446 2021-04-12\n",
              "447 2021-04-13\n",
              "448 2021-04-14\n",
              "449 2021-04-15\n",
              "450 2021-04-16"
            ],
            "text/html": [
              "\n",
              "  <div id=\"df-af093a7f-7080-4c64-9dfc-53976bf418e7\">\n",
              "    <div class=\"colab-df-container\">\n",
              "      <div>\n",
              "<style scoped>\n",
              "    .dataframe tbody tr th:only-of-type {\n",
              "        vertical-align: middle;\n",
              "    }\n",
              "\n",
              "    .dataframe tbody tr th {\n",
              "        vertical-align: top;\n",
              "    }\n",
              "\n",
              "    .dataframe thead th {\n",
              "        text-align: right;\n",
              "    }\n",
              "</style>\n",
              "<table border=\"1\" class=\"dataframe\">\n",
              "  <thead>\n",
              "    <tr style=\"text-align: right;\">\n",
              "      <th></th>\n",
              "      <th>ds</th>\n",
              "    </tr>\n",
              "  </thead>\n",
              "  <tbody>\n",
              "    <tr>\n",
              "      <th>441</th>\n",
              "      <td>2021-04-07</td>\n",
              "    </tr>\n",
              "    <tr>\n",
              "      <th>442</th>\n",
              "      <td>2021-04-08</td>\n",
              "    </tr>\n",
              "    <tr>\n",
              "      <th>443</th>\n",
              "      <td>2021-04-09</td>\n",
              "    </tr>\n",
              "    <tr>\n",
              "      <th>444</th>\n",
              "      <td>2021-04-10</td>\n",
              "    </tr>\n",
              "    <tr>\n",
              "      <th>445</th>\n",
              "      <td>2021-04-11</td>\n",
              "    </tr>\n",
              "    <tr>\n",
              "      <th>446</th>\n",
              "      <td>2021-04-12</td>\n",
              "    </tr>\n",
              "    <tr>\n",
              "      <th>447</th>\n",
              "      <td>2021-04-13</td>\n",
              "    </tr>\n",
              "    <tr>\n",
              "      <th>448</th>\n",
              "      <td>2021-04-14</td>\n",
              "    </tr>\n",
              "    <tr>\n",
              "      <th>449</th>\n",
              "      <td>2021-04-15</td>\n",
              "    </tr>\n",
              "    <tr>\n",
              "      <th>450</th>\n",
              "      <td>2021-04-16</td>\n",
              "    </tr>\n",
              "  </tbody>\n",
              "</table>\n",
              "</div>\n",
              "      <button class=\"colab-df-convert\" onclick=\"convertToInteractive('df-af093a7f-7080-4c64-9dfc-53976bf418e7')\"\n",
              "              title=\"Convert this dataframe to an interactive table.\"\n",
              "              style=\"display:none;\">\n",
              "        \n",
              "  <svg xmlns=\"http://www.w3.org/2000/svg\" height=\"24px\"viewBox=\"0 0 24 24\"\n",
              "       width=\"24px\">\n",
              "    <path d=\"M0 0h24v24H0V0z\" fill=\"none\"/>\n",
              "    <path d=\"M18.56 5.44l.94 2.06.94-2.06 2.06-.94-2.06-.94-.94-2.06-.94 2.06-2.06.94zm-11 1L8.5 8.5l.94-2.06 2.06-.94-2.06-.94L8.5 2.5l-.94 2.06-2.06.94zm10 10l.94 2.06.94-2.06 2.06-.94-2.06-.94-.94-2.06-.94 2.06-2.06.94z\"/><path d=\"M17.41 7.96l-1.37-1.37c-.4-.4-.92-.59-1.43-.59-.52 0-1.04.2-1.43.59L10.3 9.45l-7.72 7.72c-.78.78-.78 2.05 0 2.83L4 21.41c.39.39.9.59 1.41.59.51 0 1.02-.2 1.41-.59l7.78-7.78 2.81-2.81c.8-.78.8-2.07 0-2.86zM5.41 20L4 18.59l7.72-7.72 1.47 1.35L5.41 20z\"/>\n",
              "  </svg>\n",
              "      </button>\n",
              "      \n",
              "  <style>\n",
              "    .colab-df-container {\n",
              "      display:flex;\n",
              "      flex-wrap:wrap;\n",
              "      gap: 12px;\n",
              "    }\n",
              "\n",
              "    .colab-df-convert {\n",
              "      background-color: #E8F0FE;\n",
              "      border: none;\n",
              "      border-radius: 50%;\n",
              "      cursor: pointer;\n",
              "      display: none;\n",
              "      fill: #1967D2;\n",
              "      height: 32px;\n",
              "      padding: 0 0 0 0;\n",
              "      width: 32px;\n",
              "    }\n",
              "\n",
              "    .colab-df-convert:hover {\n",
              "      background-color: #E2EBFA;\n",
              "      box-shadow: 0px 1px 2px rgba(60, 64, 67, 0.3), 0px 1px 3px 1px rgba(60, 64, 67, 0.15);\n",
              "      fill: #174EA6;\n",
              "    }\n",
              "\n",
              "    [theme=dark] .colab-df-convert {\n",
              "      background-color: #3B4455;\n",
              "      fill: #D2E3FC;\n",
              "    }\n",
              "\n",
              "    [theme=dark] .colab-df-convert:hover {\n",
              "      background-color: #434B5C;\n",
              "      box-shadow: 0px 1px 3px 1px rgba(0, 0, 0, 0.15);\n",
              "      filter: drop-shadow(0px 1px 2px rgba(0, 0, 0, 0.3));\n",
              "      fill: #FFFFFF;\n",
              "    }\n",
              "  </style>\n",
              "\n",
              "      <script>\n",
              "        const buttonEl =\n",
              "          document.querySelector('#df-af093a7f-7080-4c64-9dfc-53976bf418e7 button.colab-df-convert');\n",
              "        buttonEl.style.display =\n",
              "          google.colab.kernel.accessAllowed ? 'block' : 'none';\n",
              "\n",
              "        async function convertToInteractive(key) {\n",
              "          const element = document.querySelector('#df-af093a7f-7080-4c64-9dfc-53976bf418e7');\n",
              "          const dataTable =\n",
              "            await google.colab.kernel.invokeFunction('convertToInteractive',\n",
              "                                                     [key], {});\n",
              "          if (!dataTable) return;\n",
              "\n",
              "          const docLinkHtml = 'Like what you see? Visit the ' +\n",
              "            '<a target=\"_blank\" href=https://colab.research.google.com/notebooks/data_table.ipynb>data table notebook</a>'\n",
              "            + ' to learn more about interactive tables.';\n",
              "          element.innerHTML = '';\n",
              "          dataTable['output_type'] = 'display_data';\n",
              "          await google.colab.output.renderOutput(dataTable, element);\n",
              "          const docLink = document.createElement('div');\n",
              "          docLink.innerHTML = docLinkHtml;\n",
              "          element.appendChild(docLink);\n",
              "        }\n",
              "      </script>\n",
              "    </div>\n",
              "  </div>\n",
              "  "
            ]
          },
          "metadata": {},
          "execution_count": 31
        }
      ]
    },
    {
      "cell_type": "code",
      "source": [
        "forecast = m.predict(future)\n",
        "forecast[['ds', 'yhat', 'yhat_lower', 'yhat_upper']].tail(3)"
      ],
      "metadata": {
        "colab": {
          "base_uri": "https://localhost:8080/",
          "height": 143
        },
        "id": "qZYFLmLbHbxK",
        "outputId": "47069bc4-23b1-4e50-a7bf-025a96c7b8fa"
      },
      "execution_count": 30,
      "outputs": [
        {
          "output_type": "execute_result",
          "data": {
            "text/plain": [
              "            ds          yhat    yhat_lower    yhat_upper\n",
              "448 2021-04-14 129869367.005 111582779.840 147671666.137\n",
              "449 2021-04-15 130393288.765 112013413.181 147867192.461\n",
              "450 2021-04-16 130925783.280 112303367.938 148650376.691"
            ],
            "text/html": [
              "\n",
              "  <div id=\"df-893d8b00-00fb-46df-934f-5f2f549d0ee7\">\n",
              "    <div class=\"colab-df-container\">\n",
              "      <div>\n",
              "<style scoped>\n",
              "    .dataframe tbody tr th:only-of-type {\n",
              "        vertical-align: middle;\n",
              "    }\n",
              "\n",
              "    .dataframe tbody tr th {\n",
              "        vertical-align: top;\n",
              "    }\n",
              "\n",
              "    .dataframe thead th {\n",
              "        text-align: right;\n",
              "    }\n",
              "</style>\n",
              "<table border=\"1\" class=\"dataframe\">\n",
              "  <thead>\n",
              "    <tr style=\"text-align: right;\">\n",
              "      <th></th>\n",
              "      <th>ds</th>\n",
              "      <th>yhat</th>\n",
              "      <th>yhat_lower</th>\n",
              "      <th>yhat_upper</th>\n",
              "    </tr>\n",
              "  </thead>\n",
              "  <tbody>\n",
              "    <tr>\n",
              "      <th>448</th>\n",
              "      <td>2021-04-14</td>\n",
              "      <td>129869367.005</td>\n",
              "      <td>111582779.840</td>\n",
              "      <td>147671666.137</td>\n",
              "    </tr>\n",
              "    <tr>\n",
              "      <th>449</th>\n",
              "      <td>2021-04-15</td>\n",
              "      <td>130393288.765</td>\n",
              "      <td>112013413.181</td>\n",
              "      <td>147867192.461</td>\n",
              "    </tr>\n",
              "    <tr>\n",
              "      <th>450</th>\n",
              "      <td>2021-04-16</td>\n",
              "      <td>130925783.280</td>\n",
              "      <td>112303367.938</td>\n",
              "      <td>148650376.691</td>\n",
              "    </tr>\n",
              "  </tbody>\n",
              "</table>\n",
              "</div>\n",
              "      <button class=\"colab-df-convert\" onclick=\"convertToInteractive('df-893d8b00-00fb-46df-934f-5f2f549d0ee7')\"\n",
              "              title=\"Convert this dataframe to an interactive table.\"\n",
              "              style=\"display:none;\">\n",
              "        \n",
              "  <svg xmlns=\"http://www.w3.org/2000/svg\" height=\"24px\"viewBox=\"0 0 24 24\"\n",
              "       width=\"24px\">\n",
              "    <path d=\"M0 0h24v24H0V0z\" fill=\"none\"/>\n",
              "    <path d=\"M18.56 5.44l.94 2.06.94-2.06 2.06-.94-2.06-.94-.94-2.06-.94 2.06-2.06.94zm-11 1L8.5 8.5l.94-2.06 2.06-.94-2.06-.94L8.5 2.5l-.94 2.06-2.06.94zm10 10l.94 2.06.94-2.06 2.06-.94-2.06-.94-.94-2.06-.94 2.06-2.06.94z\"/><path d=\"M17.41 7.96l-1.37-1.37c-.4-.4-.92-.59-1.43-.59-.52 0-1.04.2-1.43.59L10.3 9.45l-7.72 7.72c-.78.78-.78 2.05 0 2.83L4 21.41c.39.39.9.59 1.41.59.51 0 1.02-.2 1.41-.59l7.78-7.78 2.81-2.81c.8-.78.8-2.07 0-2.86zM5.41 20L4 18.59l7.72-7.72 1.47 1.35L5.41 20z\"/>\n",
              "  </svg>\n",
              "      </button>\n",
              "      \n",
              "  <style>\n",
              "    .colab-df-container {\n",
              "      display:flex;\n",
              "      flex-wrap:wrap;\n",
              "      gap: 12px;\n",
              "    }\n",
              "\n",
              "    .colab-df-convert {\n",
              "      background-color: #E8F0FE;\n",
              "      border: none;\n",
              "      border-radius: 50%;\n",
              "      cursor: pointer;\n",
              "      display: none;\n",
              "      fill: #1967D2;\n",
              "      height: 32px;\n",
              "      padding: 0 0 0 0;\n",
              "      width: 32px;\n",
              "    }\n",
              "\n",
              "    .colab-df-convert:hover {\n",
              "      background-color: #E2EBFA;\n",
              "      box-shadow: 0px 1px 2px rgba(60, 64, 67, 0.3), 0px 1px 3px 1px rgba(60, 64, 67, 0.15);\n",
              "      fill: #174EA6;\n",
              "    }\n",
              "\n",
              "    [theme=dark] .colab-df-convert {\n",
              "      background-color: #3B4455;\n",
              "      fill: #D2E3FC;\n",
              "    }\n",
              "\n",
              "    [theme=dark] .colab-df-convert:hover {\n",
              "      background-color: #434B5C;\n",
              "      box-shadow: 0px 1px 3px 1px rgba(0, 0, 0, 0.15);\n",
              "      filter: drop-shadow(0px 1px 2px rgba(0, 0, 0, 0.3));\n",
              "      fill: #FFFFFF;\n",
              "    }\n",
              "  </style>\n",
              "\n",
              "      <script>\n",
              "        const buttonEl =\n",
              "          document.querySelector('#df-893d8b00-00fb-46df-934f-5f2f549d0ee7 button.colab-df-convert');\n",
              "        buttonEl.style.display =\n",
              "          google.colab.kernel.accessAllowed ? 'block' : 'none';\n",
              "\n",
              "        async function convertToInteractive(key) {\n",
              "          const element = document.querySelector('#df-893d8b00-00fb-46df-934f-5f2f549d0ee7');\n",
              "          const dataTable =\n",
              "            await google.colab.kernel.invokeFunction('convertToInteractive',\n",
              "                                                     [key], {});\n",
              "          if (!dataTable) return;\n",
              "\n",
              "          const docLinkHtml = 'Like what you see? Visit the ' +\n",
              "            '<a target=\"_blank\" href=https://colab.research.google.com/notebooks/data_table.ipynb>data table notebook</a>'\n",
              "            + ' to learn more about interactive tables.';\n",
              "          element.innerHTML = '';\n",
              "          dataTable['output_type'] = 'display_data';\n",
              "          await google.colab.output.renderOutput(dataTable, element);\n",
              "          const docLink = document.createElement('div');\n",
              "          docLink.innerHTML = docLinkHtml;\n",
              "          element.appendChild(docLink);\n",
              "        }\n",
              "      </script>\n",
              "    </div>\n",
              "  </div>\n",
              "  "
            ]
          },
          "metadata": {},
          "execution_count": 30
        }
      ]
    },
    {
      "cell_type": "code",
      "source": [
        "confirmed_forecast_plot = m.plot(forecast)\n"
      ],
      "metadata": {
        "colab": {
          "base_uri": "https://localhost:8080/",
          "height": 441
        },
        "id": "lU7GZkYCHe-6",
        "outputId": "b51da6e9-c135-4f89-a357-c58a84df886a"
      },
      "execution_count": 32,
      "outputs": [
        {
          "output_type": "display_data",
          "data": {
            "text/plain": [
              "<Figure size 720x432 with 1 Axes>"
            ],
            "image/png": "[encoded data removed]"
          },
          "metadata": {}
        }
      ]
    },
    {
      "cell_type": "code",
      "source": [
        "confirmed_forecast_plot =m.plot_components(forecast)\n"
      ],
      "metadata": {
        "colab": {
          "base_uri": "https://localhost:8080/",
          "height": 441
        },
        "id": "ukhSv89kHjbg",
        "outputId": "a74037d7-2647-451d-dce6-75df044521b6"
      },
      "execution_count": 33,
      "outputs": [
        {
          "output_type": "display_data",
          "data": {
            "text/plain": [
              "<Figure size 648x432 with 2 Axes>"
            ],
            "image/png": "[encoded data removed]"
          },
          "metadata": {}
        }
      ]
    },
    {
      "cell_type": "code",
      "source": [
        "deaths.columns = ['ds','y']\n",
        "deaths['ds'] = pd.to_datetime(deaths['ds'])"
      ],
      "metadata": {
        "id": "0uA31WF_Hk0g"
      },
      "execution_count": 34,
      "outputs": []
    },
    {
      "cell_type": "code",
      "source": [
        "m = Prophet(interval_width=0.95)\n",
        "m.fit(deaths)\n",
        "future = m.make_future_dataframe(periods=131)\n",
        "future.tail()"
      ],
      "metadata": {
        "colab": {
          "base_uri": "https://localhost:8080/",
          "height": 417
        },
        "id": "VUtGs7dWHmIr",
        "outputId": "e76ba127-6f4d-4ed0-ae05-bfb39242282d"
      },
      "execution_count": 35,
      "outputs": [
        {
          "output_type": "stream",
          "name": "stderr",
          "text": [
            "INFO:prophet:Disabling yearly seasonality. Run prophet with yearly_seasonality=True to override this.\n",
            "INFO:prophet:Disabling daily seasonality. Run prophet with daily_seasonality=True to override this.\n",
            "DEBUG:cmdstanpy:input tempfile: /tmp/tmppbtajl73/jgu1vzj7.json\n",
            "DEBUG:cmdstanpy:input tempfile: /tmp/tmppbtajl73/zi9wy9xb.json\n",
            "DEBUG:cmdstanpy:idx 0\n",
            "DEBUG:cmdstanpy:running CmdStan, num_threads: None\n",
            "DEBUG:cmdstanpy:CmdStan args: ['/usr/local/lib/python3.7/dist-packages/prophet/stan_model/prophet_model.bin', 'random', 'seed=26900', 'data', 'file=/tmp/tmppbtajl73/jgu1vzj7.json', 'init=/tmp/tmppbtajl73/zi9wy9xb.json', 'output', 'file=/tmp/tmpnyueyu_l/prophet_model-20221001195543.csv', 'method=optimize', 'algorithm=lbfgs', 'iter=10000']\n",
            "19:55:43 - cmdstanpy - INFO - Chain [1] start processing\n",
            "INFO:cmdstanpy:Chain [1] start processing\n",
            "19:55:43 - cmdstanpy - INFO - Chain [1] done processing\n",
            "INFO:cmdstanpy:Chain [1] done processing\n"
          ]
        },
        {
          "output_type": "execute_result",
          "data": {
            "text/plain": [
              "            ds\n",
              "446 2021-04-12\n",
              "447 2021-04-13\n",
              "448 2021-04-14\n",
              "449 2021-04-15\n",
              "450 2021-04-16"
            ],
            "text/html": [
              "\n",
              "  <div id=\"df-46f8360a-dc9f-4f06-a351-8cbfc9f50c9a\">\n",
              "    <div class=\"colab-df-container\">\n",
              "      <div>\n",
              "<style scoped>\n",
              "    .dataframe tbody tr th:only-of-type {\n",
              "        vertical-align: middle;\n",
              "    }\n",
              "\n",
              "    .dataframe tbody tr th {\n",
              "        vertical-align: top;\n",
              "    }\n",
              "\n",
              "    .dataframe thead th {\n",
              "        text-align: right;\n",
              "    }\n",
              "</style>\n",
              "<table border=\"1\" class=\"dataframe\">\n",
              "  <thead>\n",
              "    <tr style=\"text-align: right;\">\n",
              "      <th></th>\n",
              "      <th>ds</th>\n",
              "    </tr>\n",
              "  </thead>\n",
              "  <tbody>\n",
              "    <tr>\n",
              "      <th>446</th>\n",
              "      <td>2021-04-12</td>\n",
              "    </tr>\n",
              "    <tr>\n",
              "      <th>447</th>\n",
              "      <td>2021-04-13</td>\n",
              "    </tr>\n",
              "    <tr>\n",
              "      <th>448</th>\n",
              "      <td>2021-04-14</td>\n",
              "    </tr>\n",
              "    <tr>\n",
              "      <th>449</th>\n",
              "      <td>2021-04-15</td>\n",
              "    </tr>\n",
              "    <tr>\n",
              "      <th>450</th>\n",
              "      <td>2021-04-16</td>\n",
              "    </tr>\n",
              "  </tbody>\n",
              "</table>\n",
              "</div>\n",
              "      <button class=\"colab-df-convert\" onclick=\"convertToInteractive('df-46f8360a-dc9f-4f06-a351-8cbfc9f50c9a')\"\n",
              "              title=\"Convert this dataframe to an interactive table.\"\n",
              "              style=\"display:none;\">\n",
              "        \n",
              "  <svg xmlns=\"http://www.w3.org/2000/svg\" height=\"24px\"viewBox=\"0 0 24 24\"\n",
              "       width=\"24px\">\n",
              "    <path d=\"M0 0h24v24H0V0z\" fill=\"none\"/>\n",
              "    <path d=\"M18.56 5.44l.94 2.06.94-2.06 2.06-.94-2.06-.94-.94-2.06-.94 2.06-2.06.94zm-11 1L8.5 8.5l.94-2.06 2.06-.94-2.06-.94L8.5 2.5l-.94 2.06-2.06.94zm10 10l.94 2.06.94-2.06 2.06-.94-2.06-.94-.94-2.06-.94 2.06-2.06.94z\"/><path d=\"M17.41 7.96l-1.37-1.37c-.4-.4-.92-.59-1.43-.59-.52 0-1.04.2-1.43.59L10.3 9.45l-7.72 7.72c-.78.78-.78 2.05 0 2.83L4 21.41c.39.39.9.59 1.41.59.51 0 1.02-.2 1.41-.59l7.78-7.78 2.81-2.81c.8-.78.8-2.07 0-2.86zM5.41 20L4 18.59l7.72-7.72 1.47 1.35L5.41 20z\"/>\n",
              "  </svg>\n",
              "      </button>\n",
              "      \n",
              "  <style>\n",
              "    .colab-df-container {\n",
              "      display:flex;\n",
              "      flex-wrap:wrap;\n",
              "      gap: 12px;\n",
              "    }\n",
              "\n",
              "    .colab-df-convert {\n",
              "      background-color: #E8F0FE;\n",
              "      border: none;\n",
              "      border-radius: 50%;\n",
              "      cursor: pointer;\n",
              "      display: none;\n",
              "      fill: #1967D2;\n",
              "      height: 32px;\n",
              "      padding: 0 0 0 0;\n",
              "      width: 32px;\n",
              "    }\n",
              "\n",
              "    .colab-df-convert:hover {\n",
              "      background-color: #E2EBFA;\n",
              "      box-shadow: 0px 1px 2px rgba(60, 64, 67, 0.3), 0px 1px 3px 1px rgba(60, 64, 67, 0.15);\n",
              "      fill: #174EA6;\n",
              "    }\n",
              "\n",
              "    [theme=dark] .colab-df-convert {\n",
              "      background-color: #3B4455;\n",
              "      fill: #D2E3FC;\n",
              "    }\n",
              "\n",
              "    [theme=dark] .colab-df-convert:hover {\n",
              "      background-color: #434B5C;\n",
              "      box-shadow: 0px 1px 3px 1px rgba(0, 0, 0, 0.15);\n",
              "      filter: drop-shadow(0px 1px 2px rgba(0, 0, 0, 0.3));\n",
              "      fill: #FFFFFF;\n",
              "    }\n",
              "  </style>\n",
              "\n",
              "      <script>\n",
              "        const buttonEl =\n",
              "          document.querySelector('#df-46f8360a-dc9f-4f06-a351-8cbfc9f50c9a button.colab-df-convert');\n",
              "        buttonEl.style.display =\n",
              "          google.colab.kernel.accessAllowed ? 'block' : 'none';\n",
              "\n",
              "        async function convertToInteractive(key) {\n",
              "          const element = document.querySelector('#df-46f8360a-dc9f-4f06-a351-8cbfc9f50c9a');\n",
              "          const dataTable =\n",
              "            await google.colab.kernel.invokeFunction('convertToInteractive',\n",
              "                                                     [key], {});\n",
              "          if (!dataTable) return;\n",
              "\n",
              "          const docLinkHtml = 'Like what you see? Visit the ' +\n",
              "            '<a target=\"_blank\" href=https://colab.research.google.com/notebooks/data_table.ipynb>data table notebook</a>'\n",
              "            + ' to learn more about interactive tables.';\n",
              "          element.innerHTML = '';\n",
              "          dataTable['output_type'] = 'display_data';\n",
              "          await google.colab.output.renderOutput(dataTable, element);\n",
              "          const docLink = document.createElement('div');\n",
              "          docLink.innerHTML = docLinkHtml;\n",
              "          element.appendChild(docLink);\n",
              "        }\n",
              "      </script>\n",
              "    </div>\n",
              "  </div>\n",
              "  "
            ]
          },
          "metadata": {},
          "execution_count": 35
        }
      ]
    },
    {
      "cell_type": "code",
      "source": [
        "forecast = m.predict(future)\n",
        "forecast[['ds', 'yhat', 'yhat_lower', 'yhat_upper']].tail(10)"
      ],
      "metadata": {
        "colab": {
          "base_uri": "https://localhost:8080/",
          "height": 363
        },
        "id": "iAVbakmYHnvG",
        "outputId": "23079be8-2918-43c6-9350-6946e310d32d"
      },
      "execution_count": 36,
      "outputs": [
        {
          "output_type": "execute_result",
          "data": {
            "text/plain": [
              "            ds        yhat  yhat_lower  yhat_upper\n",
              "441 2021-04-07 2417512.087 2018432.617 2798069.914\n",
              "442 2021-04-08 2425931.186 2015920.672 2803227.336\n",
              "443 2021-04-09 2434225.439 2021711.834 2825426.767\n",
              "444 2021-04-10 2441661.686 2021779.451 2835169.156\n",
              "445 2021-04-11 2447942.872 2026632.637 2848478.176\n",
              "446 2021-04-12 2453738.982 2021850.462 2863623.135\n",
              "447 2021-04-13 2462001.082 2021790.380 2879592.656\n",
              "448 2021-04-14 2470520.171 2027656.316 2884064.780\n",
              "449 2021-04-15 2478939.270 2030173.087 2902613.348\n",
              "450 2021-04-16 2487233.524 2022608.133 2905000.143"
            ],
            "text/html": [
              "\n",
              "  <div id=\"df-41c09313-a402-46f8-a44f-8b34dd2e1028\">\n",
              "    <div class=\"colab-df-container\">\n",
              "      <div>\n",
              "<style scoped>\n",
              "    .dataframe tbody tr th:only-of-type {\n",
              "        vertical-align: middle;\n",
              "    }\n",
              "\n",
              "    .dataframe tbody tr th {\n",
              "        vertical-align: top;\n",
              "    }\n",
              "\n",
              "    .dataframe thead th {\n",
              "        text-align: right;\n",
              "    }\n",
              "</style>\n",
              "<table border=\"1\" class=\"dataframe\">\n",
              "  <thead>\n",
              "    <tr style=\"text-align: right;\">\n",
              "      <th></th>\n",
              "      <th>ds</th>\n",
              "      <th>yhat</th>\n",
              "      <th>yhat_lower</th>\n",
              "      <th>yhat_upper</th>\n",
              "    </tr>\n",
              "  </thead>\n",
              "  <tbody>\n",
              "    <tr>\n",
              "      <th>441</th>\n",
              "      <td>2021-04-07</td>\n",
              "      <td>2417512.087</td>\n",
              "      <td>2018432.617</td>\n",
              "      <td>2798069.914</td>\n",
              "    </tr>\n",
              "    <tr>\n",
              "      <th>442</th>\n",
              "      <td>2021-04-08</td>\n",
              "      <td>2425931.186</td>\n",
              "      <td>2015920.672</td>\n",
              "      <td>2803227.336</td>\n",
              "    </tr>\n",
              "    <tr>\n",
              "      <th>443</th>\n",
              "      <td>2021-04-09</td>\n",
              "      <td>2434225.439</td>\n",
              "      <td>2021711.834</td>\n",
              "      <td>2825426.767</td>\n",
              "    </tr>\n",
              "    <tr>\n",
              "      <th>444</th>\n",
              "      <td>2021-04-10</td>\n",
              "      <td>2441661.686</td>\n",
              "      <td>2021779.451</td>\n",
              "      <td>2835169.156</td>\n",
              "    </tr>\n",
              "    <tr>\n",
              "      <th>445</th>\n",
              "      <td>2021-04-11</td>\n",
              "      <td>2447942.872</td>\n",
              "      <td>2026632.637</td>\n",
              "      <td>2848478.176</td>\n",
              "    </tr>\n",
              "    <tr>\n",
              "      <th>446</th>\n",
              "      <td>2021-04-12</td>\n",
              "      <td>2453738.982</td>\n",
              "      <td>2021850.462</td>\n",
              "      <td>2863623.135</td>\n",
              "    </tr>\n",
              "    <tr>\n",
              "      <th>447</th>\n",
              "      <td>2021-04-13</td>\n",
              "      <td>2462001.082</td>\n",
              "      <td>2021790.380</td>\n",
              "      <td>2879592.656</td>\n",
              "    </tr>\n",
              "    <tr>\n",
              "      <th>448</th>\n",
              "      <td>2021-04-14</td>\n",
              "      <td>2470520.171</td>\n",
              "      <td>2027656.316</td>\n",
              "      <td>2884064.780</td>\n",
              "    </tr>\n",
              "    <tr>\n",
              "      <th>449</th>\n",
              "      <td>2021-04-15</td>\n",
              "      <td>2478939.270</td>\n",
              "      <td>2030173.087</td>\n",
              "      <td>2902613.348</td>\n",
              "    </tr>\n",
              "    <tr>\n",
              "      <th>450</th>\n",
              "      <td>2021-04-16</td>\n",
              "      <td>2487233.524</td>\n",
              "      <td>2022608.133</td>\n",
              "      <td>2905000.143</td>\n",
              "    </tr>\n",
              "  </tbody>\n",
              "</table>\n",
              "</div>\n",
              "      <button class=\"colab-df-convert\" onclick=\"convertToInteractive('df-41c09313-a402-46f8-a44f-8b34dd2e1028')\"\n",
              "              title=\"Convert this dataframe to an interactive table.\"\n",
              "              style=\"display:none;\">\n",
              "        \n",
              "  <svg xmlns=\"http://www.w3.org/2000/svg\" height=\"24px\"viewBox=\"0 0 24 24\"\n",
              "       width=\"24px\">\n",
              "    <path d=\"M0 0h24v24H0V0z\" fill=\"none\"/>\n",
              "    <path d=\"M18.56 5.44l.94 2.06.94-2.06 2.06-.94-2.06-.94-.94-2.06-.94 2.06-2.06.94zm-11 1L8.5 8.5l.94-2.06 2.06-.94-2.06-.94L8.5 2.5l-.94 2.06-2.06.94zm10 10l.94 2.06.94-2.06 2.06-.94-2.06-.94-.94-2.06-.94 2.06-2.06.94z\"/><path d=\"M17.41 7.96l-1.37-1.37c-.4-.4-.92-.59-1.43-.59-.52 0-1.04.2-1.43.59L10.3 9.45l-7.72 7.72c-.78.78-.78 2.05 0 2.83L4 21.41c.39.39.9.59 1.41.59.51 0 1.02-.2 1.41-.59l7.78-7.78 2.81-2.81c.8-.78.8-2.07 0-2.86zM5.41 20L4 18.59l7.72-7.72 1.47 1.35L5.41 20z\"/>\n",
              "  </svg>\n",
              "      </button>\n",
              "      \n",
              "  <style>\n",
              "    .colab-df-container {\n",
              "      display:flex;\n",
              "      flex-wrap:wrap;\n",
              "      gap: 12px;\n",
              "    }\n",
              "\n",
              "    .colab-df-convert {\n",
              "      background-color: #E8F0FE;\n",
              "      border: none;\n",
              "      border-radius: 50%;\n",
              "      cursor: pointer;\n",
              "      display: none;\n",
              "      fill: #1967D2;\n",
              "      height: 32px;\n",
              "      padding: 0 0 0 0;\n",
              "      width: 32px;\n",
              "    }\n",
              "\n",
              "    .colab-df-convert:hover {\n",
              "      background-color: #E2EBFA;\n",
              "      box-shadow: 0px 1px 2px rgba(60, 64, 67, 0.3), 0px 1px 3px 1px rgba(60, 64, 67, 0.15);\n",
              "      fill: #174EA6;\n",
              "    }\n",
              "\n",
              "    [theme=dark] .colab-df-convert {\n",
              "      background-color: #3B4455;\n",
              "      fill: #D2E3FC;\n",
              "    }\n",
              "\n",
              "    [theme=dark] .colab-df-convert:hover {\n",
              "      background-color: #434B5C;\n",
              "      box-shadow: 0px 1px 3px 1px rgba(0, 0, 0, 0.15);\n",
              "      filter: drop-shadow(0px 1px 2px rgba(0, 0, 0, 0.3));\n",
              "      fill: #FFFFFF;\n",
              "    }\n",
              "  </style>\n",
              "\n",
              "      <script>\n",
              "        const buttonEl =\n",
              "          document.querySelector('#df-41c09313-a402-46f8-a44f-8b34dd2e1028 button.colab-df-convert');\n",
              "        buttonEl.style.display =\n",
              "          google.colab.kernel.accessAllowed ? 'block' : 'none';\n",
              "\n",
              "        async function convertToInteractive(key) {\n",
              "          const element = document.querySelector('#df-41c09313-a402-46f8-a44f-8b34dd2e1028');\n",
              "          const dataTable =\n",
              "            await google.colab.kernel.invokeFunction('convertToInteractive',\n",
              "                                                     [key], {});\n",
              "          if (!dataTable) return;\n",
              "\n",
              "          const docLinkHtml = 'Like what you see? Visit the ' +\n",
              "            '<a target=\"_blank\" href=https://colab.research.google.com/notebooks/data_table.ipynb>data table notebook</a>'\n",
              "            + ' to learn more about interactive tables.';\n",
              "          element.innerHTML = '';\n",
              "          dataTable['output_type'] = 'display_data';\n",
              "          await google.colab.output.renderOutput(dataTable, element);\n",
              "          const docLink = document.createElement('div');\n",
              "          docLink.innerHTML = docLinkHtml;\n",
              "          element.appendChild(docLink);\n",
              "        }\n",
              "      </script>\n",
              "    </div>\n",
              "  </div>\n",
              "  "
            ]
          },
          "metadata": {},
          "execution_count": 36
        }
      ]
    },
    {
      "cell_type": "code",
      "source": [
        "deaths_forecast_plot = m.plot(forecast)\n"
      ],
      "metadata": {
        "colab": {
          "base_uri": "https://localhost:8080/",
          "height": 441
        },
        "id": "yhCnLkQrHoOt",
        "outputId": "b5ad0cfc-6a4e-478a-d266-1aec2ea1bdb1"
      },
      "execution_count": 37,
      "outputs": [
        {
          "output_type": "display_data",
          "data": {
            "text/plain": [
              "<Figure size 720x432 with 1 Axes>"
            ],
            "image/png": "[encoded data removed]"
          },
          "metadata": {}
        }
      ]
    },
    {
      "cell_type": "code",
      "source": [
        "deaths_forecast_plot = m.plot_components(forecast)\n"
      ],
      "metadata": {
        "colab": {
          "base_uri": "https://localhost:8080/",
          "height": 441
        },
        "id": "U1W5lOE4Hq52",
        "outputId": "24078ed3-93b5-44ca-be55-4c4bf0ce777a"
      },
      "execution_count": 38,
      "outputs": [
        {
          "output_type": "display_data",
          "data": {
            "text/plain": [
              "<Figure size 648x432 with 2 Axes>"
            ],
            "image/png": "[encoded data removed]"
          },
          "metadata": {}
        }
      ]
    },
    {
      "cell_type": "code",
      "source": [
        "recovered.columns = ['ds','y']\n",
        "recovered['ds'] = pd.to_datetime(recovered['ds'])"
      ],
      "metadata": {
        "id": "LGCHnDQaHqzg"
      },
      "execution_count": 39,
      "outputs": []
    },
    {
      "cell_type": "code",
      "source": [
        "m = Prophet(interval_width=0.95)\n",
        "m.fit(recovered)\n",
        "future = m.make_future_dataframe(periods=131)\n",
        "future.tail()"
      ],
      "metadata": {
        "colab": {
          "base_uri": "https://localhost:8080/",
          "height": 417
        },
        "id": "rgztQVbgHt6p",
        "outputId": "f50c43b5-fc52-4677-e200-c63afcdfab0d"
      },
      "execution_count": 40,
      "outputs": [
        {
          "output_type": "stream",
          "name": "stderr",
          "text": [
            "INFO:prophet:Disabling yearly seasonality. Run prophet with yearly_seasonality=True to override this.\n",
            "INFO:prophet:Disabling daily seasonality. Run prophet with daily_seasonality=True to override this.\n",
            "DEBUG:cmdstanpy:input tempfile: /tmp/tmppbtajl73/3yb_dm31.json\n",
            "DEBUG:cmdstanpy:input tempfile: /tmp/tmppbtajl73/vse7lxf5.json\n",
            "DEBUG:cmdstanpy:idx 0\n",
            "DEBUG:cmdstanpy:running CmdStan, num_threads: None\n",
            "DEBUG:cmdstanpy:CmdStan args: ['/usr/local/lib/python3.7/dist-packages/prophet/stan_model/prophet_model.bin', 'random', 'seed=4692', 'data', 'file=/tmp/tmppbtajl73/3yb_dm31.json', 'init=/tmp/tmppbtajl73/vse7lxf5.json', 'output', 'file=/tmp/tmp4xzbiq3t/prophet_model-20221001195615.csv', 'method=optimize', 'algorithm=lbfgs', 'iter=10000']\n",
            "19:56:15 - cmdstanpy - INFO - Chain [1] start processing\n",
            "INFO:cmdstanpy:Chain [1] start processing\n",
            "19:56:15 - cmdstanpy - INFO - Chain [1] done processing\n",
            "INFO:cmdstanpy:Chain [1] done processing\n"
          ]
        },
        {
          "output_type": "execute_result",
          "data": {
            "text/plain": [
              "            ds\n",
              "446 2021-04-12\n",
              "447 2021-04-13\n",
              "448 2021-04-14\n",
              "449 2021-04-15\n",
              "450 2021-04-16"
            ],
            "text/html": [
              "\n",
              "  <div id=\"df-ef0fb175-b156-43ec-a114-3a3ebc19fbcd\">\n",
              "    <div class=\"colab-df-container\">\n",
              "      <div>\n",
              "<style scoped>\n",
              "    .dataframe tbody tr th:only-of-type {\n",
              "        vertical-align: middle;\n",
              "    }\n",
              "\n",
              "    .dataframe tbody tr th {\n",
              "        vertical-align: top;\n",
              "    }\n",
              "\n",
              "    .dataframe thead th {\n",
              "        text-align: right;\n",
              "    }\n",
              "</style>\n",
              "<table border=\"1\" class=\"dataframe\">\n",
              "  <thead>\n",
              "    <tr style=\"text-align: right;\">\n",
              "      <th></th>\n",
              "      <th>ds</th>\n",
              "    </tr>\n",
              "  </thead>\n",
              "  <tbody>\n",
              "    <tr>\n",
              "      <th>446</th>\n",
              "      <td>2021-04-12</td>\n",
              "    </tr>\n",
              "    <tr>\n",
              "      <th>447</th>\n",
              "      <td>2021-04-13</td>\n",
              "    </tr>\n",
              "    <tr>\n",
              "      <th>448</th>\n",
              "      <td>2021-04-14</td>\n",
              "    </tr>\n",
              "    <tr>\n",
              "      <th>449</th>\n",
              "      <td>2021-04-15</td>\n",
              "    </tr>\n",
              "    <tr>\n",
              "      <th>450</th>\n",
              "      <td>2021-04-16</td>\n",
              "    </tr>\n",
              "  </tbody>\n",
              "</table>\n",
              "</div>\n",
              "      <button class=\"colab-df-convert\" onclick=\"convertToInteractive('df-ef0fb175-b156-43ec-a114-3a3ebc19fbcd')\"\n",
              "              title=\"Convert this dataframe to an interactive table.\"\n",
              "              style=\"display:none;\">\n",
              "        \n",
              "  <svg xmlns=\"http://www.w3.org/2000/svg\" height=\"24px\"viewBox=\"0 0 24 24\"\n",
              "       width=\"24px\">\n",
              "    <path d=\"M0 0h24v24H0V0z\" fill=\"none\"/>\n",
              "    <path d=\"M18.56 5.44l.94 2.06.94-2.06 2.06-.94-2.06-.94-.94-2.06-.94 2.06-2.06.94zm-11 1L8.5 8.5l.94-2.06 2.06-.94-2.06-.94L8.5 2.5l-.94 2.06-2.06.94zm10 10l.94 2.06.94-2.06 2.06-.94-2.06-.94-.94-2.06-.94 2.06-2.06.94z\"/><path d=\"M17.41 7.96l-1.37-1.37c-.4-.4-.92-.59-1.43-.59-.52 0-1.04.2-1.43.59L10.3 9.45l-7.72 7.72c-.78.78-.78 2.05 0 2.83L4 21.41c.39.39.9.59 1.41.59.51 0 1.02-.2 1.41-.59l7.78-7.78 2.81-2.81c.8-.78.8-2.07 0-2.86zM5.41 20L4 18.59l7.72-7.72 1.47 1.35L5.41 20z\"/>\n",
              "  </svg>\n",
              "      </button>\n",
              "      \n",
              "  <style>\n",
              "    .colab-df-container {\n",
              "      display:flex;\n",
              "      flex-wrap:wrap;\n",
              "      gap: 12px;\n",
              "    }\n",
              "\n",
              "    .colab-df-convert {\n",
              "      background-color: #E8F0FE;\n",
              "      border: none;\n",
              "      border-radius: 50%;\n",
              "      cursor: pointer;\n",
              "      display: none;\n",
              "      fill: #1967D2;\n",
              "      height: 32px;\n",
              "      padding: 0 0 0 0;\n",
              "      width: 32px;\n",
              "    }\n",
              "\n",
              "    .colab-df-convert:hover {\n",
              "      background-color: #E2EBFA;\n",
              "      box-shadow: 0px 1px 2px rgba(60, 64, 67, 0.3), 0px 1px 3px 1px rgba(60, 64, 67, 0.15);\n",
              "      fill: #174EA6;\n",
              "    }\n",
              "\n",
              "    [theme=dark] .colab-df-convert {\n",
              "      background-color: #3B4455;\n",
              "      fill: #D2E3FC;\n",
              "    }\n",
              "\n",
              "    [theme=dark] .colab-df-convert:hover {\n",
              "      background-color: #434B5C;\n",
              "      box-shadow: 0px 1px 3px 1px rgba(0, 0, 0, 0.15);\n",
              "      filter: drop-shadow(0px 1px 2px rgba(0, 0, 0, 0.3));\n",
              "      fill: #FFFFFF;\n",
              "    }\n",
              "  </style>\n",
              "\n",
              "      <script>\n",
              "        const buttonEl =\n",
              "          document.querySelector('#df-ef0fb175-b156-43ec-a114-3a3ebc19fbcd button.colab-df-convert');\n",
              "        buttonEl.style.display =\n",
              "          google.colab.kernel.accessAllowed ? 'block' : 'none';\n",
              "\n",
              "        async function convertToInteractive(key) {\n",
              "          const element = document.querySelector('#df-ef0fb175-b156-43ec-a114-3a3ebc19fbcd');\n",
              "          const dataTable =\n",
              "            await google.colab.kernel.invokeFunction('convertToInteractive',\n",
              "                                                     [key], {});\n",
              "          if (!dataTable) return;\n",
              "\n",
              "          const docLinkHtml = 'Like what you see? Visit the ' +\n",
              "            '<a target=\"_blank\" href=https://colab.research.google.com/notebooks/data_table.ipynb>data table notebook</a>'\n",
              "            + ' to learn more about interactive tables.';\n",
              "          element.innerHTML = '';\n",
              "          dataTable['output_type'] = 'display_data';\n",
              "          await google.colab.output.renderOutput(dataTable, element);\n",
              "          const docLink = document.createElement('div');\n",
              "          docLink.innerHTML = docLinkHtml;\n",
              "          element.appendChild(docLink);\n",
              "        }\n",
              "      </script>\n",
              "    </div>\n",
              "  </div>\n",
              "  "
            ]
          },
          "metadata": {},
          "execution_count": 40
        }
      ]
    },
    {
      "cell_type": "code",
      "source": [
        "forecast = m.predict(future)\n",
        "forecast[['ds', 'yhat', 'yhat_lower', 'yhat_upper']].tail(100)"
      ],
      "metadata": {
        "colab": {
          "base_uri": "https://localhost:8080/",
          "height": 1000
        },
        "id": "9UdoLwKyHvSx",
        "outputId": "1c315e42-5646-4ae4-e5f7-c1da17aea493"
      },
      "execution_count": 41,
      "outputs": [
        {
          "output_type": "execute_result",
          "data": {
            "text/plain": [
              "            ds         yhat   yhat_lower   yhat_upper\n",
              "351 2021-01-07 50500399.727 49165261.835 51668691.099\n",
              "352 2021-01-08 50768680.751 49369158.402 51953810.498\n",
              "353 2021-01-09 51072035.605 49510117.110 52358002.695\n",
              "354 2021-01-10 51338104.131 49765809.501 52561182.941\n",
              "355 2021-01-11 51583051.726 50001530.321 52887441.216\n",
              "356 2021-01-12 51878077.295 50111768.899 53186977.881\n",
              "357 2021-01-13 52176637.863 50571482.126 53575601.369\n",
              "358 2021-01-14 52458733.289 50671607.535 53948928.104\n",
              "359 2021-01-15 52727014.314 50935329.439 54240973.168\n",
              "360 2021-01-16 53030369.167 51117528.413 54587558.966\n",
              "361 2021-01-17 53296437.694 51351743.469 54969722.603\n",
              "362 2021-01-18 53541385.289 51513110.114 55142938.378\n",
              "363 2021-01-19 53836410.858 51745266.455 55561761.691\n",
              "364 2021-01-20 54134971.426 51971720.357 56007294.335\n",
              "365 2021-01-21 54417066.852 52280950.412 56164718.228\n",
              "366 2021-01-22 54685347.877 52399419.077 56620591.797\n",
              "367 2021-01-23 54988702.730 52564640.895 56844808.336\n",
              "368 2021-01-24 55254771.256 52712693.843 57289864.079\n",
              "369 2021-01-25 55499718.851 53264970.460 57569929.132\n",
              "370 2021-01-26 55794744.421 53289531.980 58083304.567\n",
              "371 2021-01-27 56093304.988 53507416.483 58210316.677\n",
              "372 2021-01-28 56375400.415 53746160.960 58578622.734\n",
              "373 2021-01-29 56643681.439 53826716.700 58978747.728\n",
              "374 2021-01-30 56947036.293 54154413.867 59251777.598\n",
              "375 2021-01-31 57213104.819 54395315.556 59719378.554\n",
              "376 2021-02-01 57458052.414 54512170.735 59883474.575\n",
              "377 2021-02-02 57753077.983 54731933.319 60335855.441\n",
              "378 2021-02-03 58051638.551 55118649.760 60765390.355\n",
              "379 2021-02-04 58333733.977 55256794.593 61090471.974\n",
              "380 2021-02-05 58602015.002 55347888.465 61291196.485\n",
              "381 2021-02-06 58905369.855 55649222.147 61613686.851\n",
              "382 2021-02-07 59171438.382 55974848.648 62011112.926\n",
              "383 2021-02-08 59416385.976 56080818.725 62400589.334\n",
              "384 2021-02-09 59711411.546 56227391.757 62693080.482\n",
              "385 2021-02-10 60009972.114 56411752.940 63120884.475\n",
              "386 2021-02-11 60292067.540 56601562.740 63331048.134\n",
              "387 2021-02-12 60560348.565 56773044.538 63688139.898\n",
              "388 2021-02-13 60863703.418 57285547.550 64319845.758\n",
              "389 2021-02-14 61129771.944 57186049.489 64399827.089\n",
              "390 2021-02-15 61374719.539 57608063.553 64871455.430\n",
              "391 2021-02-16 61669745.109 57858836.272 65094373.865\n",
              "392 2021-02-17 61968305.676 58086850.720 65373635.035\n",
              "393 2021-02-18 62250401.103 58202000.387 65838520.904\n",
              "394 2021-02-19 62518682.127 58388261.417 65972814.490\n",
              "395 2021-02-20 62822036.981 58588432.060 66529276.951\n",
              "396 2021-02-21 63088105.507 58884570.741 67021185.355\n",
              "397 2021-02-22 63333053.102 59014767.736 67217174.643\n",
              "398 2021-02-23 63628078.671 59286542.410 67606695.638\n",
              "399 2021-02-24 63926639.239 59612813.117 68177910.283\n",
              "400 2021-02-25 64208734.665 59679518.508 68381779.804\n",
              "401 2021-02-26 64477015.690 59800039.786 68589279.242\n",
              "402 2021-02-27 64780370.543 60115417.779 68948321.911\n",
              "403 2021-02-28 65046439.070 60264664.275 69319162.012\n",
              "404 2021-03-01 65291386.664 60544968.008 69779839.561\n",
              "405 2021-03-02 65586412.234 60844093.675 69984141.625\n",
              "406 2021-03-03 65884972.802 61043829.164 70522099.025\n",
              "407 2021-03-04 66167068.228 61059741.833 70702740.660\n",
              "408 2021-03-05 66435349.253 61501216.929 70969148.951\n",
              "409 2021-03-06 66738704.106 61579601.452 71602705.516\n",
              "410 2021-03-07 67004772.632 61789884.371 71926563.953\n",
              "411 2021-03-08 67249720.227 62173002.487 72161740.799\n",
              "412 2021-03-09 67544745.797 62223306.846 72565385.300\n",
              "413 2021-03-10 67843306.364 62334686.829 72926416.616\n",
              "414 2021-03-11 68125401.791 62585937.333 73160216.033\n",
              "415 2021-03-12 68393682.815 62674427.504 73487859.350\n",
              "416 2021-03-13 68697037.669 62952331.130 73966917.844\n",
              "417 2021-03-14 68963106.195 63208142.959 73939944.753\n",
              "418 2021-03-15 69208053.790 63399720.478 74835376.259\n",
              "419 2021-03-16 69503079.359 63613645.835 75068594.966\n",
              "420 2021-03-17 69801639.927 63759838.757 75439053.864\n",
              "421 2021-03-18 70083735.353 63892765.482 75662756.929\n",
              "422 2021-03-19 70352016.378 64169358.065 75945748.015\n",
              "423 2021-03-20 70655371.231 64257320.302 76361383.671\n",
              "424 2021-03-21 70921439.758 64355865.279 76713415.657\n",
              "425 2021-03-22 71166387.352 64763401.045 77299175.760\n",
              "426 2021-03-23 71461412.922 65007765.816 77522000.322\n",
              "427 2021-03-24 71759973.490 65321403.731 77726159.490\n",
              "428 2021-03-25 72042068.916 65246468.748 78434874.423\n",
              "429 2021-03-26 72310349.941 65301017.162 78686471.095\n",
              "430 2021-03-27 72613704.794 65591390.930 79076394.883\n",
              "431 2021-03-28 72879773.320 65725343.283 79247921.390\n",
              "432 2021-03-29 73124720.915 66075373.516 79636504.677\n",
              "433 2021-03-30 73419746.485 66235777.439 79971043.384\n",
              "434 2021-03-31 73718307.052 66377397.212 80478910.310\n",
              "435 2021-04-01 74000402.479 66436438.983 80898133.770\n",
              "436 2021-04-02 74268683.503 66766955.764 81308588.415\n",
              "437 2021-04-03 74572038.357 66909660.561 81616199.418\n",
              "438 2021-04-04 74838106.883 67243207.149 81908910.218\n",
              "439 2021-04-05 75083054.478 67475946.265 82069761.301\n",
              "440 2021-04-06 75378080.047 67262878.502 82517749.905\n",
              "441 2021-04-07 75676640.615 67607465.671 82998741.177\n",
              "442 2021-04-08 75958736.041 67843061.470 83109524.158\n",
              "443 2021-04-09 76227017.066 68030443.000 83659258.817\n",
              "444 2021-04-10 76530371.919 68142293.224 84207746.849\n",
              "445 2021-04-11 76796440.446 68566928.797 84325850.421\n",
              "446 2021-04-12 77041388.040 68322864.263 84740659.903\n",
              "447 2021-04-13 77336413.610 68813696.192 85396701.276\n",
              "448 2021-04-14 77634974.178 68732193.139 85701775.272\n",
              "449 2021-04-15 77917069.604 69083021.702 85838361.459\n",
              "450 2021-04-16 78185350.629 69098018.490 86509130.172"
            ],
            "text/html": [
              "\n",
              "  <div id=\"df-58dd9616-40ed-4706-8fa1-b2e005dc4274\">\n",
              "    <div class=\"colab-df-container\">\n",
              "      <div>\n",
              "<style scoped>\n",
              "    .dataframe tbody tr th:only-of-type {\n",
              "        vertical-align: middle;\n",
              "    }\n",
              "\n",
              "    .dataframe tbody tr th {\n",
              "        vertical-align: top;\n",
              "    }\n",
              "\n",
              "    .dataframe thead th {\n",
              "        text-align: right;\n",
              "    }\n",
              "</style>\n",
              "<table border=\"1\" class=\"dataframe\">\n",
              "  <thead>\n",
              "    <tr style=\"text-align: right;\">\n",
              "      <th></th>\n",
              "      <th>ds</th>\n",
              "      <th>yhat</th>\n",
              "      <th>yhat_lower</th>\n",
              "      <th>yhat_upper</th>\n",
              "    </tr>\n",
              "  </thead>\n",
              "  <tbody>\n",
              "    <tr>\n",
              "      <th>351</th>\n",
              "      <td>2021-01-07</td>\n",
              "      <td>50500399.727</td>\n",
              "      <td>49165261.835</td>\n",
              "      <td>51668691.099</td>\n",
              "    </tr>\n",
              "    <tr>\n",
              "      <th>352</th>\n",
              "      <td>2021-01-08</td>\n",
              "      <td>50768680.751</td>\n",
              "      <td>49369158.402</td>\n",
              "      <td>51953810.498</td>\n",
              "    </tr>\n",
              "    <tr>\n",
              "      <th>353</th>\n",
              "      <td>2021-01-09</td>\n",
              "      <td>51072035.605</td>\n",
              "      <td>49510117.110</td>\n",
              "      <td>52358002.695</td>\n",
              "    </tr>\n",
              "    <tr>\n",
              "      <th>354</th>\n",
              "      <td>2021-01-10</td>\n",
              "      <td>51338104.131</td>\n",
              "      <td>49765809.501</td>\n",
              "      <td>52561182.941</td>\n",
              "    </tr>\n",
              "    <tr>\n",
              "      <th>355</th>\n",
              "      <td>2021-01-11</td>\n",
              "      <td>51583051.726</td>\n",
              "      <td>50001530.321</td>\n",
              "      <td>52887441.216</td>\n",
              "    </tr>\n",
              "    <tr>\n",
              "      <th>356</th>\n",
              "      <td>2021-01-12</td>\n",
              "      <td>51878077.295</td>\n",
              "      <td>50111768.899</td>\n",
              "      <td>53186977.881</td>\n",
              "    </tr>\n",
              "    <tr>\n",
              "      <th>357</th>\n",
              "      <td>2021-01-13</td>\n",
              "      <td>52176637.863</td>\n",
              "      <td>50571482.126</td>\n",
              "      <td>53575601.369</td>\n",
              "    </tr>\n",
              "    <tr>\n",
              "      <th>358</th>\n",
              "      <td>2021-01-14</td>\n",
              "      <td>52458733.289</td>\n",
              "      <td>50671607.535</td>\n",
              "      <td>53948928.104</td>\n",
              "    </tr>\n",
              "    <tr>\n",
              "      <th>359</th>\n",
              "      <td>2021-01-15</td>\n",
              "      <td>52727014.314</td>\n",
              "      <td>50935329.439</td>\n",
              "      <td>54240973.168</td>\n",
              "    </tr>\n",
              "    <tr>\n",
              "      <th>360</th>\n",
              "      <td>2021-01-16</td>\n",
              "      <td>53030369.167</td>\n",
              "      <td>51117528.413</td>\n",
              "      <td>54587558.966</td>\n",
              "    </tr>\n",
              "    <tr>\n",
              "      <th>361</th>\n",
              "      <td>2021-01-17</td>\n",
              "      <td>53296437.694</td>\n",
              "      <td>51351743.469</td>\n",
              "      <td>54969722.603</td>\n",
              "    </tr>\n",
              "    <tr>\n",
              "      <th>362</th>\n",
              "      <td>2021-01-18</td>\n",
              "      <td>53541385.289</td>\n",
              "      <td>51513110.114</td>\n",
              "      <td>55142938.378</td>\n",
              "    </tr>\n",
              "    <tr>\n",
              "      <th>363</th>\n",
              "      <td>2021-01-19</td>\n",
              "      <td>53836410.858</td>\n",
              "      <td>51745266.455</td>\n",
              "      <td>55561761.691</td>\n",
              "    </tr>\n",
              "    <tr>\n",
              "      <th>364</th>\n",
              "      <td>2021-01-20</td>\n",
              "      <td>54134971.426</td>\n",
              "      <td>51971720.357</td>\n",
              "      <td>56007294.335</td>\n",
              "    </tr>\n",
              "    <tr>\n",
              "      <th>365</th>\n",
              "      <td>2021-01-21</td>\n",
              "      <td>54417066.852</td>\n",
              "      <td>52280950.412</td>\n",
              "      <td>56164718.228</td>\n",
              "    </tr>\n",
              "    <tr>\n",
              "      <th>366</th>\n",
              "      <td>2021-01-22</td>\n",
              "      <td>54685347.877</td>\n",
              "      <td>52399419.077</td>\n",
              "      <td>56620591.797</td>\n",
              "    </tr>\n",
              "    <tr>\n",
              "      <th>367</th>\n",
              "      <td>2021-01-23</td>\n",
              "      <td>54988702.730</td>\n",
              "      <td>52564640.895</td>\n",
              "      <td>56844808.336</td>\n",
              "    </tr>\n",
              "    <tr>\n",
              "      <th>368</th>\n",
              "      <td>2021-01-24</td>\n",
              "      <td>55254771.256</td>\n",
              "      <td>52712693.843</td>\n",
              "      <td>57289864.079</td>\n",
              "    </tr>\n",
              "    <tr>\n",
              "      <th>369</th>\n",
              "      <td>2021-01-25</td>\n",
              "      <td>55499718.851</td>\n",
              "      <td>53264970.460</td>\n",
              "      <td>57569929.132</td>\n",
              "    </tr>\n",
              "    <tr>\n",
              "      <th>370</th>\n",
              "      <td>2021-01-26</td>\n",
              "      <td>55794744.421</td>\n",
              "      <td>53289531.980</td>\n",
              "      <td>58083304.567</td>\n",
              "    </tr>\n",
              "    <tr>\n",
              "      <th>371</th>\n",
              "      <td>2021-01-27</td>\n",
              "      <td>56093304.988</td>\n",
              "      <td>53507416.483</td>\n",
              "      <td>58210316.677</td>\n",
              "    </tr>\n",
              "    <tr>\n",
              "      <th>372</th>\n",
              "      <td>2021-01-28</td>\n",
              "      <td>56375400.415</td>\n",
              "      <td>53746160.960</td>\n",
              "      <td>58578622.734</td>\n",
              "    </tr>\n",
              "    <tr>\n",
              "      <th>373</th>\n",
              "      <td>2021-01-29</td>\n",
              "      <td>56643681.439</td>\n",
              "      <td>53826716.700</td>\n",
              "      <td>58978747.728</td>\n",
              "    </tr>\n",
              "    <tr>\n",
              "      <th>374</th>\n",
              "      <td>2021-01-30</td>\n",
              "      <td>56947036.293</td>\n",
              "      <td>54154413.867</td>\n",
              "      <td>59251777.598</td>\n",
              "    </tr>\n",
              "    <tr>\n",
              "      <th>375</th>\n",
              "      <td>2021-01-31</td>\n",
              "      <td>57213104.819</td>\n",
              "      <td>54395315.556</td>\n",
              "      <td>59719378.554</td>\n",
              "    </tr>\n",
              "    <tr>\n",
              "      <th>376</th>\n",
              "      <td>2021-02-01</td>\n",
              "      <td>57458052.414</td>\n",
              "      <td>54512170.735</td>\n",
              "      <td>59883474.575</td>\n",
              "    </tr>\n",
              "    <tr>\n",
              "      <th>377</th>\n",
              "      <td>2021-02-02</td>\n",
              "      <td>57753077.983</td>\n",
              "      <td>54731933.319</td>\n",
              "      <td>60335855.441</td>\n",
              "    </tr>\n",
              "    <tr>\n",
              "      <th>378</th>\n",
              "      <td>2021-02-03</td>\n",
              "      <td>58051638.551</td>\n",
              "      <td>55118649.760</td>\n",
              "      <td>60765390.355</td>\n",
              "    </tr>\n",
              "    <tr>\n",
              "      <th>379</th>\n",
              "      <td>2021-02-04</td>\n",
              "      <td>58333733.977</td>\n",
              "      <td>55256794.593</td>\n",
              "      <td>61090471.974</td>\n",
              "    </tr>\n",
              "    <tr>\n",
              "      <th>380</th>\n",
              "      <td>2021-02-05</td>\n",
              "      <td>58602015.002</td>\n",
              "      <td>55347888.465</td>\n",
              "      <td>61291196.485</td>\n",
              "    </tr>\n",
              "    <tr>\n",
              "      <th>381</th>\n",
              "      <td>2021-02-06</td>\n",
              "      <td>58905369.855</td>\n",
              "      <td>55649222.147</td>\n",
              "      <td>61613686.851</td>\n",
              "    </tr>\n",
              "    <tr>\n",
              "      <th>382</th>\n",
              "      <td>2021-02-07</td>\n",
              "      <td>59171438.382</td>\n",
              "      <td>55974848.648</td>\n",
              "      <td>62011112.926</td>\n",
              "    </tr>\n",
              "    <tr>\n",
              "      <th>383</th>\n",
              "      <td>2021-02-08</td>\n",
              "      <td>59416385.976</td>\n",
              "      <td>56080818.725</td>\n",
              "      <td>62400589.334</td>\n",
              "    </tr>\n",
              "    <tr>\n",
              "      <th>384</th>\n",
              "      <td>2021-02-09</td>\n",
              "      <td>59711411.546</td>\n",
              "      <td>56227391.757</td>\n",
              "      <td>62693080.482</td>\n",
              "    </tr>\n",
              "    <tr>\n",
              "      <th>385</th>\n",
              "      <td>2021-02-10</td>\n",
              "      <td>60009972.114</td>\n",
              "      <td>56411752.940</td>\n",
              "      <td>63120884.475</td>\n",
              "    </tr>\n",
              "    <tr>\n",
              "      <th>386</th>\n",
              "      <td>2021-02-11</td>\n",
              "      <td>60292067.540</td>\n",
              "      <td>56601562.740</td>\n",
              "      <td>63331048.134</td>\n",
              "    </tr>\n",
              "    <tr>\n",
              "      <th>387</th>\n",
              "      <td>2021-02-12</td>\n",
              "      <td>60560348.565</td>\n",
              "      <td>56773044.538</td>\n",
              "      <td>63688139.898</td>\n",
              "    </tr>\n",
              "    <tr>\n",
              "      <th>388</th>\n",
              "      <td>2021-02-13</td>\n",
              "      <td>60863703.418</td>\n",
              "      <td>57285547.550</td>\n",
              "      <td>64319845.758</td>\n",
              "    </tr>\n",
              "    <tr>\n",
              "      <th>389</th>\n",
              "      <td>2021-02-14</td>\n",
              "      <td>61129771.944</td>\n",
              "      <td>57186049.489</td>\n",
              "      <td>64399827.089</td>\n",
              "    </tr>\n",
              "    <tr>\n",
              "      <th>390</th>\n",
              "      <td>2021-02-15</td>\n",
              "      <td>61374719.539</td>\n",
              "      <td>57608063.553</td>\n",
              "      <td>64871455.430</td>\n",
              "    </tr>\n",
              "    <tr>\n",
              "      <th>391</th>\n",
              "      <td>2021-02-16</td>\n",
              "      <td>61669745.109</td>\n",
              "      <td>57858836.272</td>\n",
              "      <td>65094373.865</td>\n",
              "    </tr>\n",
              "    <tr>\n",
              "      <th>392</th>\n",
              "      <td>2021-02-17</td>\n",
              "      <td>61968305.676</td>\n",
              "      <td>58086850.720</td>\n",
              "      <td>65373635.035</td>\n",
              "    </tr>\n",
              "    <tr>\n",
              "      <th>393</th>\n",
              "      <td>2021-02-18</td>\n",
              "      <td>62250401.103</td>\n",
              "      <td>58202000.387</td>\n",
              "      <td>65838520.904</td>\n",
              "    </tr>\n",
              "    <tr>\n",
              "      <th>394</th>\n",
              "      <td>2021-02-19</td>\n",
              "      <td>62518682.127</td>\n",
              "      <td>58388261.417</td>\n",
              "      <td>65972814.490</td>\n",
              "    </tr>\n",
              "    <tr>\n",
              "      <th>395</th>\n",
              "      <td>2021-02-20</td>\n",
              "      <td>62822036.981</td>\n",
              "      <td>58588432.060</td>\n",
              "      <td>66529276.951</td>\n",
              "    </tr>\n",
              "    <tr>\n",
              "      <th>396</th>\n",
              "      <td>2021-02-21</td>\n",
              "      <td>63088105.507</td>\n",
              "      <td>58884570.741</td>\n",
              "      <td>67021185.355</td>\n",
              "    </tr>\n",
              "    <tr>\n",
              "      <th>397</th>\n",
              "      <td>2021-02-22</td>\n",
              "      <td>63333053.102</td>\n",
              "      <td>59014767.736</td>\n",
              "      <td>67217174.643</td>\n",
              "    </tr>\n",
              "    <tr>\n",
              "      <th>398</th>\n",
              "      <td>2021-02-23</td>\n",
              "      <td>63628078.671</td>\n",
              "      <td>59286542.410</td>\n",
              "      <td>67606695.638</td>\n",
              "    </tr>\n",
              "    <tr>\n",
              "      <th>399</th>\n",
              "      <td>2021-02-24</td>\n",
              "      <td>63926639.239</td>\n",
              "      <td>59612813.117</td>\n",
              "      <td>68177910.283</td>\n",
              "    </tr>\n",
              "    <tr>\n",
              "      <th>400</th>\n",
              "      <td>2021-02-25</td>\n",
              "      <td>64208734.665</td>\n",
              "      <td>59679518.508</td>\n",
              "      <td>68381779.804</td>\n",
              "    </tr>\n",
              "    <tr>\n",
              "      <th>401</th>\n",
              "      <td>2021-02-26</td>\n",
              "      <td>64477015.690</td>\n",
              "      <td>59800039.786</td>\n",
              "      <td>68589279.242</td>\n",
              "    </tr>\n",
              "    <tr>\n",
              "      <th>402</th>\n",
              "      <td>2021-02-27</td>\n",
              "      <td>64780370.543</td>\n",
              "      <td>60115417.779</td>\n",
              "      <td>68948321.911</td>\n",
              "    </tr>\n",
              "    <tr>\n",
              "      <th>403</th>\n",
              "      <td>2021-02-28</td>\n",
              "      <td>65046439.070</td>\n",
              "      <td>60264664.275</td>\n",
              "      <td>69319162.012</td>\n",
              "    </tr>\n",
              "    <tr>\n",
              "      <th>404</th>\n",
              "      <td>2021-03-01</td>\n",
              "      <td>65291386.664</td>\n",
              "      <td>60544968.008</td>\n",
              "      <td>69779839.561</td>\n",
              "    </tr>\n",
              "    <tr>\n",
              "      <th>405</th>\n",
              "      <td>2021-03-02</td>\n",
              "      <td>65586412.234</td>\n",
              "      <td>60844093.675</td>\n",
              "      <td>69984141.625</td>\n",
              "    </tr>\n",
              "    <tr>\n",
              "      <th>406</th>\n",
              "      <td>2021-03-03</td>\n",
              "      <td>65884972.802</td>\n",
              "      <td>61043829.164</td>\n",
              "      <td>70522099.025</td>\n",
              "    </tr>\n",
              "    <tr>\n",
              "      <th>407</th>\n",
              "      <td>2021-03-04</td>\n",
              "      <td>66167068.228</td>\n",
              "      <td>61059741.833</td>\n",
              "      <td>70702740.660</td>\n",
              "    </tr>\n",
              "    <tr>\n",
              "      <th>408</th>\n",
              "      <td>2021-03-05</td>\n",
              "      <td>66435349.253</td>\n",
              "      <td>61501216.929</td>\n",
              "      <td>70969148.951</td>\n",
              "    </tr>\n",
              "    <tr>\n",
              "      <th>409</th>\n",
              "      <td>2021-03-06</td>\n",
              "      <td>66738704.106</td>\n",
              "      <td>61579601.452</td>\n",
              "      <td>71602705.516</td>\n",
              "    </tr>\n",
              "    <tr>\n",
              "      <th>410</th>\n",
              "      <td>2021-03-07</td>\n",
              "      <td>67004772.632</td>\n",
              "      <td>61789884.371</td>\n",
              "      <td>71926563.953</td>\n",
              "    </tr>\n",
              "    <tr>\n",
              "      <th>411</th>\n",
              "      <td>2021-03-08</td>\n",
              "      <td>67249720.227</td>\n",
              "      <td>62173002.487</td>\n",
              "      <td>72161740.799</td>\n",
              "    </tr>\n",
              "    <tr>\n",
              "      <th>412</th>\n",
              "      <td>2021-03-09</td>\n",
              "      <td>67544745.797</td>\n",
              "      <td>62223306.846</td>\n",
              "      <td>72565385.300</td>\n",
              "    </tr>\n",
              "    <tr>\n",
              "      <th>413</th>\n",
              "      <td>2021-03-10</td>\n",
              "      <td>67843306.364</td>\n",
              "      <td>62334686.829</td>\n",
              "      <td>72926416.616</td>\n",
              "    </tr>\n",
              "    <tr>\n",
              "      <th>414</th>\n",
              "      <td>2021-03-11</td>\n",
              "      <td>68125401.791</td>\n",
              "      <td>62585937.333</td>\n",
              "      <td>73160216.033</td>\n",
              "    </tr>\n",
              "    <tr>\n",
              "      <th>415</th>\n",
              "      <td>2021-03-12</td>\n",
              "      <td>68393682.815</td>\n",
              "      <td>62674427.504</td>\n",
              "      <td>73487859.350</td>\n",
              "    </tr>\n",
              "    <tr>\n",
              "      <th>416</th>\n",
              "      <td>2021-03-13</td>\n",
              "      <td>68697037.669</td>\n",
              "      <td>62952331.130</td>\n",
              "      <td>73966917.844</td>\n",
              "    </tr>\n",
              "    <tr>\n",
              "      <th>417</th>\n",
              "      <td>2021-03-14</td>\n",
              "      <td>68963106.195</td>\n",
              "      <td>63208142.959</td>\n",
              "      <td>73939944.753</td>\n",
              "    </tr>\n",
              "    <tr>\n",
              "      <th>418</th>\n",
              "      <td>2021-03-15</td>\n",
              "      <td>69208053.790</td>\n",
              "      <td>63399720.478</td>\n",
              "      <td>74835376.259</td>\n",
              "    </tr>\n",
              "    <tr>\n",
              "      <th>419</th>\n",
              "      <td>2021-03-16</td>\n",
              "      <td>69503079.359</td>\n",
              "      <td>63613645.835</td>\n",
              "      <td>75068594.966</td>\n",
              "    </tr>\n",
              "    <tr>\n",
              "      <th>420</th>\n",
              "      <td>2021-03-17</td>\n",
              "      <td>69801639.927</td>\n",
              "      <td>63759838.757</td>\n",
              "      <td>75439053.864</td>\n",
              "    </tr>\n",
              "    <tr>\n",
              "      <th>421</th>\n",
              "      <td>2021-03-18</td>\n",
              "      <td>70083735.353</td>\n",
              "      <td>63892765.482</td>\n",
              "      <td>75662756.929</td>\n",
              "    </tr>\n",
              "    <tr>\n",
              "      <th>422</th>\n",
              "      <td>2021-03-19</td>\n",
              "      <td>70352016.378</td>\n",
              "      <td>64169358.065</td>\n",
              "      <td>75945748.015</td>\n",
              "    </tr>\n",
              "    <tr>\n",
              "      <th>423</th>\n",
              "      <td>2021-03-20</td>\n",
              "      <td>70655371.231</td>\n",
              "      <td>64257320.302</td>\n",
              "      <td>76361383.671</td>\n",
              "    </tr>\n",
              "    <tr>\n",
              "      <th>424</th>\n",
              "      <td>2021-03-21</td>\n",
              "      <td>70921439.758</td>\n",
              "      <td>64355865.279</td>\n",
              "      <td>76713415.657</td>\n",
              "    </tr>\n",
              "    <tr>\n",
              "      <th>425</th>\n",
              "      <td>2021-03-22</td>\n",
              "      <td>71166387.352</td>\n",
              "      <td>64763401.045</td>\n",
              "      <td>77299175.760</td>\n",
              "    </tr>\n",
              "    <tr>\n",
              "      <th>426</th>\n",
              "      <td>2021-03-23</td>\n",
              "      <td>71461412.922</td>\n",
              "      <td>65007765.816</td>\n",
              "      <td>77522000.322</td>\n",
              "    </tr>\n",
              "    <tr>\n",
              "      <th>427</th>\n",
              "      <td>2021-03-24</td>\n",
              "      <td>71759973.490</td>\n",
              "      <td>65321403.731</td>\n",
              "      <td>77726159.490</td>\n",
              "    </tr>\n",
              "    <tr>\n",
              "      <th>428</th>\n",
              "      <td>2021-03-25</td>\n",
              "      <td>72042068.916</td>\n",
              "      <td>65246468.748</td>\n",
              "      <td>78434874.423</td>\n",
              "    </tr>\n",
              "    <tr>\n",
              "      <th>429</th>\n",
              "      <td>2021-03-26</td>\n",
              "      <td>72310349.941</td>\n",
              "      <td>65301017.162</td>\n",
              "      <td>78686471.095</td>\n",
              "    </tr>\n",
              "    <tr>\n",
              "      <th>430</th>\n",
              "      <td>2021-03-27</td>\n",
              "      <td>72613704.794</td>\n",
              "      <td>65591390.930</td>\n",
              "      <td>79076394.883</td>\n",
              "    </tr>\n",
              "    <tr>\n",
              "      <th>431</th>\n",
              "      <td>2021-03-28</td>\n",
              "      <td>72879773.320</td>\n",
              "      <td>65725343.283</td>\n",
              "      <td>79247921.390</td>\n",
              "    </tr>\n",
              "    <tr>\n",
              "      <th>432</th>\n",
              "      <td>2021-03-29</td>\n",
              "      <td>73124720.915</td>\n",
              "      <td>66075373.516</td>\n",
              "      <td>79636504.677</td>\n",
              "    </tr>\n",
              "    <tr>\n",
              "      <th>433</th>\n",
              "      <td>2021-03-30</td>\n",
              "      <td>73419746.485</td>\n",
              "      <td>66235777.439</td>\n",
              "      <td>79971043.384</td>\n",
              "    </tr>\n",
              "    <tr>\n",
              "      <th>434</th>\n",
              "      <td>2021-03-31</td>\n",
              "      <td>73718307.052</td>\n",
              "      <td>66377397.212</td>\n",
              "      <td>80478910.310</td>\n",
              "    </tr>\n",
              "    <tr>\n",
              "      <th>435</th>\n",
              "      <td>2021-04-01</td>\n",
              "      <td>74000402.479</td>\n",
              "      <td>66436438.983</td>\n",
              "      <td>80898133.770</td>\n",
              "    </tr>\n",
              "    <tr>\n",
              "      <th>436</th>\n",
              "      <td>2021-04-02</td>\n",
              "      <td>74268683.503</td>\n",
              "      <td>66766955.764</td>\n",
              "      <td>81308588.415</td>\n",
              "    </tr>\n",
              "    <tr>\n",
              "      <th>437</th>\n",
              "      <td>2021-04-03</td>\n",
              "      <td>74572038.357</td>\n",
              "      <td>66909660.561</td>\n",
              "      <td>81616199.418</td>\n",
              "    </tr>\n",
              "    <tr>\n",
              "      <th>438</th>\n",
              "      <td>2021-04-04</td>\n",
              "      <td>74838106.883</td>\n",
              "      <td>67243207.149</td>\n",
              "      <td>81908910.218</td>\n",
              "    </tr>\n",
              "    <tr>\n",
              "      <th>439</th>\n",
              "      <td>2021-04-05</td>\n",
              "      <td>75083054.478</td>\n",
              "      <td>67475946.265</td>\n",
              "      <td>82069761.301</td>\n",
              "    </tr>\n",
              "    <tr>\n",
              "      <th>440</th>\n",
              "      <td>2021-04-06</td>\n",
              "      <td>75378080.047</td>\n",
              "      <td>67262878.502</td>\n",
              "      <td>82517749.905</td>\n",
              "    </tr>\n",
              "    <tr>\n",
              "      <th>441</th>\n",
              "      <td>2021-04-07</td>\n",
              "      <td>75676640.615</td>\n",
              "      <td>67607465.671</td>\n",
              "      <td>82998741.177</td>\n",
              "    </tr>\n",
              "    <tr>\n",
              "      <th>442</th>\n",
              "      <td>2021-04-08</td>\n",
              "      <td>75958736.041</td>\n",
              "      <td>67843061.470</td>\n",
              "      <td>83109524.158</td>\n",
              "    </tr>\n",
              "    <tr>\n",
              "      <th>443</th>\n",
              "      <td>2021-04-09</td>\n",
              "      <td>76227017.066</td>\n",
              "      <td>68030443.000</td>\n",
              "      <td>83659258.817</td>\n",
              "    </tr>\n",
              "    <tr>\n",
              "      <th>444</th>\n",
              "      <td>2021-04-10</td>\n",
              "      <td>76530371.919</td>\n",
              "      <td>68142293.224</td>\n",
              "      <td>84207746.849</td>\n",
              "    </tr>\n",
              "    <tr>\n",
              "      <th>445</th>\n",
              "      <td>2021-04-11</td>\n",
              "      <td>76796440.446</td>\n",
              "      <td>68566928.797</td>\n",
              "      <td>84325850.421</td>\n",
              "    </tr>\n",
              "    <tr>\n",
              "      <th>446</th>\n",
              "      <td>2021-04-12</td>\n",
              "      <td>77041388.040</td>\n",
              "      <td>68322864.263</td>\n",
              "      <td>84740659.903</td>\n",
              "    </tr>\n",
              "    <tr>\n",
              "      <th>447</th>\n",
              "      <td>2021-04-13</td>\n",
              "      <td>77336413.610</td>\n",
              "      <td>68813696.192</td>\n",
              "      <td>85396701.276</td>\n",
              "    </tr>\n",
              "    <tr>\n",
              "      <th>448</th>\n",
              "      <td>2021-04-14</td>\n",
              "      <td>77634974.178</td>\n",
              "      <td>68732193.139</td>\n",
              "      <td>85701775.272</td>\n",
              "    </tr>\n",
              "    <tr>\n",
              "      <th>449</th>\n",
              "      <td>2021-04-15</td>\n",
              "      <td>77917069.604</td>\n",
              "      <td>69083021.702</td>\n",
              "      <td>85838361.459</td>\n",
              "    </tr>\n",
              "    <tr>\n",
              "      <th>450</th>\n",
              "      <td>2021-04-16</td>\n",
              "      <td>78185350.629</td>\n",
              "      <td>69098018.490</td>\n",
              "      <td>86509130.172</td>\n",
              "    </tr>\n",
              "  </tbody>\n",
              "</table>\n",
              "</div>\n",
              "      <button class=\"colab-df-convert\" onclick=\"convertToInteractive('df-58dd9616-40ed-4706-8fa1-b2e005dc4274')\"\n",
              "              title=\"Convert this dataframe to an interactive table.\"\n",
              "              style=\"display:none;\">\n",
              "        \n",
              "  <svg xmlns=\"http://www.w3.org/2000/svg\" height=\"24px\"viewBox=\"0 0 24 24\"\n",
              "       width=\"24px\">\n",
              "    <path d=\"M0 0h24v24H0V0z\" fill=\"none\"/>\n",
              "    <path d=\"M18.56 5.44l.94 2.06.94-2.06 2.06-.94-2.06-.94-.94-2.06-.94 2.06-2.06.94zm-11 1L8.5 8.5l.94-2.06 2.06-.94-2.06-.94L8.5 2.5l-.94 2.06-2.06.94zm10 10l.94 2.06.94-2.06 2.06-.94-2.06-.94-.94-2.06-.94 2.06-2.06.94z\"/><path d=\"M17.41 7.96l-1.37-1.37c-.4-.4-.92-.59-1.43-.59-.52 0-1.04.2-1.43.59L10.3 9.45l-7.72 7.72c-.78.78-.78 2.05 0 2.83L4 21.41c.39.39.9.59 1.41.59.51 0 1.02-.2 1.41-.59l7.78-7.78 2.81-2.81c.8-.78.8-2.07 0-2.86zM5.41 20L4 18.59l7.72-7.72 1.47 1.35L5.41 20z\"/>\n",
              "  </svg>\n",
              "      </button>\n",
              "      \n",
              "  <style>\n",
              "    .colab-df-container {\n",
              "      display:flex;\n",
              "      flex-wrap:wrap;\n",
              "      gap: 12px;\n",
              "    }\n",
              "\n",
              "    .colab-df-convert {\n",
              "      background-color: #E8F0FE;\n",
              "      border: none;\n",
              "      border-radius: 50%;\n",
              "      cursor: pointer;\n",
              "      display: none;\n",
              "      fill: #1967D2;\n",
              "      height: 32px;\n",
              "      padding: 0 0 0 0;\n",
              "      width: 32px;\n",
              "    }\n",
              "\n",
              "    .colab-df-convert:hover {\n",
              "      background-color: #E2EBFA;\n",
              "      box-shadow: 0px 1px 2px rgba(60, 64, 67, 0.3), 0px 1px 3px 1px rgba(60, 64, 67, 0.15);\n",
              "      fill: #174EA6;\n",
              "    }\n",
              "\n",
              "    [theme=dark] .colab-df-convert {\n",
              "      background-color: #3B4455;\n",
              "      fill: #D2E3FC;\n",
              "    }\n",
              "\n",
              "    [theme=dark] .colab-df-convert:hover {\n",
              "      background-color: #434B5C;\n",
              "      box-shadow: 0px 1px 3px 1px rgba(0, 0, 0, 0.15);\n",
              "      filter: drop-shadow(0px 1px 2px rgba(0, 0, 0, 0.3));\n",
              "      fill: #FFFFFF;\n",
              "    }\n",
              "  </style>\n",
              "\n",
              "      <script>\n",
              "        const buttonEl =\n",
              "          document.querySelector('#df-58dd9616-40ed-4706-8fa1-b2e005dc4274 button.colab-df-convert');\n",
              "        buttonEl.style.display =\n",
              "          google.colab.kernel.accessAllowed ? 'block' : 'none';\n",
              "\n",
              "        async function convertToInteractive(key) {\n",
              "          const element = document.querySelector('#df-58dd9616-40ed-4706-8fa1-b2e005dc4274');\n",
              "          const dataTable =\n",
              "            await google.colab.kernel.invokeFunction('convertToInteractive',\n",
              "                                                     [key], {});\n",
              "          if (!dataTable) return;\n",
              "\n",
              "          const docLinkHtml = 'Like what you see? Visit the ' +\n",
              "            '<a target=\"_blank\" href=https://colab.research.google.com/notebooks/data_table.ipynb>data table notebook</a>'\n",
              "            + ' to learn more about interactive tables.';\n",
              "          element.innerHTML = '';\n",
              "          dataTable['output_type'] = 'display_data';\n",
              "          await google.colab.output.renderOutput(dataTable, element);\n",
              "          const docLink = document.createElement('div');\n",
              "          docLink.innerHTML = docLinkHtml;\n",
              "          element.appendChild(docLink);\n",
              "        }\n",
              "      </script>\n",
              "    </div>\n",
              "  </div>\n",
              "  "
            ]
          },
          "metadata": {},
          "execution_count": 41
        }
      ]
    },
    {
      "cell_type": "code",
      "source": [
        "recovered_forecast_plot = m.plot(forecast)\n"
      ],
      "metadata": {
        "colab": {
          "base_uri": "https://localhost:8080/",
          "height": 441
        },
        "id": "atP0bfT6HwG_",
        "outputId": "2095b142-0daa-4af9-bfce-1593c49d28ff"
      },
      "execution_count": 42,
      "outputs": [
        {
          "output_type": "display_data",
          "data": {
            "text/plain": [
              "<Figure size 720x432 with 1 Axes>"
            ],
            "image/png": "[encoded data removed]"
          },
          "metadata": {}
        }
      ]
    },
    {
      "cell_type": "code",
      "source": [
        "recovered_forecast_plot = m.plot_components(forecast)\n"
      ],
      "metadata": {
        "colab": {
          "base_uri": "https://localhost:8080/",
          "height": 441
        },
        "id": "J9CFUGJXH4O2",
        "outputId": "821c2c5c-d6f4-4571-8b30-a5e3a92e9026"
      },
      "execution_count": 43,
      "outputs": [
        {
          "output_type": "display_data",
          "data": {
            "text/plain": [
              "<Figure size 648x432 with 2 Axes>"
            ],
            "image/png": "[encoded data removed]"
          },
          "metadata": {}
        }
      ]
    }
  ]
}