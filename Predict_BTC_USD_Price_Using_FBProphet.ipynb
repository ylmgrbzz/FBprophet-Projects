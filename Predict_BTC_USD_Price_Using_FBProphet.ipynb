{
  "nbformat": 4,
  "nbformat_minor": 0,
  "metadata": {
    "colab": {
      "provenance": [],
      "authorship_tag": "ABX9TyO5lYkoDvc/4gFHDgnrhNhV",
      "include_colab_link": true
    },
    "kernelspec": {
      "name": "python3",
      "display_name": "Python 3"
    },
    "language_info": {
      "name": "python"
    }
  },
  "cells": [
    {
      "cell_type": "markdown",
      "metadata": {
        "id": "view-in-github",
        "colab_type": "text"
      },
      "source": [
        "<a href=\"https://colab.research.google.com/github/ylmgrbzz/FbProphet-Projects/blob/main/Predict_BTC_USD_Price_Using_FBProphet.ipynb\" target=\"_parent\"><img src=\"https://colab.research.google.com/assets/colab-badge.svg\" alt=\"Open In Colab\"/></a>"
      ]
    },
    {
      "cell_type": "code",
      "execution_count": null,
      "metadata": {
        "id": "xclN2JaE_DAu"
      },
      "outputs": [],
      "source": [
        "pip install prophet"
      ]
    },
    {
      "cell_type": "code",
      "source": [
        "pip install yfinance"
      ],
      "metadata": {
        "id": "zISIw2YK_HPa"
      },
      "execution_count": null,
      "outputs": []
    },
    {
      "cell_type": "code",
      "source": [
        "import pandas as pd\n",
        "import seaborn as sns\n",
        "from prophet import Prophet \n",
        "import yfinance as yf\n",
        "import matplotlib.pyplot as plt\n",
        "from prophet.plot import plot_plotly"
      ],
      "metadata": {
        "id": "VlI8sXep_TOD"
      },
      "execution_count": 35,
      "outputs": []
    },
    {
      "cell_type": "code",
      "source": [
        "df= yf.download(\"BTC-USD\")"
      ],
      "metadata": {
        "id": "FVhBbJ87_fnp"
      },
      "execution_count": null,
      "outputs": []
    },
    {
      "cell_type": "code",
      "source": [
        "df.head(3)"
      ],
      "metadata": {
        "id": "2ZQeUZpY_nVN"
      },
      "execution_count": null,
      "outputs": []
    },
    {
      "cell_type": "code",
      "source": [
        "df.reset_index(inplace=True)\n",
        "df=df[[\"Date\",\"Adj Close\"]]"
      ],
      "metadata": {
        "id": "IrQ3yb1O_rBu"
      },
      "execution_count": 38,
      "outputs": []
    },
    {
      "cell_type": "code",
      "source": [
        "df.head(3)"
      ],
      "metadata": {
        "id": "BXs8HQv8_3WD"
      },
      "execution_count": null,
      "outputs": []
    },
    {
      "cell_type": "code",
      "source": [
        "df.columns= [\"ds\",\"y\"]\n",
        "df.head(3)"
      ],
      "metadata": {
        "id": "0g-RC2s0_4q5"
      },
      "execution_count": null,
      "outputs": []
    },
    {
      "cell_type": "code",
      "source": [
        "model = Prophet()\n",
        "model.fit(df)"
      ],
      "metadata": {
        "id": "Y1l4Qk1NAMCp"
      },
      "execution_count": null,
      "outputs": []
    },
    {
      "cell_type": "code",
      "source": [
        "model.component_modes"
      ],
      "metadata": {
        "id": "eI1Se0kCAiCV"
      },
      "execution_count": null,
      "outputs": []
    },
    {
      "cell_type": "code",
      "source": [
        "df.tail()"
      ],
      "metadata": {
        "id": "o-Gsl6fsAwJO"
      },
      "execution_count": null,
      "outputs": []
    },
    {
      "cell_type": "code",
      "source": [
        "future_dates=model.make_future_dataframe(periods=60)"
      ],
      "metadata": {
        "id": "We5Z8YxAA6AS"
      },
      "execution_count": 44,
      "outputs": []
    },
    {
      "cell_type": "code",
      "source": [
        "future_dates.tail()"
      ],
      "metadata": {
        "id": "O-aa23XfBEWm"
      },
      "execution_count": null,
      "outputs": []
    },
    {
      "cell_type": "code",
      "source": [
        "prediction= model.predict(future_dates)\n",
        "prediction.tail()"
      ],
      "metadata": {
        "id": "rWRtmeRfBNsx"
      },
      "execution_count": null,
      "outputs": []
    },
    {
      "cell_type": "code",
      "source": [
        "fig= model.plot(prediction)"
      ],
      "metadata": {
        "id": "qMUTun5yBfP1"
      },
      "execution_count": null,
      "outputs": []
    },
    {
      "cell_type": "code",
      "source": [
        "plot_plotly(model,prediction)"
      ],
      "metadata": {
        "id": "d5tU3L_0BjRB"
      },
      "execution_count": null,
      "outputs": []
    },
    {
      "cell_type": "code",
      "source": [
        "fig2= model.plot_components(prediction)"
      ],
      "metadata": {
        "id": "NViSduehBtXM"
      },
      "execution_count": null,
      "outputs": []
    },
    {
      "cell_type": "code",
      "source": [
        "from prophet.diagnostics import cross_validation\n",
        "from prophet.diagnostics import performance_metrics"
      ],
      "metadata": {
        "id": "MGVDtlIqB0Fx"
      },
      "execution_count": 50,
      "outputs": []
    },
    {
      "cell_type": "code",
      "source": [
        "df_cv= cross_validation(model,horizon=60)"
      ],
      "metadata": {
        "id": "54Sb3FSCJPPy"
      },
      "execution_count": null,
      "outputs": []
    },
    {
      "cell_type": "code",
      "source": [
        "df_cv.tail()"
      ],
      "metadata": {
        "id": "Mi7H4bmLJQFS"
      },
      "execution_count": null,
      "outputs": []
    },
    {
      "cell_type": "code",
      "source": [
        "df_performance = performance_metrics(df_cv)"
      ],
      "metadata": {
        "id": "QDUrQDlpJQ09"
      },
      "execution_count": null,
      "outputs": []
    },
    {
      "cell_type": "code",
      "source": [
        "df_performance"
      ],
      "metadata": {
        "id": "DNbeWEunJRaI"
      },
      "execution_count": null,
      "outputs": []
    },
    {
      "cell_type": "code",
      "source": [
        "from fbprophet import plot\n",
        "fig2= plot.plot_cross_validation_metric(df_cv,metric=\"mape\")"
      ],
      "metadata": {
        "id": "7BXjmHg6JSPP"
      },
      "execution_count": null,
      "outputs": []
    }
  ]
}